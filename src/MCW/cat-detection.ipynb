{
 "metadata": {
  "kernelspec": {
   "language": "python",
   "display_name": "Python 3",
   "name": "python3"
  },
  "language_info": {
   "name": "python",
   "version": "3.11.11",
   "mimetype": "text/x-python",
   "codemirror_mode": {
    "name": "ipython",
    "version": 3
   },
   "pygments_lexer": "ipython3",
   "nbconvert_exporter": "python",
   "file_extension": ".py"
  },
  "kaggle": {
   "accelerator": "nvidiaTeslaT4",
   "dataSources": [
    {
     "sourceId": 11768847,
     "sourceType": "datasetVersion",
     "datasetId": 7388469
    },
    {
     "sourceId": 11770476,
     "sourceType": "datasetVersion",
     "datasetId": 7389636
    }
   ],
   "dockerImageVersionId": 31011,
   "isInternetEnabled": true,
   "language": "python",
   "sourceType": "notebook",
   "isGpuEnabled": true
  }
 },
 "nbformat_minor": 4,
 "nbformat": 4,
 "cells": [
  {
   "cell_type": "code",
   "source": [
    "# !pip install albumentations opencv-python --quiet\n",
    "\n",
    "import os\n",
    "import cv2\n",
    "import albumentations as A\n",
    "\n",
    "# Шляхи\n",
    "input_dir = \"/kaggle/input/initial-yolo-cats/cats-yolo-dataset\"\n",
    "output_dir = \"/kaggle/working/cats-yolo-dataset-aug\"\n",
    "num_aug_per_image = 7\n",
    "\n",
    "# Функції перетворення форматів bbox\n",
    "def yolo_to_voc(bbox, img_w, img_h):\n",
    "    x, y, w, h = bbox\n",
    "    x_center = x * img_w\n",
    "    y_center = y * img_h\n",
    "    w *= img_w\n",
    "    h *= img_h\n",
    "    x_min = x_center - w / 2\n",
    "    y_min = y_center - h / 2\n",
    "    x_max = x_center + w / 2\n",
    "    y_max = y_center + h / 2\n",
    "    return [x_min, y_min, x_max, y_max]\n",
    "\n",
    "def voc_to_yolo(bbox, img_w, img_h):\n",
    "    x_min, y_min, x_max, y_max = bbox\n",
    "    x_min = max(0.0, min(x_min, img_w - 1))\n",
    "    y_min = max(0.0, min(y_min, img_h - 1))\n",
    "    x_max = max(0.0, min(x_max, img_w - 1))\n",
    "    y_max = max(0.0, min(y_max, img_h - 1))\n",
    "    x_center = (x_min + x_max) / 2 / img_w\n",
    "    y_center = (y_min + y_max) / 2 / img_h\n",
    "    w = (x_max - x_min) / img_w\n",
    "    h = (y_max - y_min) / img_h\n",
    "    return [\n",
    "        max(0.0, min(1.0, x_center)),\n",
    "        max(0.0, min(1.0, y_center)),\n",
    "        max(0.0, min(1.0, w)),\n",
    "        max(0.0, min(1.0, h)),\n",
    "    ]\n",
    "\n",
    "def clip_voc_bbox(bbox, img_w, img_h):\n",
    "    x_min, y_min, x_max, y_max = bbox\n",
    "    return [\n",
    "        max(0.0, min(x_min, img_w - 1)),\n",
    "        max(0.0, min(y_min, img_h - 1)),\n",
    "        max(0.0, min(x_max, img_w - 1)),\n",
    "        max(0.0, min(y_max, img_h - 1)),\n",
    "    ]\n",
    "\n",
    "# Створення директорій\n",
    "for split in [\"train\", \"valid\"]:\n",
    "    os.makedirs(f\"{output_dir}/images/{split}\", exist_ok=True)\n",
    "    os.makedirs(f\"{output_dir}/labels/{split}\", exist_ok=True)\n",
    "\n",
    "# Пайплайн аугментацій\n",
    "transform = A.Compose([\n",
    "    A.HorizontalFlip(p=0.5),\n",
    "    A.RandomBrightnessContrast(p=0.5),\n",
    "    A.Rotate(limit=10, p=0.3, border_mode=cv2.BORDER_CONSTANT),\n",
    "    A.Blur(blur_limit=3, p=0.1),\n",
    "    A.RandomScale(scale_limit=0.2, p=0.3),\n",
    "    A.ColorJitter(brightness=0.2, contrast=0.2, saturation=0.2, hue=0.05, p=0.2),\n",
    "    A.ShiftScaleRotate(shift_limit=0.05, scale_limit=0.0, rotate_limit=0, p=0.3, border_mode=cv2.BORDER_CONSTANT)\n",
    "], bbox_params=A.BboxParams(\n",
    "    format='pascal_voc',\n",
    "    label_fields=['class_labels'],\n",
    "    min_visibility=0.01,\n",
    "    check_each_transform=True\n",
    "))\n",
    "\n",
    "bad_boxes_total = 0\n",
    "skipped_augs = 0\n",
    "\n",
    "for split in [\"train\", \"valid\"]:\n",
    "    img_dir = os.path.join(input_dir, split, \"images\")\n",
    "    lbl_dir = os.path.join(input_dir, split, \"labels\")\n",
    "\n",
    "    for fname in os.listdir(img_dir):\n",
    "        if not fname.endswith(\".jpg\"):\n",
    "            continue\n",
    "\n",
    "        img_path = os.path.join(img_dir, fname)\n",
    "        lbl_path = os.path.join(lbl_dir, fname.replace(\".jpg\", \".txt\"))\n",
    "\n",
    "        image = cv2.imread(img_path)\n",
    "        if image is None or not os.path.exists(lbl_path):\n",
    "            continue\n",
    "\n",
    "        h, w = image.shape[:2]\n",
    "        with open(lbl_path, \"r\") as f:\n",
    "            lines = f.read().strip().split(\"\\n\")\n",
    "        boxes_yolo = []\n",
    "        class_labels = []\n",
    "        for line in lines:\n",
    "            if not line.strip():\n",
    "                continue\n",
    "            parts = line.strip().split()\n",
    "            cls = int(parts[0])\n",
    "            bbox = list(map(float, parts[1:]))\n",
    "            if all(0.0 <= b <= 1.0 for b in bbox):\n",
    "                boxes_yolo.append(bbox)\n",
    "                class_labels.append(cls)\n",
    "            else:\n",
    "                bad_boxes_total += 1\n",
    "\n",
    "        if not boxes_yolo:\n",
    "            continue\n",
    "\n",
    "        boxes_voc = [clip_voc_bbox(yolo_to_voc(b, w, h), w, h) for b in boxes_yolo]\n",
    "\n",
    "        # Зберігаємо оригінал\n",
    "        cv2.imwrite(os.path.join(output_dir, \"images\", split, fname), image)\n",
    "        with open(os.path.join(output_dir, \"labels\", split, fname.replace(\".jpg\", \".txt\")), \"w\") as f:\n",
    "            for cls, b in zip(class_labels, boxes_yolo):\n",
    "                f.write(f\"{int(cls)} {' '.join(f'{v:.6f}' for v in b)}\\n\")\n",
    "\n",
    "        # Аугментація\n",
    "        for i in range(num_aug_per_image):\n",
    "            try:\n",
    "                augmented = transform(image=image, bboxes=boxes_voc, class_labels=class_labels)\n",
    "                aug_img = augmented[\"image\"]\n",
    "                aug_boxes_voc = augmented[\"bboxes\"]\n",
    "                aug_labels = augmented[\"class_labels\"]\n",
    "\n",
    "                if not aug_boxes_voc:\n",
    "                    skipped_augs += 1\n",
    "                    continue\n",
    "\n",
    "                aug_boxes_yolo = [voc_to_yolo(b, aug_img.shape[1], aug_img.shape[0]) for b in aug_boxes_voc]\n",
    "                aug_name = fname.replace(\".jpg\", f\"_aug{i}.jpg\")\n",
    "\n",
    "                cv2.imwrite(os.path.join(output_dir, \"images\", split, aug_name), aug_img)\n",
    "                with open(os.path.join(output_dir, \"labels\", split, aug_name.replace(\".jpg\", \".txt\")), \"w\") as f:\n",
    "                    for cls, b in zip(aug_labels, aug_boxes_yolo):\n",
    "                        f.write(f\"{int(cls)} {' '.join(f'{v:.6f}' for v in b)}\\n\")\n",
    "            except Exception as e:\n",
    "                print(f\"[!] Помилка при аугментації {fname} (i={i}): {e}\")\n",
    "                skipped_augs += 1\n",
    "\n",
    "print(\"✅ Аугментація завершена.\")\n",
    "print(f\"❗️ Пропущено невалідних боксів: {bad_boxes_total}\")\n",
    "print(f\"⚠️ Пропущено аугментацій через помилки: {skipped_augs}\")\n",
    "print(f\"📁 Результат збережено у {output_dir}/\")\n"
   ],
   "metadata": {
    "_uuid": "8f2839f25d086af736a60e9eeb907d3b93b6e0e5",
    "_cell_guid": "b1076dfc-b9ad-4769-8c92-a6c4dae69d19",
    "trusted": true,
    "execution": {
     "iopub.status.busy": "2025-05-11T08:28:44.125241Z",
     "iopub.execute_input": "2025-05-11T08:28:44.125520Z",
     "iopub.status.idle": "2025-05-11T08:28:53.542092Z",
     "shell.execute_reply.started": "2025-05-11T08:28:44.125497Z",
     "shell.execute_reply": "2025-05-11T08:28:53.541306Z"
    }
   },
   "outputs": [
    {
     "name": "stderr",
     "text": "/usr/local/lib/python3.11/dist-packages/albumentations/__init__.py:28: UserWarning: A new version of Albumentations is available: '2.0.6' (you have '2.0.4'). Upgrade using: pip install -U albumentations. To disable automatic update checks, set the environment variable NO_ALBUMENTATIONS_UPDATE to 1.\n  check_for_updates()\n/usr/local/lib/python3.11/dist-packages/albumentations/core/validation.py:58: UserWarning: ShiftScaleRotate is a special case of Affine transform. Please use Affine transform instead.\n  original_init(self, **validated_kwargs)\n",
     "output_type": "stream"
    },
    {
     "name": "stdout",
     "text": "✅ Аугментація завершена.\n❗️ Пропущено невалідних боксів: 0\n⚠️ Пропущено аугментацій через помилки: 0\n📁 Результат збережено у /kaggle/working/cats-yolo-dataset-aug/\n",
     "output_type": "stream"
    }
   ],
   "execution_count": 1
  },
  {
   "cell_type": "code",
   "source": [
    "# 1. Додаємо бібліотеку ultralytics до Python шляху\n",
    "\n",
    "\n",
    "# 2. Імпортуємо модуль YOLO\n",
    "\n",
    "#!pip install ultralytics\n",
    "from ultralytics import YOLO\n",
    "\n",
    "\n",
    "# 3. Створюємо модель (можна обрати n/s/m/l/x)\n",
    "model = YOLO(\"yolo11m.yaml\") \n",
    "\n",
    "# 4. Навчання моделі\n",
    "model.train(\n",
    "    data=\"/kaggle/input/cats-yolo-v2/cats-yolo-v2/data.yaml\",\n",
    "    epochs=150,\n",
    "    imgsz=640,\n",
    "    batch=13,\n",
    "    name=\"yolo11_cat_detector\",\n",
    "    device=0,\n",
    "    project=\"/kaggle/working/yolo_results\"\n",
    ")\n"
   ],
   "metadata": {
    "trusted": true,
    "execution": {
     "iopub.status.busy": "2025-05-11T11:33:25.073453Z",
     "iopub.execute_input": "2025-05-11T11:33:25.073747Z",
     "iopub.status.idle": "2025-05-11T12:37:23.417143Z",
     "shell.execute_reply.started": "2025-05-11T11:33:25.073723Z",
     "shell.execute_reply": "2025-05-11T12:37:23.416129Z"
    }
   },
   "outputs": [
    {
     "name": "stdout",
     "text": "Requirement already satisfied: ultralytics in /usr/local/lib/python3.11/dist-packages (8.3.131)\nRequirement already satisfied: numpy>=1.23.0 in /usr/local/lib/python3.11/dist-packages (from ultralytics) (1.26.4)\nRequirement already satisfied: matplotlib>=3.3.0 in /usr/local/lib/python3.11/dist-packages (from ultralytics) (3.7.5)\nRequirement already satisfied: opencv-python>=4.6.0 in /usr/local/lib/python3.11/dist-packages (from ultralytics) (4.11.0.86)\nRequirement already satisfied: pillow>=7.1.2 in /usr/local/lib/python3.11/dist-packages (from ultralytics) (11.1.0)\nRequirement already satisfied: pyyaml>=5.3.1 in /usr/local/lib/python3.11/dist-packages (from ultralytics) (6.0.2)\nRequirement already satisfied: requests>=2.23.0 in /usr/local/lib/python3.11/dist-packages (from ultralytics) (2.32.3)\nRequirement already satisfied: scipy>=1.4.1 in /usr/local/lib/python3.11/dist-packages (from ultralytics) (1.15.2)\nRequirement already satisfied: torch>=1.8.0 in /usr/local/lib/python3.11/dist-packages (from ultralytics) (2.5.1+cu124)\nRequirement already satisfied: torchvision>=0.9.0 in /usr/local/lib/python3.11/dist-packages (from ultralytics) (0.20.1+cu124)\nRequirement already satisfied: tqdm>=4.64.0 in /usr/local/lib/python3.11/dist-packages (from ultralytics) (4.67.1)\nRequirement already satisfied: psutil in /usr/local/lib/python3.11/dist-packages (from ultralytics) (7.0.0)\nRequirement already satisfied: py-cpuinfo in /usr/local/lib/python3.11/dist-packages (from ultralytics) (9.0.0)\nRequirement already satisfied: pandas>=1.1.4 in /usr/local/lib/python3.11/dist-packages (from ultralytics) (2.2.3)\nRequirement already satisfied: seaborn>=0.11.0 in /usr/local/lib/python3.11/dist-packages (from ultralytics) (0.12.2)\nRequirement already satisfied: ultralytics-thop>=2.0.0 in /usr/local/lib/python3.11/dist-packages (from ultralytics) (2.0.14)\nRequirement already satisfied: contourpy>=1.0.1 in /usr/local/lib/python3.11/dist-packages (from matplotlib>=3.3.0->ultralytics) (1.3.1)\nRequirement already satisfied: cycler>=0.10 in /usr/local/lib/python3.11/dist-packages (from matplotlib>=3.3.0->ultralytics) (0.12.1)\nRequirement already satisfied: fonttools>=4.22.0 in /usr/local/lib/python3.11/dist-packages (from matplotlib>=3.3.0->ultralytics) (4.56.0)\nRequirement already satisfied: kiwisolver>=1.0.1 in /usr/local/lib/python3.11/dist-packages (from matplotlib>=3.3.0->ultralytics) (1.4.8)\nRequirement already satisfied: packaging>=20.0 in /usr/local/lib/python3.11/dist-packages (from matplotlib>=3.3.0->ultralytics) (24.2)\nRequirement already satisfied: pyparsing>=2.3.1 in /usr/local/lib/python3.11/dist-packages (from matplotlib>=3.3.0->ultralytics) (3.2.1)\nRequirement already satisfied: python-dateutil>=2.7 in /usr/local/lib/python3.11/dist-packages (from matplotlib>=3.3.0->ultralytics) (2.9.0.post0)\nRequirement already satisfied: mkl_fft in /usr/local/lib/python3.11/dist-packages (from numpy>=1.23.0->ultralytics) (1.3.8)\nRequirement already satisfied: mkl_random in /usr/local/lib/python3.11/dist-packages (from numpy>=1.23.0->ultralytics) (1.2.4)\nRequirement already satisfied: mkl_umath in /usr/local/lib/python3.11/dist-packages (from numpy>=1.23.0->ultralytics) (0.1.1)\nRequirement already satisfied: mkl in /usr/local/lib/python3.11/dist-packages (from numpy>=1.23.0->ultralytics) (2025.1.0)\nRequirement already satisfied: tbb4py in /usr/local/lib/python3.11/dist-packages (from numpy>=1.23.0->ultralytics) (2022.1.0)\nRequirement already satisfied: mkl-service in /usr/local/lib/python3.11/dist-packages (from numpy>=1.23.0->ultralytics) (2.4.1)\nRequirement already satisfied: pytz>=2020.1 in /usr/local/lib/python3.11/dist-packages (from pandas>=1.1.4->ultralytics) (2025.2)\nRequirement already satisfied: tzdata>=2022.7 in /usr/local/lib/python3.11/dist-packages (from pandas>=1.1.4->ultralytics) (2025.2)\nRequirement already satisfied: charset-normalizer<4,>=2 in /usr/local/lib/python3.11/dist-packages (from requests>=2.23.0->ultralytics) (3.4.1)\nRequirement already satisfied: idna<4,>=2.5 in /usr/local/lib/python3.11/dist-packages (from requests>=2.23.0->ultralytics) (3.10)\nRequirement already satisfied: urllib3<3,>=1.21.1 in /usr/local/lib/python3.11/dist-packages (from requests>=2.23.0->ultralytics) (2.3.0)\nRequirement already satisfied: certifi>=2017.4.17 in /usr/local/lib/python3.11/dist-packages (from requests>=2.23.0->ultralytics) (2025.1.31)\nRequirement already satisfied: filelock in /usr/local/lib/python3.11/dist-packages (from torch>=1.8.0->ultralytics) (3.18.0)\nRequirement already satisfied: typing-extensions>=4.8.0 in /usr/local/lib/python3.11/dist-packages (from torch>=1.8.0->ultralytics) (4.13.1)\nRequirement already satisfied: networkx in /usr/local/lib/python3.11/dist-packages (from torch>=1.8.0->ultralytics) (3.4.2)\nRequirement already satisfied: jinja2 in /usr/local/lib/python3.11/dist-packages (from torch>=1.8.0->ultralytics) (3.1.6)\nRequirement already satisfied: fsspec in /usr/local/lib/python3.11/dist-packages (from torch>=1.8.0->ultralytics) (2025.3.2)\nRequirement already satisfied: nvidia-cuda-nvrtc-cu12==12.4.127 in /usr/local/lib/python3.11/dist-packages (from torch>=1.8.0->ultralytics) (12.4.127)\nRequirement already satisfied: nvidia-cuda-runtime-cu12==12.4.127 in /usr/local/lib/python3.11/dist-packages (from torch>=1.8.0->ultralytics) (12.4.127)\nRequirement already satisfied: nvidia-cuda-cupti-cu12==12.4.127 in /usr/local/lib/python3.11/dist-packages (from torch>=1.8.0->ultralytics) (12.4.127)\nRequirement already satisfied: nvidia-cudnn-cu12==9.1.0.70 in /usr/local/lib/python3.11/dist-packages (from torch>=1.8.0->ultralytics) (9.1.0.70)\nRequirement already satisfied: nvidia-cublas-cu12==12.4.5.8 in /usr/local/lib/python3.11/dist-packages (from torch>=1.8.0->ultralytics) (12.4.5.8)\nRequirement already satisfied: nvidia-cufft-cu12==11.2.1.3 in /usr/local/lib/python3.11/dist-packages (from torch>=1.8.0->ultralytics) (11.2.1.3)\nRequirement already satisfied: nvidia-curand-cu12==10.3.5.147 in /usr/local/lib/python3.11/dist-packages (from torch>=1.8.0->ultralytics) (10.3.5.147)\nRequirement already satisfied: nvidia-cusolver-cu12==11.6.1.9 in /usr/local/lib/python3.11/dist-packages (from torch>=1.8.0->ultralytics) (11.6.1.9)\nRequirement already satisfied: nvidia-cusparse-cu12==12.3.1.170 in /usr/local/lib/python3.11/dist-packages (from torch>=1.8.0->ultralytics) (12.3.1.170)\nRequirement already satisfied: nvidia-nccl-cu12==2.21.5 in /usr/local/lib/python3.11/dist-packages (from torch>=1.8.0->ultralytics) (2.21.5)\nRequirement already satisfied: nvidia-nvtx-cu12==12.4.127 in /usr/local/lib/python3.11/dist-packages (from torch>=1.8.0->ultralytics) (12.4.127)\nRequirement already satisfied: nvidia-nvjitlink-cu12==12.4.127 in /usr/local/lib/python3.11/dist-packages (from torch>=1.8.0->ultralytics) (12.4.127)\nRequirement already satisfied: triton==3.1.0 in /usr/local/lib/python3.11/dist-packages (from torch>=1.8.0->ultralytics) (3.1.0)\nRequirement already satisfied: sympy==1.13.1 in /usr/local/lib/python3.11/dist-packages (from torch>=1.8.0->ultralytics) (1.13.1)\nRequirement already satisfied: mpmath<1.4,>=1.1.0 in /usr/local/lib/python3.11/dist-packages (from sympy==1.13.1->torch>=1.8.0->ultralytics) (1.3.0)\nRequirement already satisfied: six>=1.5 in /usr/local/lib/python3.11/dist-packages (from python-dateutil>=2.7->matplotlib>=3.3.0->ultralytics) (1.17.0)\nRequirement already satisfied: MarkupSafe>=2.0 in /usr/local/lib/python3.11/dist-packages (from jinja2->torch>=1.8.0->ultralytics) (3.0.2)\nRequirement already satisfied: intel-openmp<2026,>=2024 in /usr/local/lib/python3.11/dist-packages (from mkl->numpy>=1.23.0->ultralytics) (2024.2.0)\nRequirement already satisfied: tbb==2022.* in /usr/local/lib/python3.11/dist-packages (from mkl->numpy>=1.23.0->ultralytics) (2022.1.0)\nRequirement already satisfied: tcmlib==1.* in /usr/local/lib/python3.11/dist-packages (from tbb==2022.*->mkl->numpy>=1.23.0->ultralytics) (1.2.0)\nRequirement already satisfied: intel-cmplr-lib-rt in /usr/local/lib/python3.11/dist-packages (from mkl_umath->numpy>=1.23.0->ultralytics) (2024.2.0)\nRequirement already satisfied: intel-cmplr-lib-ur==2024.2.0 in /usr/local/lib/python3.11/dist-packages (from intel-openmp<2026,>=2024->mkl->numpy>=1.23.0->ultralytics) (2024.2.0)\nUltralytics 8.3.131 🚀 Python-3.11.11 torch-2.5.1+cu124 CUDA:0 (Tesla T4, 15095MiB)\n\u001B[34m\u001B[1mengine/trainer: \u001B[0magnostic_nms=False, amp=True, augment=False, auto_augment=randaugment, batch=13, bgr=0.0, box=7.5, cache=False, cfg=None, classes=None, close_mosaic=10, cls=0.5, conf=None, copy_paste=0.0, copy_paste_mode=flip, cos_lr=False, cutmix=0.0, data=/kaggle/input/cats-yolo-v2/cats-yolo-v2/data.yaml, degrees=0.0, deterministic=True, device=0, dfl=1.5, dnn=False, dropout=0.0, dynamic=False, embed=None, epochs=150, erasing=0.4, exist_ok=False, fliplr=0.5, flipud=0.0, format=torchscript, fraction=1.0, freeze=None, half=False, hsv_h=0.015, hsv_s=0.7, hsv_v=0.4, imgsz=640, int8=False, iou=0.7, keras=False, kobj=1.0, line_width=None, lr0=0.01, lrf=0.01, mask_ratio=4, max_det=300, mixup=0.0, mode=train, model=yolo11m.yaml, momentum=0.937, mosaic=1.0, multi_scale=False, name=yolo11_cat_detector4, nbs=64, nms=False, opset=None, optimize=False, optimizer=auto, overlap_mask=True, patience=100, perspective=0.0, plots=True, pose=12.0, pretrained=True, profile=False, project=/kaggle/working/yolo_results, rect=False, resume=False, retina_masks=False, save=True, save_conf=False, save_crop=False, save_dir=/kaggle/working/yolo_results/yolo11_cat_detector4, save_frames=False, save_json=False, save_period=-1, save_txt=False, scale=0.5, seed=0, shear=0.0, show=False, show_boxes=True, show_conf=True, show_labels=True, simplify=True, single_cls=False, source=None, split=val, stream_buffer=False, task=detect, time=None, tracker=botsort.yaml, translate=0.1, val=True, verbose=True, vid_stride=1, visualize=False, warmup_bias_lr=0.1, warmup_epochs=3.0, warmup_momentum=0.8, weight_decay=0.0005, workers=8, workspace=None\nOverriding model.yaml nc=80 with nc=3\n\n                   from  n    params  module                                       arguments                     \n  0                  -1  1      1856  ultralytics.nn.modules.conv.Conv             [3, 64, 3, 2]                 \n  1                  -1  1     73984  ultralytics.nn.modules.conv.Conv             [64, 128, 3, 2]               \n  2                  -1  1    111872  ultralytics.nn.modules.block.C3k2            [128, 256, 1, True, 0.25]     \n  3                  -1  1    590336  ultralytics.nn.modules.conv.Conv             [256, 256, 3, 2]              \n  4                  -1  1    444928  ultralytics.nn.modules.block.C3k2            [256, 512, 1, True, 0.25]     \n  5                  -1  1   2360320  ultralytics.nn.modules.conv.Conv             [512, 512, 3, 2]              \n  6                  -1  1   1380352  ultralytics.nn.modules.block.C3k2            [512, 512, 1, True]           \n  7                  -1  1   2360320  ultralytics.nn.modules.conv.Conv             [512, 512, 3, 2]              \n  8                  -1  1   1380352  ultralytics.nn.modules.block.C3k2            [512, 512, 1, True]           \n  9                  -1  1    656896  ultralytics.nn.modules.block.SPPF            [512, 512, 5]                 \n 10                  -1  1    990976  ultralytics.nn.modules.block.C2PSA           [512, 512, 1]                 \n 11                  -1  1         0  torch.nn.modules.upsampling.Upsample         [None, 2, 'nearest']          \n 12             [-1, 6]  1         0  ultralytics.nn.modules.conv.Concat           [1]                           \n 13                  -1  1   1642496  ultralytics.nn.modules.block.C3k2            [1024, 512, 1, True]          \n 14                  -1  1         0  torch.nn.modules.upsampling.Upsample         [None, 2, 'nearest']          \n 15             [-1, 4]  1         0  ultralytics.nn.modules.conv.Concat           [1]                           \n 16                  -1  1    542720  ultralytics.nn.modules.block.C3k2            [1024, 256, 1, True]          \n 17                  -1  1    590336  ultralytics.nn.modules.conv.Conv             [256, 256, 3, 2]              \n 18            [-1, 13]  1         0  ultralytics.nn.modules.conv.Concat           [1]                           \n 19                  -1  1   1511424  ultralytics.nn.modules.block.C3k2            [768, 512, 1, True]           \n 20                  -1  1   2360320  ultralytics.nn.modules.conv.Conv             [512, 512, 3, 2]              \n 21            [-1, 10]  1         0  ultralytics.nn.modules.conv.Concat           [1]                           \n 22                  -1  1   1642496  ultralytics.nn.modules.block.C3k2            [1024, 512, 1, True]          \n 23        [16, 19, 22]  1   1413337  ultralytics.nn.modules.head.Detect           [3, [256, 512, 512]]          \nYOLO11m summary: 231 layers, 20,055,321 parameters, 20,055,305 gradients, 68.2 GFLOPs\n\nFreezing layer 'model.23.dfl.conv.weight'\n\u001B[34m\u001B[1mAMP: \u001B[0mrunning Automatic Mixed Precision (AMP) checks...\n\u001B[34m\u001B[1mAMP: \u001B[0mchecks passed ✅\n\u001B[34m\u001B[1mtrain: \u001B[0mFast image access ✅ (ping: 0.0±0.0 ms, read: 2041.1±819.5 MB/s, size: 1649.6 KB)\n",
     "output_type": "stream"
    },
    {
     "name": "stderr",
     "text": "\u001B[34m\u001B[1mtrain: \u001B[0mScanning /kaggle/input/cats-yolo-v2/cats-yolo-v2/train/labels... 401 images, 0 backgrounds, 0 corrupt: 100%|██████████| 401/401 [00:00<00:00, 944.05it/s]",
     "output_type": "stream"
    },
    {
     "name": "stdout",
     "text": "WARNING ⚠️ \u001B[34m\u001B[1mtrain: \u001B[0mCache directory /kaggle/input/cats-yolo-v2/cats-yolo-v2/train is not writeable, cache not saved.\n\u001B[34m\u001B[1malbumentations: \u001B[0mBlur(p=0.01, blur_limit=(3, 7)), MedianBlur(p=0.01, blur_limit=(3, 7)), ToGray(p=0.01, num_output_channels=3, method='weighted_average'), CLAHE(p=0.01, clip_limit=(1.0, 4.0), tile_grid_size=(8, 8))\n",
     "output_type": "stream"
    },
    {
     "name": "stderr",
     "text": "\n",
     "output_type": "stream"
    },
    {
     "name": "stdout",
     "text": "\u001B[34m\u001B[1mval: \u001B[0mFast image access ✅ (ping: 0.0±0.0 ms, read: 162.0±72.9 MB/s, size: 1770.2 KB)\n",
     "output_type": "stream"
    },
    {
     "name": "stderr",
     "text": "\u001B[34m\u001B[1mval: \u001B[0mScanning /kaggle/input/cats-yolo-v2/cats-yolo-v2/valid/labels... 85 images, 0 backgrounds, 0 corrupt: 100%|██████████| 85/85 [00:00<00:00, 254.09it/s]",
     "output_type": "stream"
    },
    {
     "name": "stdout",
     "text": "WARNING ⚠️ \u001B[34m\u001B[1mval: \u001B[0mCache directory /kaggle/input/cats-yolo-v2/cats-yolo-v2/valid is not writeable, cache not saved.\n",
     "output_type": "stream"
    },
    {
     "name": "stderr",
     "text": "\n",
     "output_type": "stream"
    },
    {
     "name": "stdout",
     "text": "Plotting labels to /kaggle/working/yolo_results/yolo11_cat_detector4/labels.jpg... \n\u001B[34m\u001B[1moptimizer:\u001B[0m 'optimizer=auto' found, ignoring 'lr0=0.01' and 'momentum=0.937' and determining best 'optimizer', 'lr0' and 'momentum' automatically... \n\u001B[34m\u001B[1moptimizer:\u001B[0m AdamW(lr=0.001429, momentum=0.9) with parameter groups 106 weight(decay=0.0), 113 weight(decay=0.0005078125), 112 bias(decay=0.0)\nImage sizes 640 train, 640 val\nUsing 4 dataloader workers\nLogging results to \u001B[1m/kaggle/working/yolo_results/yolo11_cat_detector4\u001B[0m\nStarting training for 150 epochs...\n\n      Epoch    GPU_mem   box_loss   cls_loss   dfl_loss  Instances       Size\n",
     "output_type": "stream"
    },
    {
     "name": "stderr",
     "text": "      1/150      12.1G      3.046      4.142      4.236         26        640: 100%|██████████| 31/31 [00:25<00:00,  1.20it/s]\n                 Class     Images  Instances      Box(P          R      mAP50  mAP50-95): 100%|██████████| 4/4 [00:03<00:00,  1.32it/s]",
     "output_type": "stream"
    },
    {
     "name": "stdout",
     "text": "                   all         85         85     0.0037      0.894    0.00674    0.00295\n",
     "output_type": "stream"
    },
    {
     "name": "stderr",
     "text": "\n",
     "output_type": "stream"
    },
    {
     "name": "stdout",
     "text": "\n      Epoch    GPU_mem   box_loss   cls_loss   dfl_loss  Instances       Size\n",
     "output_type": "stream"
    },
    {
     "name": "stderr",
     "text": "      2/150      7.27G      3.038      3.973      4.104         27        640: 100%|██████████| 31/31 [00:18<00:00,  1.64it/s]\n                 Class     Images  Instances      Box(P          R      mAP50  mAP50-95): 100%|██████████| 4/4 [00:02<00:00,  1.72it/s]",
     "output_type": "stream"
    },
    {
     "name": "stdout",
     "text": "                   all         85         85    0.00366      0.913     0.0204    0.00932\n",
     "output_type": "stream"
    },
    {
     "name": "stderr",
     "text": "\n",
     "output_type": "stream"
    },
    {
     "name": "stdout",
     "text": "\n      Epoch    GPU_mem   box_loss   cls_loss   dfl_loss  Instances       Size\n",
     "output_type": "stream"
    },
    {
     "name": "stderr",
     "text": "      3/150      7.25G      2.947       3.78      3.844         26        640: 100%|██████████| 31/31 [00:20<00:00,  1.51it/s]\n                 Class     Images  Instances      Box(P          R      mAP50  mAP50-95): 100%|██████████| 4/4 [00:01<00:00,  2.22it/s]\n",
     "output_type": "stream"
    },
    {
     "name": "stdout",
     "text": "                   all         85         85    0.00335       0.93       0.03    0.00917\n\n      Epoch    GPU_mem   box_loss   cls_loss   dfl_loss  Instances       Size\n",
     "output_type": "stream"
    },
    {
     "name": "stderr",
     "text": "      4/150      7.26G        2.9      3.707      3.659         28        640: 100%|██████████| 31/31 [00:20<00:00,  1.51it/s]\n                 Class     Images  Instances      Box(P          R      mAP50  mAP50-95): 100%|██████████| 4/4 [00:01<00:00,  2.03it/s]\n",
     "output_type": "stream"
    },
    {
     "name": "stdout",
     "text": "                   all         85         85     0.0072      0.941      0.116     0.0319\n\n      Epoch    GPU_mem   box_loss   cls_loss   dfl_loss  Instances       Size\n",
     "output_type": "stream"
    },
    {
     "name": "stderr",
     "text": "      5/150      7.25G      2.831      3.518      3.479         32        640: 100%|██████████| 31/31 [00:19<00:00,  1.59it/s]\n                 Class     Images  Instances      Box(P          R      mAP50  mAP50-95): 100%|██████████| 4/4 [00:01<00:00,  2.29it/s]",
     "output_type": "stream"
    },
    {
     "name": "stdout",
     "text": "                   all         85         85    0.00327      0.619     0.0167    0.00568\n",
     "output_type": "stream"
    },
    {
     "name": "stderr",
     "text": "\n",
     "output_type": "stream"
    },
    {
     "name": "stdout",
     "text": "\n      Epoch    GPU_mem   box_loss   cls_loss   dfl_loss  Instances       Size\n",
     "output_type": "stream"
    },
    {
     "name": "stderr",
     "text": "      6/150      7.24G       2.91      3.349      3.436         25        640: 100%|██████████| 31/31 [00:20<00:00,  1.55it/s]\n                 Class     Images  Instances      Box(P          R      mAP50  mAP50-95): 100%|██████████| 4/4 [00:01<00:00,  2.54it/s]",
     "output_type": "stream"
    },
    {
     "name": "stdout",
     "text": "                   all         85         85    0.00179      0.123    0.00111   0.000384\n",
     "output_type": "stream"
    },
    {
     "name": "stderr",
     "text": "\n",
     "output_type": "stream"
    },
    {
     "name": "stdout",
     "text": "\n      Epoch    GPU_mem   box_loss   cls_loss   dfl_loss  Instances       Size\n",
     "output_type": "stream"
    },
    {
     "name": "stderr",
     "text": "      7/150      7.25G      2.846      3.253      3.362         21        640: 100%|██████████| 31/31 [00:20<00:00,  1.50it/s]\n                 Class     Images  Instances      Box(P          R      mAP50  mAP50-95): 100%|██████████| 4/4 [00:01<00:00,  2.74it/s]",
     "output_type": "stream"
    },
    {
     "name": "stdout",
     "text": "                   all         85         85    0.00231    0.00952    0.00025   0.000135\n",
     "output_type": "stream"
    },
    {
     "name": "stderr",
     "text": "\n",
     "output_type": "stream"
    },
    {
     "name": "stdout",
     "text": "\n      Epoch    GPU_mem   box_loss   cls_loss   dfl_loss  Instances       Size\n",
     "output_type": "stream"
    },
    {
     "name": "stderr",
     "text": "      8/150      7.26G      2.802       3.18      3.307         25        640: 100%|██████████| 31/31 [00:21<00:00,  1.46it/s]\n                 Class     Images  Instances      Box(P          R      mAP50  mAP50-95): 100%|██████████| 4/4 [00:01<00:00,  2.34it/s]",
     "output_type": "stream"
    },
    {
     "name": "stdout",
     "text": "                   all         85         85    0.00306      0.019    0.00286   0.000392\n",
     "output_type": "stream"
    },
    {
     "name": "stderr",
     "text": "\n",
     "output_type": "stream"
    },
    {
     "name": "stdout",
     "text": "\n      Epoch    GPU_mem   box_loss   cls_loss   dfl_loss  Instances       Size\n",
     "output_type": "stream"
    },
    {
     "name": "stderr",
     "text": "      9/150      7.27G      2.682      3.084      3.253         25        640: 100%|██████████| 31/31 [00:21<00:00,  1.41it/s]\n                 Class     Images  Instances      Box(P          R      mAP50  mAP50-95): 100%|██████████| 4/4 [00:01<00:00,  2.19it/s]",
     "output_type": "stream"
    },
    {
     "name": "stdout",
     "text": "                   all         85         85    0.00535    0.00952     0.0258    0.00942\n",
     "output_type": "stream"
    },
    {
     "name": "stderr",
     "text": "\n",
     "output_type": "stream"
    },
    {
     "name": "stdout",
     "text": "\n      Epoch    GPU_mem   box_loss   cls_loss   dfl_loss  Instances       Size\n",
     "output_type": "stream"
    },
    {
     "name": "stderr",
     "text": "     10/150      7.25G      2.604      3.104      3.201         20        640: 100%|██████████| 31/31 [00:21<00:00,  1.46it/s]\n                 Class     Images  Instances      Box(P          R      mAP50  mAP50-95): 100%|██████████| 4/4 [00:01<00:00,  2.76it/s]\n",
     "output_type": "stream"
    },
    {
     "name": "stdout",
     "text": "                   all         85         85    0.00876      0.953     0.0273     0.0104\n\n      Epoch    GPU_mem   box_loss   cls_loss   dfl_loss  Instances       Size\n",
     "output_type": "stream"
    },
    {
     "name": "stderr",
     "text": "     11/150      7.25G      2.503      3.012      3.114         30        640: 100%|██████████| 31/31 [00:21<00:00,  1.47it/s]\n                 Class     Images  Instances      Box(P          R      mAP50  mAP50-95): 100%|██████████| 4/4 [00:01<00:00,  2.67it/s]\n",
     "output_type": "stream"
    },
    {
     "name": "stdout",
     "text": "                   all         85         85    0.00461      0.538    0.00464    0.00176\n\n      Epoch    GPU_mem   box_loss   cls_loss   dfl_loss  Instances       Size\n",
     "output_type": "stream"
    },
    {
     "name": "stderr",
     "text": "     12/150      7.24G      2.548       3.03      3.115         31        640: 100%|██████████| 31/31 [00:20<00:00,  1.53it/s]\n                 Class     Images  Instances      Box(P          R      mAP50  mAP50-95): 100%|██████████| 4/4 [00:01<00:00,  2.33it/s]",
     "output_type": "stream"
    },
    {
     "name": "stdout",
     "text": "                   all         85         85      0.167       0.15     0.0826     0.0323\n",
     "output_type": "stream"
    },
    {
     "name": "stderr",
     "text": "\n",
     "output_type": "stream"
    },
    {
     "name": "stdout",
     "text": "\n      Epoch    GPU_mem   box_loss   cls_loss   dfl_loss  Instances       Size\n",
     "output_type": "stream"
    },
    {
     "name": "stderr",
     "text": "     13/150      7.26G      2.476      2.919      3.041         23        640: 100%|██████████| 31/31 [00:20<00:00,  1.50it/s]\n                 Class     Images  Instances      Box(P          R      mAP50  mAP50-95): 100%|██████████| 4/4 [00:01<00:00,  2.13it/s]",
     "output_type": "stream"
    },
    {
     "name": "stdout",
     "text": "                   all         85         85      0.104      0.299      0.103     0.0295\n",
     "output_type": "stream"
    },
    {
     "name": "stderr",
     "text": "\n",
     "output_type": "stream"
    },
    {
     "name": "stdout",
     "text": "\n      Epoch    GPU_mem   box_loss   cls_loss   dfl_loss  Instances       Size\n",
     "output_type": "stream"
    },
    {
     "name": "stderr",
     "text": "     14/150      7.26G      2.389      2.858      3.014         29        640: 100%|██████████| 31/31 [00:21<00:00,  1.45it/s]\n                 Class     Images  Instances      Box(P          R      mAP50  mAP50-95): 100%|██████████| 4/4 [00:01<00:00,  2.39it/s]\n",
     "output_type": "stream"
    },
    {
     "name": "stdout",
     "text": "                   all         85         85    0.00867      0.836      0.071     0.0247\n\n      Epoch    GPU_mem   box_loss   cls_loss   dfl_loss  Instances       Size\n",
     "output_type": "stream"
    },
    {
     "name": "stderr",
     "text": "     15/150      7.25G      2.382      2.803       2.99         31        640: 100%|██████████| 31/31 [00:22<00:00,  1.40it/s]\n                 Class     Images  Instances      Box(P          R      mAP50  mAP50-95): 100%|██████████| 4/4 [00:01<00:00,  2.82it/s]",
     "output_type": "stream"
    },
    {
     "name": "stdout",
     "text": "                   all         85         85     0.0844      0.361      0.118     0.0422\n",
     "output_type": "stream"
    },
    {
     "name": "stderr",
     "text": "\n",
     "output_type": "stream"
    },
    {
     "name": "stdout",
     "text": "\n      Epoch    GPU_mem   box_loss   cls_loss   dfl_loss  Instances       Size\n",
     "output_type": "stream"
    },
    {
     "name": "stderr",
     "text": "     16/150      7.24G      2.342      2.786      2.933         31        640: 100%|██████████| 31/31 [00:19<00:00,  1.56it/s]\n                 Class     Images  Instances      Box(P          R      mAP50  mAP50-95): 100%|██████████| 4/4 [00:01<00:00,  2.45it/s]",
     "output_type": "stream"
    },
    {
     "name": "stdout",
     "text": "                   all         85         85     0.0923      0.317      0.133      0.042\n",
     "output_type": "stream"
    },
    {
     "name": "stderr",
     "text": "\n",
     "output_type": "stream"
    },
    {
     "name": "stdout",
     "text": "\n      Epoch    GPU_mem   box_loss   cls_loss   dfl_loss  Instances       Size\n",
     "output_type": "stream"
    },
    {
     "name": "stderr",
     "text": "     17/150      7.24G      2.314      2.732      2.869         22        640: 100%|██████████| 31/31 [00:21<00:00,  1.48it/s]\n                 Class     Images  Instances      Box(P          R      mAP50  mAP50-95): 100%|██████████| 4/4 [00:01<00:00,  2.54it/s]\n",
     "output_type": "stream"
    },
    {
     "name": "stdout",
     "text": "                   all         85         85       0.14      0.538      0.223     0.0813\n\n      Epoch    GPU_mem   box_loss   cls_loss   dfl_loss  Instances       Size\n",
     "output_type": "stream"
    },
    {
     "name": "stderr",
     "text": "     18/150      7.26G      2.262      2.684      2.844         26        640: 100%|██████████| 31/31 [00:20<00:00,  1.48it/s]\n                 Class     Images  Instances      Box(P          R      mAP50  mAP50-95): 100%|██████████| 4/4 [00:01<00:00,  2.44it/s]",
     "output_type": "stream"
    },
    {
     "name": "stdout",
     "text": "                   all         85         85     0.0546      0.388      0.105     0.0405\n",
     "output_type": "stream"
    },
    {
     "name": "stderr",
     "text": "\n",
     "output_type": "stream"
    },
    {
     "name": "stdout",
     "text": "\n      Epoch    GPU_mem   box_loss   cls_loss   dfl_loss  Instances       Size\n",
     "output_type": "stream"
    },
    {
     "name": "stderr",
     "text": "     19/150      7.26G      2.237      2.689      2.817         32        640: 100%|██████████| 31/31 [00:20<00:00,  1.50it/s]\n                 Class     Images  Instances      Box(P          R      mAP50  mAP50-95): 100%|██████████| 4/4 [00:01<00:00,  2.09it/s]",
     "output_type": "stream"
    },
    {
     "name": "stdout",
     "text": "                   all         85         85      0.182      0.157      0.134     0.0469\n",
     "output_type": "stream"
    },
    {
     "name": "stderr",
     "text": "\n",
     "output_type": "stream"
    },
    {
     "name": "stdout",
     "text": "\n      Epoch    GPU_mem   box_loss   cls_loss   dfl_loss  Instances       Size\n",
     "output_type": "stream"
    },
    {
     "name": "stderr",
     "text": "     20/150      7.25G      2.241      2.687      2.799         28        640: 100%|██████████| 31/31 [00:19<00:00,  1.60it/s]\n                 Class     Images  Instances      Box(P          R      mAP50  mAP50-95): 100%|██████████| 4/4 [00:01<00:00,  2.22it/s]",
     "output_type": "stream"
    },
    {
     "name": "stdout",
     "text": "                   all         85         85      0.136      0.302      0.151     0.0604\n",
     "output_type": "stream"
    },
    {
     "name": "stderr",
     "text": "\n",
     "output_type": "stream"
    },
    {
     "name": "stdout",
     "text": "\n      Epoch    GPU_mem   box_loss   cls_loss   dfl_loss  Instances       Size\n",
     "output_type": "stream"
    },
    {
     "name": "stderr",
     "text": "     21/150      7.24G      2.196      2.608      2.723         32        640: 100%|██████████| 31/31 [00:20<00:00,  1.52it/s]\n                 Class     Images  Instances      Box(P          R      mAP50  mAP50-95): 100%|██████████| 4/4 [00:01<00:00,  2.30it/s]\n",
     "output_type": "stream"
    },
    {
     "name": "stdout",
     "text": "                   all         85         85      0.116      0.718      0.252     0.0915\n\n      Epoch    GPU_mem   box_loss   cls_loss   dfl_loss  Instances       Size\n",
     "output_type": "stream"
    },
    {
     "name": "stderr",
     "text": "     22/150      7.24G      2.171      2.584      2.745         25        640: 100%|██████████| 31/31 [00:21<00:00,  1.45it/s]\n                 Class     Images  Instances      Box(P          R      mAP50  mAP50-95): 100%|██████████| 4/4 [00:01<00:00,  2.44it/s]",
     "output_type": "stream"
    },
    {
     "name": "stdout",
     "text": "                   all         85         85     0.0802      0.441      0.156      0.048\n",
     "output_type": "stream"
    },
    {
     "name": "stderr",
     "text": "\n",
     "output_type": "stream"
    },
    {
     "name": "stdout",
     "text": "\n      Epoch    GPU_mem   box_loss   cls_loss   dfl_loss  Instances       Size\n",
     "output_type": "stream"
    },
    {
     "name": "stderr",
     "text": "     23/150      7.26G      2.097      2.592      2.679         34        640: 100%|██████████| 31/31 [00:21<00:00,  1.46it/s]\n                 Class     Images  Instances      Box(P          R      mAP50  mAP50-95): 100%|██████████| 4/4 [00:01<00:00,  2.35it/s]\n",
     "output_type": "stream"
    },
    {
     "name": "stdout",
     "text": "                   all         85         85      0.162      0.643      0.211     0.0732\n\n      Epoch    GPU_mem   box_loss   cls_loss   dfl_loss  Instances       Size\n",
     "output_type": "stream"
    },
    {
     "name": "stderr",
     "text": "     24/150      7.26G      2.112      2.545      2.702         25        640: 100%|██████████| 31/31 [00:20<00:00,  1.48it/s]\n                 Class     Images  Instances      Box(P          R      mAP50  mAP50-95): 100%|██████████| 4/4 [00:01<00:00,  2.62it/s]\n",
     "output_type": "stream"
    },
    {
     "name": "stdout",
     "text": "                   all         85         85        0.2      0.562      0.306      0.104\n\n      Epoch    GPU_mem   box_loss   cls_loss   dfl_loss  Instances       Size\n",
     "output_type": "stream"
    },
    {
     "name": "stderr",
     "text": "     25/150      7.25G      2.057      2.445      2.653         24        640: 100%|██████████| 31/31 [00:19<00:00,  1.57it/s]\n                 Class     Images  Instances      Box(P          R      mAP50  mAP50-95): 100%|██████████| 4/4 [00:01<00:00,  2.36it/s]\n",
     "output_type": "stream"
    },
    {
     "name": "stdout",
     "text": "                   all         85         85      0.175      0.543      0.282      0.112\n\n      Epoch    GPU_mem   box_loss   cls_loss   dfl_loss  Instances       Size\n",
     "output_type": "stream"
    },
    {
     "name": "stderr",
     "text": "     26/150      7.24G      2.027      2.434       2.61         25        640: 100%|██████████| 31/31 [00:19<00:00,  1.55it/s]\n                 Class     Images  Instances      Box(P          R      mAP50  mAP50-95): 100%|██████████| 4/4 [00:01<00:00,  2.01it/s]",
     "output_type": "stream"
    },
    {
     "name": "stdout",
     "text": "                   all         85         85      0.169      0.395      0.178     0.0645\n",
     "output_type": "stream"
    },
    {
     "name": "stderr",
     "text": "\n",
     "output_type": "stream"
    },
    {
     "name": "stdout",
     "text": "\n      Epoch    GPU_mem   box_loss   cls_loss   dfl_loss  Instances       Size\n",
     "output_type": "stream"
    },
    {
     "name": "stderr",
     "text": "     27/150      7.24G      2.035      2.421      2.613         30        640: 100%|██████████| 31/31 [00:21<00:00,  1.47it/s]\n                 Class     Images  Instances      Box(P          R      mAP50  mAP50-95): 100%|██████████| 4/4 [00:01<00:00,  2.46it/s]\n",
     "output_type": "stream"
    },
    {
     "name": "stdout",
     "text": "                   all         85         85      0.281      0.602      0.338      0.139\n\n      Epoch    GPU_mem   box_loss   cls_loss   dfl_loss  Instances       Size\n",
     "output_type": "stream"
    },
    {
     "name": "stderr",
     "text": "     28/150      7.26G      2.061      2.378      2.619         24        640: 100%|██████████| 31/31 [00:21<00:00,  1.47it/s]\n                 Class     Images  Instances      Box(P          R      mAP50  mAP50-95): 100%|██████████| 4/4 [00:01<00:00,  2.42it/s]",
     "output_type": "stream"
    },
    {
     "name": "stdout",
     "text": "                   all         85         85      0.189      0.294       0.19     0.0635\n",
     "output_type": "stream"
    },
    {
     "name": "stderr",
     "text": "\n",
     "output_type": "stream"
    },
    {
     "name": "stdout",
     "text": "\n      Epoch    GPU_mem   box_loss   cls_loss   dfl_loss  Instances       Size\n",
     "output_type": "stream"
    },
    {
     "name": "stderr",
     "text": "     29/150      7.26G      2.008      2.407      2.574         30        640: 100%|██████████| 31/31 [00:21<00:00,  1.46it/s]\n                 Class     Images  Instances      Box(P          R      mAP50  mAP50-95): 100%|██████████| 4/4 [00:01<00:00,  2.27it/s]",
     "output_type": "stream"
    },
    {
     "name": "stdout",
     "text": "                   all         85         85      0.183      0.562      0.241      0.104\n",
     "output_type": "stream"
    },
    {
     "name": "stderr",
     "text": "\n",
     "output_type": "stream"
    },
    {
     "name": "stdout",
     "text": "\n      Epoch    GPU_mem   box_loss   cls_loss   dfl_loss  Instances       Size\n",
     "output_type": "stream"
    },
    {
     "name": "stderr",
     "text": "     30/150      7.25G      1.966      2.353      2.567         26        640: 100%|██████████| 31/31 [00:20<00:00,  1.48it/s]\n                 Class     Images  Instances      Box(P          R      mAP50  mAP50-95): 100%|██████████| 4/4 [00:01<00:00,  2.37it/s]",
     "output_type": "stream"
    },
    {
     "name": "stdout",
     "text": "                   all         85         85      0.193      0.608      0.294      0.129\n",
     "output_type": "stream"
    },
    {
     "name": "stderr",
     "text": "\n",
     "output_type": "stream"
    },
    {
     "name": "stdout",
     "text": "\n      Epoch    GPU_mem   box_loss   cls_loss   dfl_loss  Instances       Size\n",
     "output_type": "stream"
    },
    {
     "name": "stderr",
     "text": "     31/150      7.24G      1.979        2.3      2.569         23        640: 100%|██████████| 31/31 [00:21<00:00,  1.46it/s]\n                 Class     Images  Instances      Box(P          R      mAP50  mAP50-95): 100%|██████████| 4/4 [00:01<00:00,  2.55it/s]\n",
     "output_type": "stream"
    },
    {
     "name": "stdout",
     "text": "                   all         85         85      0.168      0.579       0.24     0.0969\n\n      Epoch    GPU_mem   box_loss   cls_loss   dfl_loss  Instances       Size\n",
     "output_type": "stream"
    },
    {
     "name": "stderr",
     "text": "     32/150      7.24G      1.938      2.305       2.51         26        640: 100%|██████████| 31/31 [00:21<00:00,  1.47it/s]\n                 Class     Images  Instances      Box(P          R      mAP50  mAP50-95): 100%|██████████| 4/4 [00:01<00:00,  2.35it/s]",
     "output_type": "stream"
    },
    {
     "name": "stdout",
     "text": "                   all         85         85      0.306      0.466      0.346      0.141\n",
     "output_type": "stream"
    },
    {
     "name": "stderr",
     "text": "\n",
     "output_type": "stream"
    },
    {
     "name": "stdout",
     "text": "\n      Epoch    GPU_mem   box_loss   cls_loss   dfl_loss  Instances       Size\n",
     "output_type": "stream"
    },
    {
     "name": "stderr",
     "text": "     33/150      7.26G      1.964      2.232      2.487         30        640: 100%|██████████| 31/31 [00:21<00:00,  1.46it/s]\n                 Class     Images  Instances      Box(P          R      mAP50  mAP50-95): 100%|██████████| 4/4 [00:01<00:00,  2.48it/s]",
     "output_type": "stream"
    },
    {
     "name": "stdout",
     "text": "                   all         85         85      0.292      0.629      0.429      0.182\n",
     "output_type": "stream"
    },
    {
     "name": "stderr",
     "text": "\n",
     "output_type": "stream"
    },
    {
     "name": "stdout",
     "text": "\n      Epoch    GPU_mem   box_loss   cls_loss   dfl_loss  Instances       Size\n",
     "output_type": "stream"
    },
    {
     "name": "stderr",
     "text": "     34/150      7.26G      1.934      2.301      2.502         30        640: 100%|██████████| 31/31 [00:18<00:00,  1.65it/s]\n                 Class     Images  Instances      Box(P          R      mAP50  mAP50-95): 100%|██████████| 4/4 [00:01<00:00,  2.27it/s]",
     "output_type": "stream"
    },
    {
     "name": "stdout",
     "text": "                   all         85         85      0.236      0.682      0.319      0.125\n",
     "output_type": "stream"
    },
    {
     "name": "stderr",
     "text": "\n",
     "output_type": "stream"
    },
    {
     "name": "stdout",
     "text": "\n      Epoch    GPU_mem   box_loss   cls_loss   dfl_loss  Instances       Size\n",
     "output_type": "stream"
    },
    {
     "name": "stderr",
     "text": "     35/150      7.25G      1.918      2.251      2.479         28        640: 100%|██████████| 31/31 [00:21<00:00,  1.43it/s]\n                 Class     Images  Instances      Box(P          R      mAP50  mAP50-95): 100%|██████████| 4/4 [00:01<00:00,  2.38it/s]",
     "output_type": "stream"
    },
    {
     "name": "stdout",
     "text": "                   all         85         85      0.225      0.738      0.236     0.0894\n",
     "output_type": "stream"
    },
    {
     "name": "stderr",
     "text": "\n",
     "output_type": "stream"
    },
    {
     "name": "stdout",
     "text": "\n      Epoch    GPU_mem   box_loss   cls_loss   dfl_loss  Instances       Size\n",
     "output_type": "stream"
    },
    {
     "name": "stderr",
     "text": "     36/150      7.24G      1.979      2.234      2.494         22        640: 100%|██████████| 31/31 [00:20<00:00,  1.55it/s]\n                 Class     Images  Instances      Box(P          R      mAP50  mAP50-95): 100%|██████████| 4/4 [00:01<00:00,  2.27it/s]",
     "output_type": "stream"
    },
    {
     "name": "stdout",
     "text": "                   all         85         85      0.205      0.496      0.225     0.0718\n",
     "output_type": "stream"
    },
    {
     "name": "stderr",
     "text": "\n",
     "output_type": "stream"
    },
    {
     "name": "stdout",
     "text": "\n      Epoch    GPU_mem   box_loss   cls_loss   dfl_loss  Instances       Size\n",
     "output_type": "stream"
    },
    {
     "name": "stderr",
     "text": "     37/150      7.24G      1.916      2.183      2.441         21        640: 100%|██████████| 31/31 [00:21<00:00,  1.44it/s]\n                 Class     Images  Instances      Box(P          R      mAP50  mAP50-95): 100%|██████████| 4/4 [00:01<00:00,  2.44it/s]",
     "output_type": "stream"
    },
    {
     "name": "stdout",
     "text": "                   all         85         85      0.245      0.512      0.316      0.112\n",
     "output_type": "stream"
    },
    {
     "name": "stderr",
     "text": "\n",
     "output_type": "stream"
    },
    {
     "name": "stdout",
     "text": "\n      Epoch    GPU_mem   box_loss   cls_loss   dfl_loss  Instances       Size\n",
     "output_type": "stream"
    },
    {
     "name": "stderr",
     "text": "     38/150      7.26G      1.873      2.186      2.426         30        640: 100%|██████████| 31/31 [00:20<00:00,  1.50it/s]\n                 Class     Images  Instances      Box(P          R      mAP50  mAP50-95): 100%|██████████| 4/4 [00:01<00:00,  2.08it/s]",
     "output_type": "stream"
    },
    {
     "name": "stdout",
     "text": "                   all         85         85      0.303      0.596      0.404      0.152\n",
     "output_type": "stream"
    },
    {
     "name": "stderr",
     "text": "\n",
     "output_type": "stream"
    },
    {
     "name": "stdout",
     "text": "\n      Epoch    GPU_mem   box_loss   cls_loss   dfl_loss  Instances       Size\n",
     "output_type": "stream"
    },
    {
     "name": "stderr",
     "text": "     39/150      7.26G      1.888      2.182      2.445         22        640: 100%|██████████| 31/31 [00:20<00:00,  1.51it/s]\n                 Class     Images  Instances      Box(P          R      mAP50  mAP50-95): 100%|██████████| 4/4 [00:01<00:00,  2.28it/s]\n",
     "output_type": "stream"
    },
    {
     "name": "stdout",
     "text": "                   all         85         85      0.275      0.613      0.378      0.149\n\n      Epoch    GPU_mem   box_loss   cls_loss   dfl_loss  Instances       Size\n",
     "output_type": "stream"
    },
    {
     "name": "stderr",
     "text": "     40/150      7.25G      1.874      2.186      2.452         28        640: 100%|██████████| 31/31 [00:20<00:00,  1.50it/s]\n                 Class     Images  Instances      Box(P          R      mAP50  mAP50-95): 100%|██████████| 4/4 [00:01<00:00,  2.42it/s]",
     "output_type": "stream"
    },
    {
     "name": "stdout",
     "text": "                   all         85         85       0.28      0.632      0.391      0.166\n",
     "output_type": "stream"
    },
    {
     "name": "stderr",
     "text": "\n",
     "output_type": "stream"
    },
    {
     "name": "stdout",
     "text": "\n      Epoch    GPU_mem   box_loss   cls_loss   dfl_loss  Instances       Size\n",
     "output_type": "stream"
    },
    {
     "name": "stderr",
     "text": "     41/150      7.24G      1.868      2.104      2.407         33        640: 100%|██████████| 31/31 [00:21<00:00,  1.46it/s]\n                 Class     Images  Instances      Box(P          R      mAP50  mAP50-95): 100%|██████████| 4/4 [00:01<00:00,  2.54it/s]",
     "output_type": "stream"
    },
    {
     "name": "stdout",
     "text": "                   all         85         85      0.388      0.442      0.394      0.155\n",
     "output_type": "stream"
    },
    {
     "name": "stderr",
     "text": "\n",
     "output_type": "stream"
    },
    {
     "name": "stdout",
     "text": "\n      Epoch    GPU_mem   box_loss   cls_loss   dfl_loss  Instances       Size\n",
     "output_type": "stream"
    },
    {
     "name": "stderr",
     "text": "     42/150      7.24G      1.831      2.115      2.383         28        640: 100%|██████████| 31/31 [00:20<00:00,  1.49it/s]\n                 Class     Images  Instances      Box(P          R      mAP50  mAP50-95): 100%|██████████| 4/4 [00:01<00:00,  2.22it/s]",
     "output_type": "stream"
    },
    {
     "name": "stdout",
     "text": "                   all         85         85      0.294      0.601      0.367      0.168\n",
     "output_type": "stream"
    },
    {
     "name": "stderr",
     "text": "\n",
     "output_type": "stream"
    },
    {
     "name": "stdout",
     "text": "\n      Epoch    GPU_mem   box_loss   cls_loss   dfl_loss  Instances       Size\n",
     "output_type": "stream"
    },
    {
     "name": "stderr",
     "text": "     43/150      7.26G      1.846      2.092      2.395         20        640: 100%|██████████| 31/31 [00:19<00:00,  1.55it/s]\n                 Class     Images  Instances      Box(P          R      mAP50  mAP50-95): 100%|██████████| 4/4 [00:01<00:00,  2.20it/s]",
     "output_type": "stream"
    },
    {
     "name": "stdout",
     "text": "                   all         85         85       0.36      0.632      0.464      0.181\n",
     "output_type": "stream"
    },
    {
     "name": "stderr",
     "text": "\n",
     "output_type": "stream"
    },
    {
     "name": "stdout",
     "text": "\n      Epoch    GPU_mem   box_loss   cls_loss   dfl_loss  Instances       Size\n",
     "output_type": "stream"
    },
    {
     "name": "stderr",
     "text": "     44/150      7.26G      1.876      2.136      2.402         34        640: 100%|██████████| 31/31 [00:19<00:00,  1.58it/s]\n                 Class     Images  Instances      Box(P          R      mAP50  mAP50-95): 100%|██████████| 4/4 [00:01<00:00,  2.47it/s]",
     "output_type": "stream"
    },
    {
     "name": "stdout",
     "text": "                   all         85         85       0.33      0.629      0.437      0.178\n",
     "output_type": "stream"
    },
    {
     "name": "stderr",
     "text": "\n",
     "output_type": "stream"
    },
    {
     "name": "stdout",
     "text": "\n      Epoch    GPU_mem   box_loss   cls_loss   dfl_loss  Instances       Size\n",
     "output_type": "stream"
    },
    {
     "name": "stderr",
     "text": "     45/150      7.25G      1.804      2.044      2.354         24        640: 100%|██████████| 31/31 [00:20<00:00,  1.48it/s]\n                 Class     Images  Instances      Box(P          R      mAP50  mAP50-95): 100%|██████████| 4/4 [00:01<00:00,  2.32it/s]\n",
     "output_type": "stream"
    },
    {
     "name": "stdout",
     "text": "                   all         85         85      0.226      0.532      0.349       0.15\n\n      Epoch    GPU_mem   box_loss   cls_loss   dfl_loss  Instances       Size\n",
     "output_type": "stream"
    },
    {
     "name": "stderr",
     "text": "     46/150      7.24G      1.815      2.078      2.357         30        640: 100%|██████████| 31/31 [00:21<00:00,  1.42it/s]\n                 Class     Images  Instances      Box(P          R      mAP50  mAP50-95): 100%|██████████| 4/4 [00:01<00:00,  2.75it/s]",
     "output_type": "stream"
    },
    {
     "name": "stdout",
     "text": "                   all         85         85      0.363      0.741      0.446      0.196\n",
     "output_type": "stream"
    },
    {
     "name": "stderr",
     "text": "\n",
     "output_type": "stream"
    },
    {
     "name": "stdout",
     "text": "\n      Epoch    GPU_mem   box_loss   cls_loss   dfl_loss  Instances       Size\n",
     "output_type": "stream"
    },
    {
     "name": "stderr",
     "text": "     47/150      7.24G      1.833      2.069      2.385         25        640: 100%|██████████| 31/31 [00:21<00:00,  1.46it/s]\n                 Class     Images  Instances      Box(P          R      mAP50  mAP50-95): 100%|██████████| 4/4 [00:01<00:00,  2.48it/s]\n",
     "output_type": "stream"
    },
    {
     "name": "stdout",
     "text": "                   all         85         85      0.441      0.569      0.526      0.229\n\n      Epoch    GPU_mem   box_loss   cls_loss   dfl_loss  Instances       Size\n",
     "output_type": "stream"
    },
    {
     "name": "stderr",
     "text": "     48/150      7.26G      1.792      2.023      2.356         28        640: 100%|██████████| 31/31 [00:20<00:00,  1.53it/s]\n                 Class     Images  Instances      Box(P          R      mAP50  mAP50-95): 100%|██████████| 4/4 [00:01<00:00,  2.45it/s]",
     "output_type": "stream"
    },
    {
     "name": "stdout",
     "text": "                   all         85         85      0.267      0.659      0.469      0.199\n",
     "output_type": "stream"
    },
    {
     "name": "stderr",
     "text": "\n",
     "output_type": "stream"
    },
    {
     "name": "stdout",
     "text": "\n      Epoch    GPU_mem   box_loss   cls_loss   dfl_loss  Instances       Size\n",
     "output_type": "stream"
    },
    {
     "name": "stderr",
     "text": "     49/150      7.26G      1.834      2.006      2.345         24        640: 100%|██████████| 31/31 [00:20<00:00,  1.48it/s]\n                 Class     Images  Instances      Box(P          R      mAP50  mAP50-95): 100%|██████████| 4/4 [00:01<00:00,  2.44it/s]",
     "output_type": "stream"
    },
    {
     "name": "stdout",
     "text": "                   all         85         85      0.344      0.664      0.478      0.214\n",
     "output_type": "stream"
    },
    {
     "name": "stderr",
     "text": "\n",
     "output_type": "stream"
    },
    {
     "name": "stdout",
     "text": "\n      Epoch    GPU_mem   box_loss   cls_loss   dfl_loss  Instances       Size\n",
     "output_type": "stream"
    },
    {
     "name": "stderr",
     "text": "     50/150      7.25G      1.783      1.972      2.341         26        640: 100%|██████████| 31/31 [00:21<00:00,  1.47it/s]\n                 Class     Images  Instances      Box(P          R      mAP50  mAP50-95): 100%|██████████| 4/4 [00:01<00:00,  2.43it/s]",
     "output_type": "stream"
    },
    {
     "name": "stdout",
     "text": "                   all         85         85      0.498      0.595      0.525      0.237\n",
     "output_type": "stream"
    },
    {
     "name": "stderr",
     "text": "\n",
     "output_type": "stream"
    },
    {
     "name": "stdout",
     "text": "\n      Epoch    GPU_mem   box_loss   cls_loss   dfl_loss  Instances       Size\n",
     "output_type": "stream"
    },
    {
     "name": "stderr",
     "text": "     51/150      7.24G       1.81      2.023      2.374         22        640: 100%|██████████| 31/31 [00:19<00:00,  1.56it/s]\n                 Class     Images  Instances      Box(P          R      mAP50  mAP50-95): 100%|██████████| 4/4 [00:01<00:00,  2.46it/s]\n",
     "output_type": "stream"
    },
    {
     "name": "stdout",
     "text": "                   all         85         85      0.268      0.564      0.338      0.145\n\n      Epoch    GPU_mem   box_loss   cls_loss   dfl_loss  Instances       Size\n",
     "output_type": "stream"
    },
    {
     "name": "stderr",
     "text": "     52/150      7.24G      1.787      1.993      2.354         25        640: 100%|██████████| 31/31 [00:20<00:00,  1.50it/s]\n                 Class     Images  Instances      Box(P          R      mAP50  mAP50-95): 100%|██████████| 4/4 [00:01<00:00,  2.07it/s]",
     "output_type": "stream"
    },
    {
     "name": "stdout",
     "text": "                   all         85         85      0.345      0.682      0.447      0.189\n",
     "output_type": "stream"
    },
    {
     "name": "stderr",
     "text": "\n",
     "output_type": "stream"
    },
    {
     "name": "stdout",
     "text": "\n      Epoch    GPU_mem   box_loss   cls_loss   dfl_loss  Instances       Size\n",
     "output_type": "stream"
    },
    {
     "name": "stderr",
     "text": "     53/150      7.26G      1.763      1.985      2.319         29        640: 100%|██████████| 31/31 [00:21<00:00,  1.47it/s]\n                 Class     Images  Instances      Box(P          R      mAP50  mAP50-95): 100%|██████████| 4/4 [00:01<00:00,  2.47it/s]",
     "output_type": "stream"
    },
    {
     "name": "stdout",
     "text": "                   all         85         85      0.366      0.734      0.432      0.184\n",
     "output_type": "stream"
    },
    {
     "name": "stderr",
     "text": "\n",
     "output_type": "stream"
    },
    {
     "name": "stdout",
     "text": "\n      Epoch    GPU_mem   box_loss   cls_loss   dfl_loss  Instances       Size\n",
     "output_type": "stream"
    },
    {
     "name": "stderr",
     "text": "     54/150      7.26G      1.739      1.925       2.28         27        640: 100%|██████████| 31/31 [00:20<00:00,  1.50it/s]\n                 Class     Images  Instances      Box(P          R      mAP50  mAP50-95): 100%|██████████| 4/4 [00:01<00:00,  2.22it/s]\n",
     "output_type": "stream"
    },
    {
     "name": "stdout",
     "text": "                   all         85         85      0.398      0.547      0.484       0.22\n\n      Epoch    GPU_mem   box_loss   cls_loss   dfl_loss  Instances       Size\n",
     "output_type": "stream"
    },
    {
     "name": "stderr",
     "text": "     55/150      7.25G      1.725      1.979      2.305         33        640: 100%|██████████| 31/31 [00:21<00:00,  1.45it/s]\n                 Class     Images  Instances      Box(P          R      mAP50  mAP50-95): 100%|██████████| 4/4 [00:01<00:00,  2.42it/s]\n",
     "output_type": "stream"
    },
    {
     "name": "stdout",
     "text": "                   all         85         85      0.341       0.75      0.443      0.214\n\n      Epoch    GPU_mem   box_loss   cls_loss   dfl_loss  Instances       Size\n",
     "output_type": "stream"
    },
    {
     "name": "stderr",
     "text": "     56/150      7.24G      1.695      1.889      2.262         36        640: 100%|██████████| 31/31 [00:20<00:00,  1.51it/s]\n                 Class     Images  Instances      Box(P          R      mAP50  mAP50-95): 100%|██████████| 4/4 [00:01<00:00,  2.39it/s]",
     "output_type": "stream"
    },
    {
     "name": "stdout",
     "text": "                   all         85         85      0.512      0.577       0.54      0.214\n",
     "output_type": "stream"
    },
    {
     "name": "stderr",
     "text": "\n",
     "output_type": "stream"
    },
    {
     "name": "stdout",
     "text": "\n      Epoch    GPU_mem   box_loss   cls_loss   dfl_loss  Instances       Size\n",
     "output_type": "stream"
    },
    {
     "name": "stderr",
     "text": "     57/150      7.24G      1.701      1.853      2.237         30        640: 100%|██████████| 31/31 [00:19<00:00,  1.55it/s]\n                 Class     Images  Instances      Box(P          R      mAP50  mAP50-95): 100%|██████████| 4/4 [00:01<00:00,  2.58it/s]",
     "output_type": "stream"
    },
    {
     "name": "stdout",
     "text": "                   all         85         85      0.376      0.767      0.471      0.221\n",
     "output_type": "stream"
    },
    {
     "name": "stderr",
     "text": "\n",
     "output_type": "stream"
    },
    {
     "name": "stdout",
     "text": "\n      Epoch    GPU_mem   box_loss   cls_loss   dfl_loss  Instances       Size\n",
     "output_type": "stream"
    },
    {
     "name": "stderr",
     "text": "     58/150      7.26G      1.723      1.859      2.256         32        640: 100%|██████████| 31/31 [00:19<00:00,  1.55it/s]\n                 Class     Images  Instances      Box(P          R      mAP50  mAP50-95): 100%|██████████| 4/4 [00:01<00:00,  2.69it/s]",
     "output_type": "stream"
    },
    {
     "name": "stdout",
     "text": "                   all         85         85      0.383      0.621      0.557      0.255\n",
     "output_type": "stream"
    },
    {
     "name": "stderr",
     "text": "\n",
     "output_type": "stream"
    },
    {
     "name": "stdout",
     "text": "\n      Epoch    GPU_mem   box_loss   cls_loss   dfl_loss  Instances       Size\n",
     "output_type": "stream"
    },
    {
     "name": "stderr",
     "text": "     59/150      7.26G      1.701      1.877      2.261         26        640: 100%|██████████| 31/31 [00:20<00:00,  1.54it/s]\n                 Class     Images  Instances      Box(P          R      mAP50  mAP50-95): 100%|██████████| 4/4 [00:01<00:00,  2.33it/s]",
     "output_type": "stream"
    },
    {
     "name": "stdout",
     "text": "                   all         85         85      0.381      0.505      0.425      0.183\n",
     "output_type": "stream"
    },
    {
     "name": "stderr",
     "text": "\n",
     "output_type": "stream"
    },
    {
     "name": "stdout",
     "text": "\n      Epoch    GPU_mem   box_loss   cls_loss   dfl_loss  Instances       Size\n",
     "output_type": "stream"
    },
    {
     "name": "stderr",
     "text": "     60/150      7.25G      1.687      1.909      2.253         31        640: 100%|██████████| 31/31 [00:20<00:00,  1.51it/s]\n                 Class     Images  Instances      Box(P          R      mAP50  mAP50-95): 100%|██████████| 4/4 [00:01<00:00,  2.55it/s]",
     "output_type": "stream"
    },
    {
     "name": "stdout",
     "text": "                   all         85         85      0.381       0.58      0.407      0.164\n",
     "output_type": "stream"
    },
    {
     "name": "stderr",
     "text": "\n",
     "output_type": "stream"
    },
    {
     "name": "stdout",
     "text": "\n      Epoch    GPU_mem   box_loss   cls_loss   dfl_loss  Instances       Size\n",
     "output_type": "stream"
    },
    {
     "name": "stderr",
     "text": "     61/150      7.24G      1.668      1.885      2.239         23        640: 100%|██████████| 31/31 [00:20<00:00,  1.51it/s]\n                 Class     Images  Instances      Box(P          R      mAP50  mAP50-95): 100%|██████████| 4/4 [00:01<00:00,  2.04it/s]",
     "output_type": "stream"
    },
    {
     "name": "stdout",
     "text": "                   all         85         85      0.339      0.552      0.379       0.16\n",
     "output_type": "stream"
    },
    {
     "name": "stderr",
     "text": "\n",
     "output_type": "stream"
    },
    {
     "name": "stdout",
     "text": "\n      Epoch    GPU_mem   box_loss   cls_loss   dfl_loss  Instances       Size\n",
     "output_type": "stream"
    },
    {
     "name": "stderr",
     "text": "     62/150      7.24G      1.722       1.86      2.273         31        640: 100%|██████████| 31/31 [00:19<00:00,  1.58it/s]\n                 Class     Images  Instances      Box(P          R      mAP50  mAP50-95): 100%|██████████| 4/4 [00:01<00:00,  2.77it/s]\n",
     "output_type": "stream"
    },
    {
     "name": "stdout",
     "text": "                   all         85         85      0.378      0.534      0.418      0.184\n\n      Epoch    GPU_mem   box_loss   cls_loss   dfl_loss  Instances       Size\n",
     "output_type": "stream"
    },
    {
     "name": "stderr",
     "text": "     63/150      7.26G      1.715       1.91      2.278         29        640: 100%|██████████| 31/31 [00:20<00:00,  1.55it/s]\n                 Class     Images  Instances      Box(P          R      mAP50  mAP50-95): 100%|██████████| 4/4 [00:01<00:00,  2.28it/s]\n",
     "output_type": "stream"
    },
    {
     "name": "stdout",
     "text": "                   all         85         85      0.414      0.614      0.517      0.229\n\n      Epoch    GPU_mem   box_loss   cls_loss   dfl_loss  Instances       Size\n",
     "output_type": "stream"
    },
    {
     "name": "stderr",
     "text": "     64/150      7.26G       1.65      1.846      2.204         23        640: 100%|██████████| 31/31 [00:21<00:00,  1.42it/s]\n                 Class     Images  Instances      Box(P          R      mAP50  mAP50-95): 100%|██████████| 4/4 [00:01<00:00,  2.25it/s]",
     "output_type": "stream"
    },
    {
     "name": "stdout",
     "text": "                   all         85         85      0.388      0.626      0.455      0.219\n",
     "output_type": "stream"
    },
    {
     "name": "stderr",
     "text": "\n",
     "output_type": "stream"
    },
    {
     "name": "stdout",
     "text": "\n      Epoch    GPU_mem   box_loss   cls_loss   dfl_loss  Instances       Size\n",
     "output_type": "stream"
    },
    {
     "name": "stderr",
     "text": "     65/150      7.25G      1.682      1.821      2.236         22        640: 100%|██████████| 31/31 [00:22<00:00,  1.40it/s]\n                 Class     Images  Instances      Box(P          R      mAP50  mAP50-95): 100%|██████████| 4/4 [00:01<00:00,  2.69it/s]\n",
     "output_type": "stream"
    },
    {
     "name": "stdout",
     "text": "                   all         85         85      0.366      0.672      0.457       0.22\n\n      Epoch    GPU_mem   box_loss   cls_loss   dfl_loss  Instances       Size\n",
     "output_type": "stream"
    },
    {
     "name": "stderr",
     "text": "     66/150      7.24G      1.683      1.798      2.219         28        640: 100%|██████████| 31/31 [00:19<00:00,  1.61it/s]\n                 Class     Images  Instances      Box(P          R      mAP50  mAP50-95): 100%|██████████| 4/4 [00:01<00:00,  2.16it/s]",
     "output_type": "stream"
    },
    {
     "name": "stdout",
     "text": "                   all         85         85      0.362      0.696      0.495      0.215\n",
     "output_type": "stream"
    },
    {
     "name": "stderr",
     "text": "\n",
     "output_type": "stream"
    },
    {
     "name": "stdout",
     "text": "\n      Epoch    GPU_mem   box_loss   cls_loss   dfl_loss  Instances       Size\n",
     "output_type": "stream"
    },
    {
     "name": "stderr",
     "text": "     67/150      7.24G      1.645      1.768      2.188         28        640: 100%|██████████| 31/31 [00:21<00:00,  1.46it/s]\n                 Class     Images  Instances      Box(P          R      mAP50  mAP50-95): 100%|██████████| 4/4 [00:01<00:00,  2.45it/s]\n",
     "output_type": "stream"
    },
    {
     "name": "stdout",
     "text": "                   all         85         85      0.443       0.66      0.492      0.217\n\n      Epoch    GPU_mem   box_loss   cls_loss   dfl_loss  Instances       Size\n",
     "output_type": "stream"
    },
    {
     "name": "stderr",
     "text": "     68/150      7.26G      1.625      1.805      2.211         32        640: 100%|██████████| 31/31 [00:21<00:00,  1.41it/s]\n                 Class     Images  Instances      Box(P          R      mAP50  mAP50-95): 100%|██████████| 4/4 [00:01<00:00,  2.63it/s]",
     "output_type": "stream"
    },
    {
     "name": "stdout",
     "text": "                   all         85         85      0.403      0.698      0.503      0.234\n",
     "output_type": "stream"
    },
    {
     "name": "stderr",
     "text": "\n",
     "output_type": "stream"
    },
    {
     "name": "stdout",
     "text": "\n      Epoch    GPU_mem   box_loss   cls_loss   dfl_loss  Instances       Size\n",
     "output_type": "stream"
    },
    {
     "name": "stderr",
     "text": "     69/150      7.26G      1.653      1.822      2.225         35        640: 100%|██████████| 31/31 [00:20<00:00,  1.49it/s]\n                 Class     Images  Instances      Box(P          R      mAP50  mAP50-95): 100%|██████████| 4/4 [00:01<00:00,  2.16it/s]\n",
     "output_type": "stream"
    },
    {
     "name": "stdout",
     "text": "                   all         85         85      0.459      0.571      0.524      0.242\n\n      Epoch    GPU_mem   box_loss   cls_loss   dfl_loss  Instances       Size\n",
     "output_type": "stream"
    },
    {
     "name": "stderr",
     "text": "     70/150      7.25G      1.629      1.784      2.204         29        640: 100%|██████████| 31/31 [00:20<00:00,  1.49it/s]\n                 Class     Images  Instances      Box(P          R      mAP50  mAP50-95): 100%|██████████| 4/4 [00:01<00:00,  2.24it/s]\n",
     "output_type": "stream"
    },
    {
     "name": "stdout",
     "text": "                   all         85         85       0.44      0.616      0.558      0.267\n\n      Epoch    GPU_mem   box_loss   cls_loss   dfl_loss  Instances       Size\n",
     "output_type": "stream"
    },
    {
     "name": "stderr",
     "text": "     71/150      7.24G      1.637      1.762      2.215         28        640: 100%|██████████| 31/31 [00:20<00:00,  1.53it/s]\n                 Class     Images  Instances      Box(P          R      mAP50  mAP50-95): 100%|██████████| 4/4 [00:01<00:00,  2.18it/s]",
     "output_type": "stream"
    },
    {
     "name": "stdout",
     "text": "                   all         85         85      0.457      0.709      0.508      0.242\n",
     "output_type": "stream"
    },
    {
     "name": "stderr",
     "text": "\n",
     "output_type": "stream"
    },
    {
     "name": "stdout",
     "text": "\n      Epoch    GPU_mem   box_loss   cls_loss   dfl_loss  Instances       Size\n",
     "output_type": "stream"
    },
    {
     "name": "stderr",
     "text": "     72/150      7.24G      1.678      1.801      2.238         24        640: 100%|██████████| 31/31 [00:20<00:00,  1.52it/s]\n                 Class     Images  Instances      Box(P          R      mAP50  mAP50-95): 100%|██████████| 4/4 [00:01<00:00,  2.48it/s]",
     "output_type": "stream"
    },
    {
     "name": "stdout",
     "text": "                   all         85         85       0.56       0.69      0.606      0.271\n",
     "output_type": "stream"
    },
    {
     "name": "stderr",
     "text": "\n",
     "output_type": "stream"
    },
    {
     "name": "stdout",
     "text": "\n      Epoch    GPU_mem   box_loss   cls_loss   dfl_loss  Instances       Size\n",
     "output_type": "stream"
    },
    {
     "name": "stderr",
     "text": "     73/150      7.26G      1.622      1.815      2.187         26        640: 100%|██████████| 31/31 [00:21<00:00,  1.45it/s]\n                 Class     Images  Instances      Box(P          R      mAP50  mAP50-95): 100%|██████████| 4/4 [00:01<00:00,  2.53it/s]",
     "output_type": "stream"
    },
    {
     "name": "stdout",
     "text": "                   all         85         85      0.297      0.568      0.396      0.171\n",
     "output_type": "stream"
    },
    {
     "name": "stderr",
     "text": "\n",
     "output_type": "stream"
    },
    {
     "name": "stdout",
     "text": "\n      Epoch    GPU_mem   box_loss   cls_loss   dfl_loss  Instances       Size\n",
     "output_type": "stream"
    },
    {
     "name": "stderr",
     "text": "     74/150      7.26G       1.57       1.73      2.143         28        640: 100%|██████████| 31/31 [00:20<00:00,  1.51it/s]\n                 Class     Images  Instances      Box(P          R      mAP50  mAP50-95): 100%|██████████| 4/4 [00:01<00:00,  2.65it/s]",
     "output_type": "stream"
    },
    {
     "name": "stdout",
     "text": "                   all         85         85      0.371      0.799      0.522      0.217\n",
     "output_type": "stream"
    },
    {
     "name": "stderr",
     "text": "\n",
     "output_type": "stream"
    },
    {
     "name": "stdout",
     "text": "\n      Epoch    GPU_mem   box_loss   cls_loss   dfl_loss  Instances       Size\n",
     "output_type": "stream"
    },
    {
     "name": "stderr",
     "text": "     75/150      7.25G      1.598      1.726      2.165         27        640: 100%|██████████| 31/31 [00:20<00:00,  1.51it/s]\n                 Class     Images  Instances      Box(P          R      mAP50  mAP50-95): 100%|██████████| 4/4 [00:01<00:00,  2.47it/s]",
     "output_type": "stream"
    },
    {
     "name": "stdout",
     "text": "                   all         85         85      0.419      0.601      0.421      0.221\n",
     "output_type": "stream"
    },
    {
     "name": "stderr",
     "text": "\n",
     "output_type": "stream"
    },
    {
     "name": "stdout",
     "text": "\n      Epoch    GPU_mem   box_loss   cls_loss   dfl_loss  Instances       Size\n",
     "output_type": "stream"
    },
    {
     "name": "stderr",
     "text": "     76/150      7.24G      1.588      1.749      2.144         27        640: 100%|██████████| 31/31 [00:21<00:00,  1.43it/s]\n                 Class     Images  Instances      Box(P          R      mAP50  mAP50-95): 100%|██████████| 4/4 [00:01<00:00,  2.68it/s]",
     "output_type": "stream"
    },
    {
     "name": "stdout",
     "text": "                   all         85         85      0.513      0.691       0.59      0.275\n",
     "output_type": "stream"
    },
    {
     "name": "stderr",
     "text": "\n",
     "output_type": "stream"
    },
    {
     "name": "stdout",
     "text": "\n      Epoch    GPU_mem   box_loss   cls_loss   dfl_loss  Instances       Size\n",
     "output_type": "stream"
    },
    {
     "name": "stderr",
     "text": "     77/150      7.24G      1.583      1.717      2.149         29        640: 100%|██████████| 31/31 [00:21<00:00,  1.46it/s]\n                 Class     Images  Instances      Box(P          R      mAP50  mAP50-95): 100%|██████████| 4/4 [00:01<00:00,  2.54it/s]",
     "output_type": "stream"
    },
    {
     "name": "stdout",
     "text": "                   all         85         85      0.384      0.654      0.544      0.261\n",
     "output_type": "stream"
    },
    {
     "name": "stderr",
     "text": "\n",
     "output_type": "stream"
    },
    {
     "name": "stdout",
     "text": "\n      Epoch    GPU_mem   box_loss   cls_loss   dfl_loss  Instances       Size\n",
     "output_type": "stream"
    },
    {
     "name": "stderr",
     "text": "     78/150      7.26G      1.592      1.692      2.167         25        640: 100%|██████████| 31/31 [00:20<00:00,  1.52it/s]\n                 Class     Images  Instances      Box(P          R      mAP50  mAP50-95): 100%|██████████| 4/4 [00:01<00:00,  2.46it/s]",
     "output_type": "stream"
    },
    {
     "name": "stdout",
     "text": "                   all         85         85      0.508       0.68      0.618      0.293\n",
     "output_type": "stream"
    },
    {
     "name": "stderr",
     "text": "\n",
     "output_type": "stream"
    },
    {
     "name": "stdout",
     "text": "\n      Epoch    GPU_mem   box_loss   cls_loss   dfl_loss  Instances       Size\n",
     "output_type": "stream"
    },
    {
     "name": "stderr",
     "text": "     79/150      7.26G      1.591      1.796       2.15         32        640: 100%|██████████| 31/31 [00:20<00:00,  1.50it/s]\n                 Class     Images  Instances      Box(P          R      mAP50  mAP50-95): 100%|██████████| 4/4 [00:01<00:00,  2.37it/s]",
     "output_type": "stream"
    },
    {
     "name": "stdout",
     "text": "                   all         85         85      0.261       0.66       0.33      0.118\n",
     "output_type": "stream"
    },
    {
     "name": "stderr",
     "text": "\n",
     "output_type": "stream"
    },
    {
     "name": "stdout",
     "text": "\n      Epoch    GPU_mem   box_loss   cls_loss   dfl_loss  Instances       Size\n",
     "output_type": "stream"
    },
    {
     "name": "stderr",
     "text": "     80/150      7.25G      1.584      1.676      2.179         27        640: 100%|██████████| 31/31 [00:19<00:00,  1.57it/s]\n                 Class     Images  Instances      Box(P          R      mAP50  mAP50-95): 100%|██████████| 4/4 [00:01<00:00,  2.24it/s]\n",
     "output_type": "stream"
    },
    {
     "name": "stdout",
     "text": "                   all         85         85      0.601      0.744      0.678      0.307\n\n      Epoch    GPU_mem   box_loss   cls_loss   dfl_loss  Instances       Size\n",
     "output_type": "stream"
    },
    {
     "name": "stderr",
     "text": "     81/150      7.24G      1.582      1.733      2.161         24        640: 100%|██████████| 31/31 [00:19<00:00,  1.56it/s]\n                 Class     Images  Instances      Box(P          R      mAP50  mAP50-95): 100%|██████████| 4/4 [00:01<00:00,  2.29it/s]\n",
     "output_type": "stream"
    },
    {
     "name": "stdout",
     "text": "                   all         85         85      0.468      0.774      0.607      0.281\n\n      Epoch    GPU_mem   box_loss   cls_loss   dfl_loss  Instances       Size\n",
     "output_type": "stream"
    },
    {
     "name": "stderr",
     "text": "     82/150      7.24G      1.584      1.674       2.13         25        640: 100%|██████████| 31/31 [00:20<00:00,  1.53it/s]\n                 Class     Images  Instances      Box(P          R      mAP50  mAP50-95): 100%|██████████| 4/4 [00:01<00:00,  2.43it/s]\n",
     "output_type": "stream"
    },
    {
     "name": "stdout",
     "text": "                   all         85         85      0.486      0.676        0.6      0.258\n\n      Epoch    GPU_mem   box_loss   cls_loss   dfl_loss  Instances       Size\n",
     "output_type": "stream"
    },
    {
     "name": "stderr",
     "text": "     83/150      7.26G      1.594      1.639      2.142         28        640: 100%|██████████| 31/31 [00:22<00:00,  1.36it/s]\n                 Class     Images  Instances      Box(P          R      mAP50  mAP50-95): 100%|██████████| 4/4 [00:01<00:00,  2.56it/s]",
     "output_type": "stream"
    },
    {
     "name": "stdout",
     "text": "                   all         85         85      0.542        0.7      0.698      0.331\n",
     "output_type": "stream"
    },
    {
     "name": "stderr",
     "text": "\n",
     "output_type": "stream"
    },
    {
     "name": "stdout",
     "text": "\n      Epoch    GPU_mem   box_loss   cls_loss   dfl_loss  Instances       Size\n",
     "output_type": "stream"
    },
    {
     "name": "stderr",
     "text": "     84/150      7.26G      1.548      1.581      2.108         36        640: 100%|██████████| 31/31 [00:20<00:00,  1.51it/s]\n                 Class     Images  Instances      Box(P          R      mAP50  mAP50-95): 100%|██████████| 4/4 [00:01<00:00,  2.89it/s]",
     "output_type": "stream"
    },
    {
     "name": "stdout",
     "text": "                   all         85         85      0.576      0.652      0.642      0.312\n",
     "output_type": "stream"
    },
    {
     "name": "stderr",
     "text": "\n",
     "output_type": "stream"
    },
    {
     "name": "stdout",
     "text": "\n      Epoch    GPU_mem   box_loss   cls_loss   dfl_loss  Instances       Size\n",
     "output_type": "stream"
    },
    {
     "name": "stderr",
     "text": "     85/150      7.25G      1.552      1.663      2.131         24        640: 100%|██████████| 31/31 [00:19<00:00,  1.56it/s]\n                 Class     Images  Instances      Box(P          R      mAP50  mAP50-95): 100%|██████████| 4/4 [00:01<00:00,  2.56it/s]",
     "output_type": "stream"
    },
    {
     "name": "stdout",
     "text": "                   all         85         85      0.409      0.604      0.469      0.245\n",
     "output_type": "stream"
    },
    {
     "name": "stderr",
     "text": "\n",
     "output_type": "stream"
    },
    {
     "name": "stdout",
     "text": "\n      Epoch    GPU_mem   box_loss   cls_loss   dfl_loss  Instances       Size\n",
     "output_type": "stream"
    },
    {
     "name": "stderr",
     "text": "     86/150      7.24G       1.56      1.636      2.112         27        640: 100%|██████████| 31/31 [00:20<00:00,  1.48it/s]\n                 Class     Images  Instances      Box(P          R      mAP50  mAP50-95): 100%|██████████| 4/4 [00:01<00:00,  2.02it/s]",
     "output_type": "stream"
    },
    {
     "name": "stdout",
     "text": "                   all         85         85      0.555      0.656      0.655      0.306\n",
     "output_type": "stream"
    },
    {
     "name": "stderr",
     "text": "\n",
     "output_type": "stream"
    },
    {
     "name": "stdout",
     "text": "\n      Epoch    GPU_mem   box_loss   cls_loss   dfl_loss  Instances       Size\n",
     "output_type": "stream"
    },
    {
     "name": "stderr",
     "text": "     87/150      7.24G      1.498      1.548      2.075         22        640: 100%|██████████| 31/31 [00:20<00:00,  1.53it/s]\n                 Class     Images  Instances      Box(P          R      mAP50  mAP50-95): 100%|██████████| 4/4 [00:01<00:00,  2.32it/s]",
     "output_type": "stream"
    },
    {
     "name": "stdout",
     "text": "                   all         85         85      0.674      0.668      0.659      0.313\n",
     "output_type": "stream"
    },
    {
     "name": "stderr",
     "text": "\n",
     "output_type": "stream"
    },
    {
     "name": "stdout",
     "text": "\n      Epoch    GPU_mem   box_loss   cls_loss   dfl_loss  Instances       Size\n",
     "output_type": "stream"
    },
    {
     "name": "stderr",
     "text": "     88/150      7.26G      1.513      1.591       2.11         28        640: 100%|██████████| 31/31 [00:21<00:00,  1.46it/s]\n                 Class     Images  Instances      Box(P          R      mAP50  mAP50-95): 100%|██████████| 4/4 [00:01<00:00,  2.21it/s]\n",
     "output_type": "stream"
    },
    {
     "name": "stdout",
     "text": "                   all         85         85      0.576      0.638      0.588      0.296\n\n      Epoch    GPU_mem   box_loss   cls_loss   dfl_loss  Instances       Size\n",
     "output_type": "stream"
    },
    {
     "name": "stderr",
     "text": "     89/150      7.26G       1.54      1.573      2.099         32        640: 100%|██████████| 31/31 [00:21<00:00,  1.46it/s]\n                 Class     Images  Instances      Box(P          R      mAP50  mAP50-95): 100%|██████████| 4/4 [00:01<00:00,  2.50it/s]",
     "output_type": "stream"
    },
    {
     "name": "stdout",
     "text": "                   all         85         85      0.482      0.715      0.569      0.224\n",
     "output_type": "stream"
    },
    {
     "name": "stderr",
     "text": "\n",
     "output_type": "stream"
    },
    {
     "name": "stdout",
     "text": "\n      Epoch    GPU_mem   box_loss   cls_loss   dfl_loss  Instances       Size\n",
     "output_type": "stream"
    },
    {
     "name": "stderr",
     "text": "     90/150      7.25G       1.57      1.571      2.116         30        640: 100%|██████████| 31/31 [00:20<00:00,  1.49it/s]\n                 Class     Images  Instances      Box(P          R      mAP50  mAP50-95): 100%|██████████| 4/4 [00:01<00:00,  2.30it/s]",
     "output_type": "stream"
    },
    {
     "name": "stdout",
     "text": "                   all         85         85      0.517      0.752      0.593      0.276\n",
     "output_type": "stream"
    },
    {
     "name": "stderr",
     "text": "\n",
     "output_type": "stream"
    },
    {
     "name": "stdout",
     "text": "\n      Epoch    GPU_mem   box_loss   cls_loss   dfl_loss  Instances       Size\n",
     "output_type": "stream"
    },
    {
     "name": "stderr",
     "text": "     91/150      7.24G      1.498      1.541      2.074         31        640: 100%|██████████| 31/31 [00:21<00:00,  1.48it/s]\n                 Class     Images  Instances      Box(P          R      mAP50  mAP50-95): 100%|██████████| 4/4 [00:01<00:00,  2.65it/s]",
     "output_type": "stream"
    },
    {
     "name": "stdout",
     "text": "                   all         85         85      0.458      0.621      0.545      0.274\n",
     "output_type": "stream"
    },
    {
     "name": "stderr",
     "text": "\n",
     "output_type": "stream"
    },
    {
     "name": "stdout",
     "text": "\n      Epoch    GPU_mem   box_loss   cls_loss   dfl_loss  Instances       Size\n",
     "output_type": "stream"
    },
    {
     "name": "stderr",
     "text": "     92/150      7.24G      1.513      1.564       2.08         31        640: 100%|██████████| 31/31 [00:20<00:00,  1.49it/s]\n                 Class     Images  Instances      Box(P          R      mAP50  mAP50-95): 100%|██████████| 4/4 [00:01<00:00,  2.43it/s]",
     "output_type": "stream"
    },
    {
     "name": "stdout",
     "text": "                   all         85         85      0.655      0.637      0.707       0.34\n",
     "output_type": "stream"
    },
    {
     "name": "stderr",
     "text": "\n",
     "output_type": "stream"
    },
    {
     "name": "stdout",
     "text": "\n      Epoch    GPU_mem   box_loss   cls_loss   dfl_loss  Instances       Size\n",
     "output_type": "stream"
    },
    {
     "name": "stderr",
     "text": "     93/150      7.26G      1.529      1.563      2.071         23        640: 100%|██████████| 31/31 [00:20<00:00,  1.50it/s]\n                 Class     Images  Instances      Box(P          R      mAP50  mAP50-95): 100%|██████████| 4/4 [00:01<00:00,  2.58it/s]",
     "output_type": "stream"
    },
    {
     "name": "stdout",
     "text": "                   all         85         85      0.623      0.689      0.686      0.348\n",
     "output_type": "stream"
    },
    {
     "name": "stderr",
     "text": "\n",
     "output_type": "stream"
    },
    {
     "name": "stdout",
     "text": "\n      Epoch    GPU_mem   box_loss   cls_loss   dfl_loss  Instances       Size\n",
     "output_type": "stream"
    },
    {
     "name": "stderr",
     "text": "     94/150      7.26G      1.469      1.551       2.06         24        640: 100%|██████████| 31/31 [00:21<00:00,  1.45it/s]\n                 Class     Images  Instances      Box(P          R      mAP50  mAP50-95): 100%|██████████| 4/4 [00:01<00:00,  2.28it/s]",
     "output_type": "stream"
    },
    {
     "name": "stdout",
     "text": "                   all         85         85      0.524      0.682      0.606      0.277\n",
     "output_type": "stream"
    },
    {
     "name": "stderr",
     "text": "\n",
     "output_type": "stream"
    },
    {
     "name": "stdout",
     "text": "\n      Epoch    GPU_mem   box_loss   cls_loss   dfl_loss  Instances       Size\n",
     "output_type": "stream"
    },
    {
     "name": "stderr",
     "text": "     95/150      7.25G      1.482      1.505      2.065         28        640: 100%|██████████| 31/31 [00:21<00:00,  1.43it/s]\n                 Class     Images  Instances      Box(P          R      mAP50  mAP50-95): 100%|██████████| 4/4 [00:01<00:00,  2.76it/s]",
     "output_type": "stream"
    },
    {
     "name": "stdout",
     "text": "                   all         85         85      0.658      0.761       0.74        0.4\n",
     "output_type": "stream"
    },
    {
     "name": "stderr",
     "text": "\n",
     "output_type": "stream"
    },
    {
     "name": "stdout",
     "text": "\n      Epoch    GPU_mem   box_loss   cls_loss   dfl_loss  Instances       Size\n",
     "output_type": "stream"
    },
    {
     "name": "stderr",
     "text": "     96/150      7.24G      1.512      1.495      2.074         22        640: 100%|██████████| 31/31 [00:19<00:00,  1.55it/s]\n                 Class     Images  Instances      Box(P          R      mAP50  mAP50-95): 100%|██████████| 4/4 [00:01<00:00,  2.58it/s]\n",
     "output_type": "stream"
    },
    {
     "name": "stdout",
     "text": "                   all         85         85      0.567      0.798      0.696      0.357\n\n      Epoch    GPU_mem   box_loss   cls_loss   dfl_loss  Instances       Size\n",
     "output_type": "stream"
    },
    {
     "name": "stderr",
     "text": "     97/150      7.24G      1.436      1.458      2.023         29        640: 100%|██████████| 31/31 [00:21<00:00,  1.43it/s]\n                 Class     Images  Instances      Box(P          R      mAP50  mAP50-95): 100%|██████████| 4/4 [00:01<00:00,  2.26it/s]",
     "output_type": "stream"
    },
    {
     "name": "stdout",
     "text": "                   all         85         85       0.71      0.772      0.776      0.375\n",
     "output_type": "stream"
    },
    {
     "name": "stderr",
     "text": "\n",
     "output_type": "stream"
    },
    {
     "name": "stdout",
     "text": "\n      Epoch    GPU_mem   box_loss   cls_loss   dfl_loss  Instances       Size\n",
     "output_type": "stream"
    },
    {
     "name": "stderr",
     "text": "     98/150      7.26G       1.52      1.497      2.081         30        640: 100%|██████████| 31/31 [00:20<00:00,  1.49it/s]\n                 Class     Images  Instances      Box(P          R      mAP50  mAP50-95): 100%|██████████| 4/4 [00:01<00:00,  2.43it/s]",
     "output_type": "stream"
    },
    {
     "name": "stdout",
     "text": "                   all         85         85      0.603      0.687      0.669      0.328\n",
     "output_type": "stream"
    },
    {
     "name": "stderr",
     "text": "\n",
     "output_type": "stream"
    },
    {
     "name": "stdout",
     "text": "\n      Epoch    GPU_mem   box_loss   cls_loss   dfl_loss  Instances       Size\n",
     "output_type": "stream"
    },
    {
     "name": "stderr",
     "text": "     99/150      7.26G      1.464      1.476      2.049         30        640: 100%|██████████| 31/31 [00:21<00:00,  1.45it/s]\n                 Class     Images  Instances      Box(P          R      mAP50  mAP50-95): 100%|██████████| 4/4 [00:01<00:00,  2.63it/s]",
     "output_type": "stream"
    },
    {
     "name": "stdout",
     "text": "                   all         85         85      0.682       0.73      0.773      0.389\n",
     "output_type": "stream"
    },
    {
     "name": "stderr",
     "text": "\n",
     "output_type": "stream"
    },
    {
     "name": "stdout",
     "text": "\n      Epoch    GPU_mem   box_loss   cls_loss   dfl_loss  Instances       Size\n",
     "output_type": "stream"
    },
    {
     "name": "stderr",
     "text": "    100/150      7.25G      1.497      1.494      2.078         23        640: 100%|██████████| 31/31 [00:21<00:00,  1.47it/s]\n                 Class     Images  Instances      Box(P          R      mAP50  mAP50-95): 100%|██████████| 4/4 [00:01<00:00,  2.40it/s]",
     "output_type": "stream"
    },
    {
     "name": "stdout",
     "text": "                   all         85         85      0.551      0.782       0.73      0.355\n",
     "output_type": "stream"
    },
    {
     "name": "stderr",
     "text": "\n",
     "output_type": "stream"
    },
    {
     "name": "stdout",
     "text": "\n      Epoch    GPU_mem   box_loss   cls_loss   dfl_loss  Instances       Size\n",
     "output_type": "stream"
    },
    {
     "name": "stderr",
     "text": "    101/150      7.24G      1.501       1.58      2.072         25        640: 100%|██████████| 31/31 [00:22<00:00,  1.40it/s]\n                 Class     Images  Instances      Box(P          R      mAP50  mAP50-95): 100%|██████████| 4/4 [00:01<00:00,  2.45it/s]\n",
     "output_type": "stream"
    },
    {
     "name": "stdout",
     "text": "                   all         85         85        0.7      0.759       0.81      0.411\n\n      Epoch    GPU_mem   box_loss   cls_loss   dfl_loss  Instances       Size\n",
     "output_type": "stream"
    },
    {
     "name": "stderr",
     "text": "    102/150      7.24G      1.465      1.467      2.037         34        640: 100%|██████████| 31/31 [00:21<00:00,  1.42it/s]\n                 Class     Images  Instances      Box(P          R      mAP50  mAP50-95): 100%|██████████| 4/4 [00:01<00:00,  2.62it/s]",
     "output_type": "stream"
    },
    {
     "name": "stdout",
     "text": "                   all         85         85      0.698      0.649      0.722      0.351\n",
     "output_type": "stream"
    },
    {
     "name": "stderr",
     "text": "\n",
     "output_type": "stream"
    },
    {
     "name": "stdout",
     "text": "\n      Epoch    GPU_mem   box_loss   cls_loss   dfl_loss  Instances       Size\n",
     "output_type": "stream"
    },
    {
     "name": "stderr",
     "text": "    103/150      7.26G      1.447      1.459      2.021         34        640: 100%|██████████| 31/31 [00:20<00:00,  1.50it/s]\n                 Class     Images  Instances      Box(P          R      mAP50  mAP50-95): 100%|██████████| 4/4 [00:01<00:00,  2.66it/s]",
     "output_type": "stream"
    },
    {
     "name": "stdout",
     "text": "                   all         85         85      0.544      0.683      0.702      0.342\n",
     "output_type": "stream"
    },
    {
     "name": "stderr",
     "text": "\n",
     "output_type": "stream"
    },
    {
     "name": "stdout",
     "text": "\n      Epoch    GPU_mem   box_loss   cls_loss   dfl_loss  Instances       Size\n",
     "output_type": "stream"
    },
    {
     "name": "stderr",
     "text": "    104/150      7.26G      1.466       1.47      2.016         25        640: 100%|██████████| 31/31 [00:20<00:00,  1.49it/s]\n                 Class     Images  Instances      Box(P          R      mAP50  mAP50-95): 100%|██████████| 4/4 [00:01<00:00,  2.17it/s]",
     "output_type": "stream"
    },
    {
     "name": "stdout",
     "text": "                   all         85         85      0.551      0.741      0.611      0.298\n",
     "output_type": "stream"
    },
    {
     "name": "stderr",
     "text": "\n",
     "output_type": "stream"
    },
    {
     "name": "stdout",
     "text": "\n      Epoch    GPU_mem   box_loss   cls_loss   dfl_loss  Instances       Size\n",
     "output_type": "stream"
    },
    {
     "name": "stderr",
     "text": "    105/150      7.25G      1.421       1.45      1.992         29        640: 100%|██████████| 31/31 [00:21<00:00,  1.46it/s]\n                 Class     Images  Instances      Box(P          R      mAP50  mAP50-95): 100%|██████████| 4/4 [00:01<00:00,  2.29it/s]",
     "output_type": "stream"
    },
    {
     "name": "stdout",
     "text": "                   all         85         85      0.685       0.73      0.754      0.387\n",
     "output_type": "stream"
    },
    {
     "name": "stderr",
     "text": "\n",
     "output_type": "stream"
    },
    {
     "name": "stdout",
     "text": "\n      Epoch    GPU_mem   box_loss   cls_loss   dfl_loss  Instances       Size\n",
     "output_type": "stream"
    },
    {
     "name": "stderr",
     "text": "    106/150      7.24G      1.428      1.415       2.01         29        640: 100%|██████████| 31/31 [00:21<00:00,  1.46it/s]\n                 Class     Images  Instances      Box(P          R      mAP50  mAP50-95): 100%|██████████| 4/4 [00:01<00:00,  2.51it/s]",
     "output_type": "stream"
    },
    {
     "name": "stdout",
     "text": "                   all         85         85       0.74      0.721      0.785      0.394\n",
     "output_type": "stream"
    },
    {
     "name": "stderr",
     "text": "\n",
     "output_type": "stream"
    },
    {
     "name": "stdout",
     "text": "\n      Epoch    GPU_mem   box_loss   cls_loss   dfl_loss  Instances       Size\n",
     "output_type": "stream"
    },
    {
     "name": "stderr",
     "text": "    107/150      7.24G      1.438       1.37      2.017         30        640: 100%|██████████| 31/31 [00:20<00:00,  1.49it/s]\n                 Class     Images  Instances      Box(P          R      mAP50  mAP50-95): 100%|██████████| 4/4 [00:01<00:00,  2.34it/s]",
     "output_type": "stream"
    },
    {
     "name": "stdout",
     "text": "                   all         85         85      0.607      0.842      0.777      0.388\n",
     "output_type": "stream"
    },
    {
     "name": "stderr",
     "text": "\n",
     "output_type": "stream"
    },
    {
     "name": "stdout",
     "text": "\n      Epoch    GPU_mem   box_loss   cls_loss   dfl_loss  Instances       Size\n",
     "output_type": "stream"
    },
    {
     "name": "stderr",
     "text": "    108/150      7.26G       1.46      1.394      2.016         25        640: 100%|██████████| 31/31 [00:20<00:00,  1.52it/s]\n                 Class     Images  Instances      Box(P          R      mAP50  mAP50-95): 100%|██████████| 4/4 [00:01<00:00,  2.07it/s]",
     "output_type": "stream"
    },
    {
     "name": "stdout",
     "text": "                   all         85         85      0.687      0.649      0.747      0.361\n",
     "output_type": "stream"
    },
    {
     "name": "stderr",
     "text": "\n",
     "output_type": "stream"
    },
    {
     "name": "stdout",
     "text": "\n      Epoch    GPU_mem   box_loss   cls_loss   dfl_loss  Instances       Size\n",
     "output_type": "stream"
    },
    {
     "name": "stderr",
     "text": "    109/150      7.26G      1.417      1.444      1.994         24        640: 100%|██████████| 31/31 [00:20<00:00,  1.50it/s]\n                 Class     Images  Instances      Box(P          R      mAP50  mAP50-95): 100%|██████████| 4/4 [00:01<00:00,  2.15it/s]\n",
     "output_type": "stream"
    },
    {
     "name": "stdout",
     "text": "                   all         85         85      0.547      0.803       0.73      0.366\n\n      Epoch    GPU_mem   box_loss   cls_loss   dfl_loss  Instances       Size\n",
     "output_type": "stream"
    },
    {
     "name": "stderr",
     "text": "    110/150      7.25G      1.434      1.372      1.992         28        640: 100%|██████████| 31/31 [00:21<00:00,  1.47it/s]\n                 Class     Images  Instances      Box(P          R      mAP50  mAP50-95): 100%|██████████| 4/4 [00:01<00:00,  2.31it/s]\n",
     "output_type": "stream"
    },
    {
     "name": "stdout",
     "text": "                   all         85         85      0.661      0.848       0.79       0.39\n\n      Epoch    GPU_mem   box_loss   cls_loss   dfl_loss  Instances       Size\n",
     "output_type": "stream"
    },
    {
     "name": "stderr",
     "text": "    111/150      7.24G      1.492      1.475      2.049         34        640: 100%|██████████| 31/31 [00:21<00:00,  1.43it/s]\n                 Class     Images  Instances      Box(P          R      mAP50  mAP50-95): 100%|██████████| 4/4 [00:01<00:00,  2.61it/s]\n",
     "output_type": "stream"
    },
    {
     "name": "stdout",
     "text": "                   all         85         85      0.706      0.759       0.83      0.425\n\n      Epoch    GPU_mem   box_loss   cls_loss   dfl_loss  Instances       Size\n",
     "output_type": "stream"
    },
    {
     "name": "stderr",
     "text": "    112/150      7.24G      1.452      1.442      2.031         25        640: 100%|██████████| 31/31 [00:20<00:00,  1.53it/s]\n                 Class     Images  Instances      Box(P          R      mAP50  mAP50-95): 100%|██████████| 4/4 [00:01<00:00,  2.19it/s]",
     "output_type": "stream"
    },
    {
     "name": "stdout",
     "text": "                   all         85         85      0.631      0.705      0.699      0.345\n",
     "output_type": "stream"
    },
    {
     "name": "stderr",
     "text": "\n",
     "output_type": "stream"
    },
    {
     "name": "stdout",
     "text": "\n      Epoch    GPU_mem   box_loss   cls_loss   dfl_loss  Instances       Size\n",
     "output_type": "stream"
    },
    {
     "name": "stderr",
     "text": "    113/150      7.26G      1.427      1.364      2.007         30        640: 100%|██████████| 31/31 [00:20<00:00,  1.52it/s]\n                 Class     Images  Instances      Box(P          R      mAP50  mAP50-95): 100%|██████████| 4/4 [00:01<00:00,  2.16it/s]",
     "output_type": "stream"
    },
    {
     "name": "stdout",
     "text": "                   all         85         85      0.614      0.773      0.737      0.388\n",
     "output_type": "stream"
    },
    {
     "name": "stderr",
     "text": "\n",
     "output_type": "stream"
    },
    {
     "name": "stdout",
     "text": "\n      Epoch    GPU_mem   box_loss   cls_loss   dfl_loss  Instances       Size\n",
     "output_type": "stream"
    },
    {
     "name": "stderr",
     "text": "    114/150      7.26G      1.441      1.397      1.991         24        640: 100%|██████████| 31/31 [00:21<00:00,  1.48it/s]\n                 Class     Images  Instances      Box(P          R      mAP50  mAP50-95): 100%|██████████| 4/4 [00:01<00:00,  2.37it/s]",
     "output_type": "stream"
    },
    {
     "name": "stdout",
     "text": "                   all         85         85      0.664      0.609      0.728      0.357\n",
     "output_type": "stream"
    },
    {
     "name": "stderr",
     "text": "\n",
     "output_type": "stream"
    },
    {
     "name": "stdout",
     "text": "\n      Epoch    GPU_mem   box_loss   cls_loss   dfl_loss  Instances       Size\n",
     "output_type": "stream"
    },
    {
     "name": "stderr",
     "text": "    115/150      7.25G      1.434      1.394      1.976         31        640: 100%|██████████| 31/31 [00:20<00:00,  1.50it/s]\n                 Class     Images  Instances      Box(P          R      mAP50  mAP50-95): 100%|██████████| 4/4 [00:01<00:00,  2.60it/s]",
     "output_type": "stream"
    },
    {
     "name": "stdout",
     "text": "                   all         85         85      0.622      0.708      0.729      0.379\n",
     "output_type": "stream"
    },
    {
     "name": "stderr",
     "text": "\n",
     "output_type": "stream"
    },
    {
     "name": "stdout",
     "text": "\n      Epoch    GPU_mem   box_loss   cls_loss   dfl_loss  Instances       Size\n",
     "output_type": "stream"
    },
    {
     "name": "stderr",
     "text": "    116/150      7.24G      1.409       1.43      2.007         31        640: 100%|██████████| 31/31 [00:21<00:00,  1.47it/s]\n                 Class     Images  Instances      Box(P          R      mAP50  mAP50-95): 100%|██████████| 4/4 [00:01<00:00,  2.60it/s]",
     "output_type": "stream"
    },
    {
     "name": "stdout",
     "text": "                   all         85         85      0.659      0.841       0.81       0.42\n",
     "output_type": "stream"
    },
    {
     "name": "stderr",
     "text": "\n",
     "output_type": "stream"
    },
    {
     "name": "stdout",
     "text": "\n      Epoch    GPU_mem   box_loss   cls_loss   dfl_loss  Instances       Size\n",
     "output_type": "stream"
    },
    {
     "name": "stderr",
     "text": "    117/150      7.24G      1.397      1.373      1.994         32        640: 100%|██████████| 31/31 [00:21<00:00,  1.44it/s]\n                 Class     Images  Instances      Box(P          R      mAP50  mAP50-95): 100%|██████████| 4/4 [00:01<00:00,  2.23it/s]",
     "output_type": "stream"
    },
    {
     "name": "stdout",
     "text": "                   all         85         85      0.545      0.801      0.699      0.373\n",
     "output_type": "stream"
    },
    {
     "name": "stderr",
     "text": "\n",
     "output_type": "stream"
    },
    {
     "name": "stdout",
     "text": "\n      Epoch    GPU_mem   box_loss   cls_loss   dfl_loss  Instances       Size\n",
     "output_type": "stream"
    },
    {
     "name": "stderr",
     "text": "    118/150      7.26G      1.415      1.335      2.004         20        640: 100%|██████████| 31/31 [00:21<00:00,  1.46it/s]\n                 Class     Images  Instances      Box(P          R      mAP50  mAP50-95): 100%|██████████| 4/4 [00:01<00:00,  2.15it/s]",
     "output_type": "stream"
    },
    {
     "name": "stdout",
     "text": "                   all         85         85      0.676       0.61      0.698      0.356\n",
     "output_type": "stream"
    },
    {
     "name": "stderr",
     "text": "\n",
     "output_type": "stream"
    },
    {
     "name": "stdout",
     "text": "\n      Epoch    GPU_mem   box_loss   cls_loss   dfl_loss  Instances       Size\n",
     "output_type": "stream"
    },
    {
     "name": "stderr",
     "text": "    119/150      7.26G      1.383      1.299      1.968         28        640: 100%|██████████| 31/31 [00:20<00:00,  1.52it/s]\n                 Class     Images  Instances      Box(P          R      mAP50  mAP50-95): 100%|██████████| 4/4 [00:01<00:00,  2.54it/s]",
     "output_type": "stream"
    },
    {
     "name": "stdout",
     "text": "                   all         85         85      0.728      0.777      0.807        0.4\n",
     "output_type": "stream"
    },
    {
     "name": "stderr",
     "text": "\n",
     "output_type": "stream"
    },
    {
     "name": "stdout",
     "text": "\n      Epoch    GPU_mem   box_loss   cls_loss   dfl_loss  Instances       Size\n",
     "output_type": "stream"
    },
    {
     "name": "stderr",
     "text": "    120/150      7.25G      1.395      1.295      1.978         26        640: 100%|██████████| 31/31 [00:20<00:00,  1.52it/s]\n                 Class     Images  Instances      Box(P          R      mAP50  mAP50-95): 100%|██████████| 4/4 [00:01<00:00,  2.60it/s]",
     "output_type": "stream"
    },
    {
     "name": "stdout",
     "text": "                   all         85         85       0.74      0.795      0.817      0.408\n",
     "output_type": "stream"
    },
    {
     "name": "stderr",
     "text": "\n",
     "output_type": "stream"
    },
    {
     "name": "stdout",
     "text": "\n      Epoch    GPU_mem   box_loss   cls_loss   dfl_loss  Instances       Size\n",
     "output_type": "stream"
    },
    {
     "name": "stderr",
     "text": "    121/150      7.24G      1.395      1.339      1.955         23        640: 100%|██████████| 31/31 [00:21<00:00,  1.44it/s]\n                 Class     Images  Instances      Box(P          R      mAP50  mAP50-95): 100%|██████████| 4/4 [00:01<00:00,  2.36it/s]\n",
     "output_type": "stream"
    },
    {
     "name": "stdout",
     "text": "                   all         85         85      0.782       0.75      0.826      0.441\n\n      Epoch    GPU_mem   box_loss   cls_loss   dfl_loss  Instances       Size\n",
     "output_type": "stream"
    },
    {
     "name": "stderr",
     "text": "    122/150      7.24G      1.354      1.333      1.944         28        640: 100%|██████████| 31/31 [00:19<00:00,  1.60it/s]\n                 Class     Images  Instances      Box(P          R      mAP50  mAP50-95): 100%|██████████| 4/4 [00:01<00:00,  2.47it/s]",
     "output_type": "stream"
    },
    {
     "name": "stdout",
     "text": "                   all         85         85      0.576      0.738       0.73      0.382\n",
     "output_type": "stream"
    },
    {
     "name": "stderr",
     "text": "\n",
     "output_type": "stream"
    },
    {
     "name": "stdout",
     "text": "\n      Epoch    GPU_mem   box_loss   cls_loss   dfl_loss  Instances       Size\n",
     "output_type": "stream"
    },
    {
     "name": "stderr",
     "text": "    123/150      7.26G      1.397      1.302      1.961         35        640: 100%|██████████| 31/31 [00:19<00:00,  1.56it/s]\n                 Class     Images  Instances      Box(P          R      mAP50  mAP50-95): 100%|██████████| 4/4 [00:01<00:00,  2.32it/s]",
     "output_type": "stream"
    },
    {
     "name": "stdout",
     "text": "                   all         85         85      0.692      0.739      0.788      0.419\n",
     "output_type": "stream"
    },
    {
     "name": "stderr",
     "text": "\n",
     "output_type": "stream"
    },
    {
     "name": "stdout",
     "text": "\n      Epoch    GPU_mem   box_loss   cls_loss   dfl_loss  Instances       Size\n",
     "output_type": "stream"
    },
    {
     "name": "stderr",
     "text": "    124/150      7.26G      1.381      1.271      1.952         23        640: 100%|██████████| 31/31 [00:21<00:00,  1.43it/s]\n                 Class     Images  Instances      Box(P          R      mAP50  mAP50-95): 100%|██████████| 4/4 [00:01<00:00,  2.90it/s]",
     "output_type": "stream"
    },
    {
     "name": "stdout",
     "text": "                   all         85         85      0.706      0.839      0.852      0.423\n",
     "output_type": "stream"
    },
    {
     "name": "stderr",
     "text": "\n",
     "output_type": "stream"
    },
    {
     "name": "stdout",
     "text": "\n      Epoch    GPU_mem   box_loss   cls_loss   dfl_loss  Instances       Size\n",
     "output_type": "stream"
    },
    {
     "name": "stderr",
     "text": "    125/150      7.25G      1.383      1.302      1.963         30        640: 100%|██████████| 31/31 [00:20<00:00,  1.52it/s]\n                 Class     Images  Instances      Box(P          R      mAP50  mAP50-95): 100%|██████████| 4/4 [00:01<00:00,  2.52it/s]",
     "output_type": "stream"
    },
    {
     "name": "stdout",
     "text": "                   all         85         85      0.817      0.804      0.877      0.443\n",
     "output_type": "stream"
    },
    {
     "name": "stderr",
     "text": "\n",
     "output_type": "stream"
    },
    {
     "name": "stdout",
     "text": "\n      Epoch    GPU_mem   box_loss   cls_loss   dfl_loss  Instances       Size\n",
     "output_type": "stream"
    },
    {
     "name": "stderr",
     "text": "    126/150      7.24G      1.363      1.258      1.953         23        640: 100%|██████████| 31/31 [00:20<00:00,  1.54it/s]\n                 Class     Images  Instances      Box(P          R      mAP50  mAP50-95): 100%|██████████| 4/4 [00:01<00:00,  2.04it/s]",
     "output_type": "stream"
    },
    {
     "name": "stdout",
     "text": "                   all         85         85      0.606      0.853      0.765      0.401\n",
     "output_type": "stream"
    },
    {
     "name": "stderr",
     "text": "\n",
     "output_type": "stream"
    },
    {
     "name": "stdout",
     "text": "\n      Epoch    GPU_mem   box_loss   cls_loss   dfl_loss  Instances       Size\n",
     "output_type": "stream"
    },
    {
     "name": "stderr",
     "text": "    127/150      7.24G      1.333      1.317       1.94         28        640: 100%|██████████| 31/31 [00:20<00:00,  1.51it/s]\n                 Class     Images  Instances      Box(P          R      mAP50  mAP50-95): 100%|██████████| 4/4 [00:01<00:00,  2.38it/s]",
     "output_type": "stream"
    },
    {
     "name": "stdout",
     "text": "                   all         85         85      0.632      0.783      0.757      0.407\n",
     "output_type": "stream"
    },
    {
     "name": "stderr",
     "text": "\n",
     "output_type": "stream"
    },
    {
     "name": "stdout",
     "text": "\n      Epoch    GPU_mem   box_loss   cls_loss   dfl_loss  Instances       Size\n",
     "output_type": "stream"
    },
    {
     "name": "stderr",
     "text": "    128/150      7.26G      1.366      1.255      1.935         30        640: 100%|██████████| 31/31 [00:21<00:00,  1.42it/s]\n                 Class     Images  Instances      Box(P          R      mAP50  mAP50-95): 100%|██████████| 4/4 [00:01<00:00,  2.36it/s]",
     "output_type": "stream"
    },
    {
     "name": "stdout",
     "text": "                   all         85         85       0.84      0.744       0.86      0.451\n",
     "output_type": "stream"
    },
    {
     "name": "stderr",
     "text": "\n",
     "output_type": "stream"
    },
    {
     "name": "stdout",
     "text": "\n      Epoch    GPU_mem   box_loss   cls_loss   dfl_loss  Instances       Size\n",
     "output_type": "stream"
    },
    {
     "name": "stderr",
     "text": "    129/150      7.26G      1.306      1.213      1.895         29        640: 100%|██████████| 31/31 [00:21<00:00,  1.48it/s]\n                 Class     Images  Instances      Box(P          R      mAP50  mAP50-95): 100%|██████████| 4/4 [00:01<00:00,  2.25it/s]",
     "output_type": "stream"
    },
    {
     "name": "stdout",
     "text": "                   all         85         85      0.734      0.712      0.791      0.427\n",
     "output_type": "stream"
    },
    {
     "name": "stderr",
     "text": "\n",
     "output_type": "stream"
    },
    {
     "name": "stdout",
     "text": "\n      Epoch    GPU_mem   box_loss   cls_loss   dfl_loss  Instances       Size\n",
     "output_type": "stream"
    },
    {
     "name": "stderr",
     "text": "    130/150      7.25G      1.312      1.257        1.9         28        640: 100%|██████████| 31/31 [00:21<00:00,  1.47it/s]\n                 Class     Images  Instances      Box(P          R      mAP50  mAP50-95): 100%|██████████| 4/4 [00:01<00:00,  2.55it/s]",
     "output_type": "stream"
    },
    {
     "name": "stdout",
     "text": "                   all         85         85      0.738      0.816      0.841      0.427\n",
     "output_type": "stream"
    },
    {
     "name": "stderr",
     "text": "\n",
     "output_type": "stream"
    },
    {
     "name": "stdout",
     "text": "\n      Epoch    GPU_mem   box_loss   cls_loss   dfl_loss  Instances       Size\n",
     "output_type": "stream"
    },
    {
     "name": "stderr",
     "text": "    131/150      7.24G      1.346      1.271      1.937         28        640: 100%|██████████| 31/31 [00:19<00:00,  1.57it/s]\n                 Class     Images  Instances      Box(P          R      mAP50  mAP50-95): 100%|██████████| 4/4 [00:01<00:00,  2.24it/s]",
     "output_type": "stream"
    },
    {
     "name": "stdout",
     "text": "                   all         85         85      0.572      0.853      0.785       0.42\n",
     "output_type": "stream"
    },
    {
     "name": "stderr",
     "text": "\n",
     "output_type": "stream"
    },
    {
     "name": "stdout",
     "text": "\n      Epoch    GPU_mem   box_loss   cls_loss   dfl_loss  Instances       Size\n",
     "output_type": "stream"
    },
    {
     "name": "stderr",
     "text": "    132/150      7.24G      1.319      1.241      1.925         31        640: 100%|██████████| 31/31 [00:21<00:00,  1.43it/s]\n                 Class     Images  Instances      Box(P          R      mAP50  mAP50-95): 100%|██████████| 4/4 [00:01<00:00,  2.37it/s]",
     "output_type": "stream"
    },
    {
     "name": "stdout",
     "text": "                   all         85         85      0.565      0.818      0.738      0.369\n",
     "output_type": "stream"
    },
    {
     "name": "stderr",
     "text": "\n",
     "output_type": "stream"
    },
    {
     "name": "stdout",
     "text": "\n      Epoch    GPU_mem   box_loss   cls_loss   dfl_loss  Instances       Size\n",
     "output_type": "stream"
    },
    {
     "name": "stderr",
     "text": "    133/150      7.26G      1.338      1.206      1.907         31        640: 100%|██████████| 31/31 [00:20<00:00,  1.48it/s]\n                 Class     Images  Instances      Box(P          R      mAP50  mAP50-95): 100%|██████████| 4/4 [00:01<00:00,  2.36it/s]",
     "output_type": "stream"
    },
    {
     "name": "stdout",
     "text": "                   all         85         85      0.718      0.813      0.812      0.432\n",
     "output_type": "stream"
    },
    {
     "name": "stderr",
     "text": "\n",
     "output_type": "stream"
    },
    {
     "name": "stdout",
     "text": "\n      Epoch    GPU_mem   box_loss   cls_loss   dfl_loss  Instances       Size\n",
     "output_type": "stream"
    },
    {
     "name": "stderr",
     "text": "    134/150      7.26G      1.316      1.214      1.895         25        640: 100%|██████████| 31/31 [00:20<00:00,  1.48it/s]\n                 Class     Images  Instances      Box(P          R      mAP50  mAP50-95): 100%|██████████| 4/4 [00:01<00:00,  2.43it/s]\n",
     "output_type": "stream"
    },
    {
     "name": "stdout",
     "text": "                   all         85         85        0.8      0.763      0.862      0.453\n\n      Epoch    GPU_mem   box_loss   cls_loss   dfl_loss  Instances       Size\n",
     "output_type": "stream"
    },
    {
     "name": "stderr",
     "text": "    135/150      7.25G      1.375      1.288      1.933         27        640: 100%|██████████| 31/31 [00:20<00:00,  1.49it/s]\n                 Class     Images  Instances      Box(P          R      mAP50  mAP50-95): 100%|██████████| 4/4 [00:01<00:00,  2.24it/s]",
     "output_type": "stream"
    },
    {
     "name": "stdout",
     "text": "                   all         85         85      0.757      0.846      0.859      0.447\n",
     "output_type": "stream"
    },
    {
     "name": "stderr",
     "text": "\n",
     "output_type": "stream"
    },
    {
     "name": "stdout",
     "text": "\n      Epoch    GPU_mem   box_loss   cls_loss   dfl_loss  Instances       Size\n",
     "output_type": "stream"
    },
    {
     "name": "stderr",
     "text": "    136/150      7.24G      1.329       1.21      1.919         22        640: 100%|██████████| 31/31 [00:19<00:00,  1.58it/s]\n                 Class     Images  Instances      Box(P          R      mAP50  mAP50-95): 100%|██████████| 4/4 [00:01<00:00,  2.59it/s]",
     "output_type": "stream"
    },
    {
     "name": "stdout",
     "text": "                   all         85         85      0.736      0.776       0.82      0.448\n",
     "output_type": "stream"
    },
    {
     "name": "stderr",
     "text": "\n",
     "output_type": "stream"
    },
    {
     "name": "stdout",
     "text": "\n      Epoch    GPU_mem   box_loss   cls_loss   dfl_loss  Instances       Size\n",
     "output_type": "stream"
    },
    {
     "name": "stderr",
     "text": "    137/150      7.24G      1.323      1.186      1.902         25        640: 100%|██████████| 31/31 [00:21<00:00,  1.43it/s]\n                 Class     Images  Instances      Box(P          R      mAP50  mAP50-95): 100%|██████████| 4/4 [00:01<00:00,  2.61it/s]",
     "output_type": "stream"
    },
    {
     "name": "stdout",
     "text": "                   all         85         85      0.766      0.796      0.821      0.435\n",
     "output_type": "stream"
    },
    {
     "name": "stderr",
     "text": "\n",
     "output_type": "stream"
    },
    {
     "name": "stdout",
     "text": "\n      Epoch    GPU_mem   box_loss   cls_loss   dfl_loss  Instances       Size\n",
     "output_type": "stream"
    },
    {
     "name": "stderr",
     "text": "    138/150      7.26G      1.325       1.21      1.919         30        640: 100%|██████████| 31/31 [00:21<00:00,  1.47it/s]\n                 Class     Images  Instances      Box(P          R      mAP50  mAP50-95): 100%|██████████| 4/4 [00:01<00:00,  2.42it/s]",
     "output_type": "stream"
    },
    {
     "name": "stdout",
     "text": "                   all         85         85      0.791       0.74      0.868      0.471\n",
     "output_type": "stream"
    },
    {
     "name": "stderr",
     "text": "\n",
     "output_type": "stream"
    },
    {
     "name": "stdout",
     "text": "\n      Epoch    GPU_mem   box_loss   cls_loss   dfl_loss  Instances       Size\n",
     "output_type": "stream"
    },
    {
     "name": "stderr",
     "text": "    139/150      7.26G      1.322      1.227      1.925         31        640: 100%|██████████| 31/31 [00:20<00:00,  1.51it/s]\n                 Class     Images  Instances      Box(P          R      mAP50  mAP50-95): 100%|██████████| 4/4 [00:01<00:00,  2.34it/s]\n",
     "output_type": "stream"
    },
    {
     "name": "stdout",
     "text": "                   all         85         85      0.714      0.744      0.814      0.444\n\n      Epoch    GPU_mem   box_loss   cls_loss   dfl_loss  Instances       Size\n",
     "output_type": "stream"
    },
    {
     "name": "stderr",
     "text": "    140/150      7.25G      1.321      1.194      1.908         32        640: 100%|██████████| 31/31 [00:20<00:00,  1.50it/s]\n                 Class     Images  Instances      Box(P          R      mAP50  mAP50-95): 100%|██████████| 4/4 [00:01<00:00,  2.27it/s]",
     "output_type": "stream"
    },
    {
     "name": "stdout",
     "text": "                   all         85         85      0.811      0.815      0.865      0.464\n",
     "output_type": "stream"
    },
    {
     "name": "stderr",
     "text": "\n",
     "output_type": "stream"
    },
    {
     "name": "stdout",
     "text": "Closing dataloader mosaic\n\u001B[34m\u001B[1malbumentations: \u001B[0mBlur(p=0.01, blur_limit=(3, 7)), MedianBlur(p=0.01, blur_limit=(3, 7)), ToGray(p=0.01, num_output_channels=3, method='weighted_average'), CLAHE(p=0.01, clip_limit=(1.0, 4.0), tile_grid_size=(8, 8))\n\n      Epoch    GPU_mem   box_loss   cls_loss   dfl_loss  Instances       Size\n",
     "output_type": "stream"
    },
    {
     "name": "stderr",
     "text": "    141/150      7.24G       1.27       1.17       1.93         11        640: 100%|██████████| 31/31 [00:28<00:00,  1.08it/s]\n                 Class     Images  Instances      Box(P          R      mAP50  mAP50-95): 100%|██████████| 4/4 [00:02<00:00,  1.89it/s]",
     "output_type": "stream"
    },
    {
     "name": "stdout",
     "text": "                   all         85         85      0.796      0.809      0.836      0.477\n",
     "output_type": "stream"
    },
    {
     "name": "stderr",
     "text": "\n",
     "output_type": "stream"
    },
    {
     "name": "stdout",
     "text": "\n      Epoch    GPU_mem   box_loss   cls_loss   dfl_loss  Instances       Size\n",
     "output_type": "stream"
    },
    {
     "name": "stderr",
     "text": "    142/150      7.24G      1.266      1.047      1.926         11        640: 100%|██████████| 31/31 [00:20<00:00,  1.52it/s]\n                 Class     Images  Instances      Box(P          R      mAP50  mAP50-95): 100%|██████████| 4/4 [00:01<00:00,  2.84it/s]",
     "output_type": "stream"
    },
    {
     "name": "stdout",
     "text": "                   all         85         85       0.65      0.784      0.792      0.426\n",
     "output_type": "stream"
    },
    {
     "name": "stderr",
     "text": "\n",
     "output_type": "stream"
    },
    {
     "name": "stdout",
     "text": "\n      Epoch    GPU_mem   box_loss   cls_loss   dfl_loss  Instances       Size\n",
     "output_type": "stream"
    },
    {
     "name": "stderr",
     "text": "    143/150      7.26G      1.243          1      1.895         11        640: 100%|██████████| 31/31 [00:20<00:00,  1.49it/s]\n                 Class     Images  Instances      Box(P          R      mAP50  mAP50-95): 100%|██████████| 4/4 [00:01<00:00,  2.38it/s]\n",
     "output_type": "stream"
    },
    {
     "name": "stdout",
     "text": "                   all         85         85      0.698      0.713      0.755      0.399\n\n      Epoch    GPU_mem   box_loss   cls_loss   dfl_loss  Instances       Size\n",
     "output_type": "stream"
    },
    {
     "name": "stderr",
     "text": "    144/150      7.26G      1.195     0.9436      1.839         11        640: 100%|██████████| 31/31 [00:20<00:00,  1.55it/s]\n                 Class     Images  Instances      Box(P          R      mAP50  mAP50-95): 100%|██████████| 4/4 [00:01<00:00,  2.21it/s]",
     "output_type": "stream"
    },
    {
     "name": "stdout",
     "text": "                   all         85         85      0.804      0.748      0.838      0.463\n",
     "output_type": "stream"
    },
    {
     "name": "stderr",
     "text": "\n",
     "output_type": "stream"
    },
    {
     "name": "stdout",
     "text": "\n      Epoch    GPU_mem   box_loss   cls_loss   dfl_loss  Instances       Size\n",
     "output_type": "stream"
    },
    {
     "name": "stderr",
     "text": "    145/150      7.25G       1.25     0.9365      1.917         11        640: 100%|██████████| 31/31 [00:19<00:00,  1.61it/s]\n                 Class     Images  Instances      Box(P          R      mAP50  mAP50-95): 100%|██████████| 4/4 [00:01<00:00,  2.25it/s]\n",
     "output_type": "stream"
    },
    {
     "name": "stdout",
     "text": "                   all         85         85      0.791      0.748       0.84      0.459\n\n      Epoch    GPU_mem   box_loss   cls_loss   dfl_loss  Instances       Size\n",
     "output_type": "stream"
    },
    {
     "name": "stderr",
     "text": "    146/150      7.24G      1.228     0.9506      1.882         11        640: 100%|██████████| 31/31 [00:20<00:00,  1.53it/s]\n                 Class     Images  Instances      Box(P          R      mAP50  mAP50-95): 100%|██████████| 4/4 [00:01<00:00,  2.23it/s]",
     "output_type": "stream"
    },
    {
     "name": "stdout",
     "text": "                   all         85         85      0.725       0.82      0.826      0.438\n",
     "output_type": "stream"
    },
    {
     "name": "stderr",
     "text": "\n",
     "output_type": "stream"
    },
    {
     "name": "stdout",
     "text": "\n      Epoch    GPU_mem   box_loss   cls_loss   dfl_loss  Instances       Size\n",
     "output_type": "stream"
    },
    {
     "name": "stderr",
     "text": "    147/150      7.24G      1.189     0.8907      1.854         11        640: 100%|██████████| 31/31 [00:19<00:00,  1.57it/s]\n                 Class     Images  Instances      Box(P          R      mAP50  mAP50-95): 100%|██████████| 4/4 [00:01<00:00,  2.45it/s]",
     "output_type": "stream"
    },
    {
     "name": "stdout",
     "text": "                   all         85         85      0.811      0.726      0.843      0.457\n",
     "output_type": "stream"
    },
    {
     "name": "stderr",
     "text": "\n",
     "output_type": "stream"
    },
    {
     "name": "stdout",
     "text": "\n      Epoch    GPU_mem   box_loss   cls_loss   dfl_loss  Instances       Size\n",
     "output_type": "stream"
    },
    {
     "name": "stderr",
     "text": "    148/150      7.26G      1.208     0.8783      1.866         11        640: 100%|██████████| 31/31 [00:20<00:00,  1.49it/s]\n                 Class     Images  Instances      Box(P          R      mAP50  mAP50-95): 100%|██████████| 4/4 [00:01<00:00,  2.43it/s]\n",
     "output_type": "stream"
    },
    {
     "name": "stdout",
     "text": "                   all         85         85       0.81      0.809      0.856      0.471\n\n      Epoch    GPU_mem   box_loss   cls_loss   dfl_loss  Instances       Size\n",
     "output_type": "stream"
    },
    {
     "name": "stderr",
     "text": "    149/150      7.26G      1.183     0.8642      1.835         11        640: 100%|██████████| 31/31 [00:20<00:00,  1.50it/s]\n                 Class     Images  Instances      Box(P          R      mAP50  mAP50-95): 100%|██████████| 4/4 [00:01<00:00,  2.33it/s]",
     "output_type": "stream"
    },
    {
     "name": "stdout",
     "text": "                   all         85         85       0.84      0.817      0.868      0.464\n",
     "output_type": "stream"
    },
    {
     "name": "stderr",
     "text": "\n",
     "output_type": "stream"
    },
    {
     "name": "stdout",
     "text": "\n      Epoch    GPU_mem   box_loss   cls_loss   dfl_loss  Instances       Size\n",
     "output_type": "stream"
    },
    {
     "name": "stderr",
     "text": "    150/150      7.25G      1.187     0.9268      1.844         11        640: 100%|██████████| 31/31 [00:19<00:00,  1.61it/s]\n                 Class     Images  Instances      Box(P          R      mAP50  mAP50-95): 100%|██████████| 4/4 [00:01<00:00,  2.36it/s]\n",
     "output_type": "stream"
    },
    {
     "name": "stdout",
     "text": "                   all         85         85       0.85      0.836      0.875      0.477\n\n150 epochs completed in 1.058 hours.\nOptimizer stripped from /kaggle/working/yolo_results/yolo11_cat_detector4/weights/last.pt, 40.5MB\nOptimizer stripped from /kaggle/working/yolo_results/yolo11_cat_detector4/weights/best.pt, 40.5MB\n\nValidating /kaggle/working/yolo_results/yolo11_cat_detector4/weights/best.pt...\nUltralytics 8.3.131 🚀 Python-3.11.11 torch-2.5.1+cu124 CUDA:0 (Tesla T4, 15095MiB)\nYOLO11m summary (fused): 125 layers, 20,032,345 parameters, 0 gradients, 67.7 GFLOPs\n",
     "output_type": "stream"
    },
    {
     "name": "stderr",
     "text": "                 Class     Images  Instances      Box(P          R      mAP50  mAP50-95): 100%|██████████| 4/4 [00:01<00:00,  2.17it/s]\n",
     "output_type": "stream"
    },
    {
     "name": "stdout",
     "text": "                   all         85         85       0.85      0.835      0.875      0.477\n          munchkin_cat         35         35      0.928       0.74      0.877      0.471\n         scottish_fold         20         20       0.81        0.9       0.85      0.384\n          siberian_cat         30         30      0.812      0.865      0.898      0.576\n",
     "output_type": "stream"
    },
    {
     "name": "stderr",
     "text": "/usr/local/lib/python3.11/dist-packages/matplotlib/colors.py:721: RuntimeWarning: invalid value encountered in less\n  xa[xa < 0] = -1\n/usr/local/lib/python3.11/dist-packages/matplotlib/colors.py:721: RuntimeWarning: invalid value encountered in less\n  xa[xa < 0] = -1\n",
     "output_type": "stream"
    },
    {
     "name": "stdout",
     "text": "Speed: 0.2ms preprocess, 11.2ms inference, 0.0ms loss, 2.5ms postprocess per image\nResults saved to \u001B[1m/kaggle/working/yolo_results/yolo11_cat_detector4\u001B[0m\n",
     "output_type": "stream"
    },
    {
     "execution_count": 6,
     "output_type": "execute_result",
     "data": {
      "text/plain": "ultralytics.utils.metrics.DetMetrics object with attributes:\n\nap_class_index: array([0, 1, 2])\nbox: ultralytics.utils.metrics.Metric object\nconfusion_matrix: <ultralytics.utils.metrics.ConfusionMatrix object at 0x7b3a340ddb90>\ncurves: ['Precision-Recall(B)', 'F1-Confidence(B)', 'Precision-Confidence(B)', 'Recall-Confidence(B)']\ncurves_results: [[array([          0,    0.001001,    0.002002,    0.003003,    0.004004,    0.005005,    0.006006,    0.007007,    0.008008,    0.009009,     0.01001,    0.011011,    0.012012,    0.013013,    0.014014,    0.015015,    0.016016,    0.017017,    0.018018,    0.019019,     0.02002,    0.021021,    0.022022,    0.023023,\n          0.024024,    0.025025,    0.026026,    0.027027,    0.028028,    0.029029,     0.03003,    0.031031,    0.032032,    0.033033,    0.034034,    0.035035,    0.036036,    0.037037,    0.038038,    0.039039,     0.04004,    0.041041,    0.042042,    0.043043,    0.044044,    0.045045,    0.046046,    0.047047,\n          0.048048,    0.049049,     0.05005,    0.051051,    0.052052,    0.053053,    0.054054,    0.055055,    0.056056,    0.057057,    0.058058,    0.059059,     0.06006,    0.061061,    0.062062,    0.063063,    0.064064,    0.065065,    0.066066,    0.067067,    0.068068,    0.069069,     0.07007,    0.071071,\n          0.072072,    0.073073,    0.074074,    0.075075,    0.076076,    0.077077,    0.078078,    0.079079,     0.08008,    0.081081,    0.082082,    0.083083,    0.084084,    0.085085,    0.086086,    0.087087,    0.088088,    0.089089,     0.09009,    0.091091,    0.092092,    0.093093,    0.094094,    0.095095,\n          0.096096,    0.097097,    0.098098,    0.099099,      0.1001,      0.1011,      0.1021,      0.1031,      0.1041,     0.10511,     0.10611,     0.10711,     0.10811,     0.10911,     0.11011,     0.11111,     0.11211,     0.11311,     0.11411,     0.11512,     0.11612,     0.11712,     0.11812,     0.11912,\n           0.12012,     0.12112,     0.12212,     0.12312,     0.12412,     0.12513,     0.12613,     0.12713,     0.12813,     0.12913,     0.13013,     0.13113,     0.13213,     0.13313,     0.13413,     0.13514,     0.13614,     0.13714,     0.13814,     0.13914,     0.14014,     0.14114,     0.14214,     0.14314,\n           0.14414,     0.14515,     0.14615,     0.14715,     0.14815,     0.14915,     0.15015,     0.15115,     0.15215,     0.15315,     0.15415,     0.15516,     0.15616,     0.15716,     0.15816,     0.15916,     0.16016,     0.16116,     0.16216,     0.16316,     0.16416,     0.16517,     0.16617,     0.16717,\n           0.16817,     0.16917,     0.17017,     0.17117,     0.17217,     0.17317,     0.17417,     0.17518,     0.17618,     0.17718,     0.17818,     0.17918,     0.18018,     0.18118,     0.18218,     0.18318,     0.18418,     0.18519,     0.18619,     0.18719,     0.18819,     0.18919,     0.19019,     0.19119,\n           0.19219,     0.19319,     0.19419,      0.1952,      0.1962,      0.1972,      0.1982,      0.1992,      0.2002,      0.2012,      0.2022,      0.2032,      0.2042,     0.20521,     0.20621,     0.20721,     0.20821,     0.20921,     0.21021,     0.21121,     0.21221,     0.21321,     0.21421,     0.21522,\n           0.21622,     0.21722,     0.21822,     0.21922,     0.22022,     0.22122,     0.22222,     0.22322,     0.22422,     0.22523,     0.22623,     0.22723,     0.22823,     0.22923,     0.23023,     0.23123,     0.23223,     0.23323,     0.23423,     0.23524,     0.23624,     0.23724,     0.23824,     0.23924,\n           0.24024,     0.24124,     0.24224,     0.24324,     0.24424,     0.24525,     0.24625,     0.24725,     0.24825,     0.24925,     0.25025,     0.25125,     0.25225,     0.25325,     0.25425,     0.25526,     0.25626,     0.25726,     0.25826,     0.25926,     0.26026,     0.26126,     0.26226,     0.26326,\n           0.26426,     0.26527,     0.26627,     0.26727,     0.26827,     0.26927,     0.27027,     0.27127,     0.27227,     0.27327,     0.27427,     0.27528,     0.27628,     0.27728,     0.27828,     0.27928,     0.28028,     0.28128,     0.28228,     0.28328,     0.28428,     0.28529,     0.28629,     0.28729,\n           0.28829,     0.28929,     0.29029,     0.29129,     0.29229,     0.29329,     0.29429,      0.2953,      0.2963,      0.2973,      0.2983,      0.2993,      0.3003,      0.3013,      0.3023,      0.3033,      0.3043,     0.30531,     0.30631,     0.30731,     0.30831,     0.30931,     0.31031,     0.31131,\n           0.31231,     0.31331,     0.31431,     0.31532,     0.31632,     0.31732,     0.31832,     0.31932,     0.32032,     0.32132,     0.32232,     0.32332,     0.32432,     0.32533,     0.32633,     0.32733,     0.32833,     0.32933,     0.33033,     0.33133,     0.33233,     0.33333,     0.33433,     0.33534,\n           0.33634,     0.33734,     0.33834,     0.33934,     0.34034,     0.34134,     0.34234,     0.34334,     0.34434,     0.34535,     0.34635,     0.34735,     0.34835,     0.34935,     0.35035,     0.35135,     0.35235,     0.35335,     0.35435,     0.35536,     0.35636,     0.35736,     0.35836,     0.35936,\n           0.36036,     0.36136,     0.36236,     0.36336,     0.36436,     0.36537,     0.36637,     0.36737,     0.36837,     0.36937,     0.37037,     0.37137,     0.37237,     0.37337,     0.37437,     0.37538,     0.37638,     0.37738,     0.37838,     0.37938,     0.38038,     0.38138,     0.38238,     0.38338,\n           0.38438,     0.38539,     0.38639,     0.38739,     0.38839,     0.38939,     0.39039,     0.39139,     0.39239,     0.39339,     0.39439,      0.3954,      0.3964,      0.3974,      0.3984,      0.3994,      0.4004,      0.4014,      0.4024,      0.4034,      0.4044,     0.40541,     0.40641,     0.40741,\n           0.40841,     0.40941,     0.41041,     0.41141,     0.41241,     0.41341,     0.41441,     0.41542,     0.41642,     0.41742,     0.41842,     0.41942,     0.42042,     0.42142,     0.42242,     0.42342,     0.42442,     0.42543,     0.42643,     0.42743,     0.42843,     0.42943,     0.43043,     0.43143,\n           0.43243,     0.43343,     0.43443,     0.43544,     0.43644,     0.43744,     0.43844,     0.43944,     0.44044,     0.44144,     0.44244,     0.44344,     0.44444,     0.44545,     0.44645,     0.44745,     0.44845,     0.44945,     0.45045,     0.45145,     0.45245,     0.45345,     0.45445,     0.45546,\n           0.45646,     0.45746,     0.45846,     0.45946,     0.46046,     0.46146,     0.46246,     0.46346,     0.46446,     0.46547,     0.46647,     0.46747,     0.46847,     0.46947,     0.47047,     0.47147,     0.47247,     0.47347,     0.47447,     0.47548,     0.47648,     0.47748,     0.47848,     0.47948,\n           0.48048,     0.48148,     0.48248,     0.48348,     0.48448,     0.48549,     0.48649,     0.48749,     0.48849,     0.48949,     0.49049,     0.49149,     0.49249,     0.49349,     0.49449,      0.4955,      0.4965,      0.4975,      0.4985,      0.4995,      0.5005,      0.5015,      0.5025,      0.5035,\n            0.5045,     0.50551,     0.50651,     0.50751,     0.50851,     0.50951,     0.51051,     0.51151,     0.51251,     0.51351,     0.51451,     0.51552,     0.51652,     0.51752,     0.51852,     0.51952,     0.52052,     0.52152,     0.52252,     0.52352,     0.52452,     0.52553,     0.52653,     0.52753,\n           0.52853,     0.52953,     0.53053,     0.53153,     0.53253,     0.53353,     0.53453,     0.53554,     0.53654,     0.53754,     0.53854,     0.53954,     0.54054,     0.54154,     0.54254,     0.54354,     0.54454,     0.54555,     0.54655,     0.54755,     0.54855,     0.54955,     0.55055,     0.55155,\n           0.55255,     0.55355,     0.55455,     0.55556,     0.55656,     0.55756,     0.55856,     0.55956,     0.56056,     0.56156,     0.56256,     0.56356,     0.56456,     0.56557,     0.56657,     0.56757,     0.56857,     0.56957,     0.57057,     0.57157,     0.57257,     0.57357,     0.57457,     0.57558,\n           0.57658,     0.57758,     0.57858,     0.57958,     0.58058,     0.58158,     0.58258,     0.58358,     0.58458,     0.58559,     0.58659,     0.58759,     0.58859,     0.58959,     0.59059,     0.59159,     0.59259,     0.59359,     0.59459,      0.5956,      0.5966,      0.5976,      0.5986,      0.5996,\n            0.6006,      0.6016,      0.6026,      0.6036,      0.6046,     0.60561,     0.60661,     0.60761,     0.60861,     0.60961,     0.61061,     0.61161,     0.61261,     0.61361,     0.61461,     0.61562,     0.61662,     0.61762,     0.61862,     0.61962,     0.62062,     0.62162,     0.62262,     0.62362,\n           0.62462,     0.62563,     0.62663,     0.62763,     0.62863,     0.62963,     0.63063,     0.63163,     0.63263,     0.63363,     0.63463,     0.63564,     0.63664,     0.63764,     0.63864,     0.63964,     0.64064,     0.64164,     0.64264,     0.64364,     0.64464,     0.64565,     0.64665,     0.64765,\n           0.64865,     0.64965,     0.65065,     0.65165,     0.65265,     0.65365,     0.65465,     0.65566,     0.65666,     0.65766,     0.65866,     0.65966,     0.66066,     0.66166,     0.66266,     0.66366,     0.66466,     0.66567,     0.66667,     0.66767,     0.66867,     0.66967,     0.67067,     0.67167,\n           0.67267,     0.67367,     0.67467,     0.67568,     0.67668,     0.67768,     0.67868,     0.67968,     0.68068,     0.68168,     0.68268,     0.68368,     0.68468,     0.68569,     0.68669,     0.68769,     0.68869,     0.68969,     0.69069,     0.69169,     0.69269,     0.69369,     0.69469,      0.6957,\n            0.6967,      0.6977,      0.6987,      0.6997,      0.7007,      0.7017,      0.7027,      0.7037,      0.7047,     0.70571,     0.70671,     0.70771,     0.70871,     0.70971,     0.71071,     0.71171,     0.71271,     0.71371,     0.71471,     0.71572,     0.71672,     0.71772,     0.71872,     0.71972,\n           0.72072,     0.72172,     0.72272,     0.72372,     0.72472,     0.72573,     0.72673,     0.72773,     0.72873,     0.72973,     0.73073,     0.73173,     0.73273,     0.73373,     0.73473,     0.73574,     0.73674,     0.73774,     0.73874,     0.73974,     0.74074,     0.74174,     0.74274,     0.74374,\n           0.74474,     0.74575,     0.74675,     0.74775,     0.74875,     0.74975,     0.75075,     0.75175,     0.75275,     0.75375,     0.75475,     0.75576,     0.75676,     0.75776,     0.75876,     0.75976,     0.76076,     0.76176,     0.76276,     0.76376,     0.76476,     0.76577,     0.76677,     0.76777,\n           0.76877,     0.76977,     0.77077,     0.77177,     0.77277,     0.77377,     0.77477,     0.77578,     0.77678,     0.77778,     0.77878,     0.77978,     0.78078,     0.78178,     0.78278,     0.78378,     0.78478,     0.78579,     0.78679,     0.78779,     0.78879,     0.78979,     0.79079,     0.79179,\n           0.79279,     0.79379,     0.79479,      0.7958,      0.7968,      0.7978,      0.7988,      0.7998,      0.8008,      0.8018,      0.8028,      0.8038,      0.8048,     0.80581,     0.80681,     0.80781,     0.80881,     0.80981,     0.81081,     0.81181,     0.81281,     0.81381,     0.81481,     0.81582,\n           0.81682,     0.81782,     0.81882,     0.81982,     0.82082,     0.82182,     0.82282,     0.82382,     0.82482,     0.82583,     0.82683,     0.82783,     0.82883,     0.82983,     0.83083,     0.83183,     0.83283,     0.83383,     0.83483,     0.83584,     0.83684,     0.83784,     0.83884,     0.83984,\n           0.84084,     0.84184,     0.84284,     0.84384,     0.84484,     0.84585,     0.84685,     0.84785,     0.84885,     0.84985,     0.85085,     0.85185,     0.85285,     0.85385,     0.85485,     0.85586,     0.85686,     0.85786,     0.85886,     0.85986,     0.86086,     0.86186,     0.86286,     0.86386,\n           0.86486,     0.86587,     0.86687,     0.86787,     0.86887,     0.86987,     0.87087,     0.87187,     0.87287,     0.87387,     0.87487,     0.87588,     0.87688,     0.87788,     0.87888,     0.87988,     0.88088,     0.88188,     0.88288,     0.88388,     0.88488,     0.88589,     0.88689,     0.88789,\n           0.88889,     0.88989,     0.89089,     0.89189,     0.89289,     0.89389,     0.89489,      0.8959,      0.8969,      0.8979,      0.8989,      0.8999,      0.9009,      0.9019,      0.9029,      0.9039,      0.9049,     0.90591,     0.90691,     0.90791,     0.90891,     0.90991,     0.91091,     0.91191,\n           0.91291,     0.91391,     0.91491,     0.91592,     0.91692,     0.91792,     0.91892,     0.91992,     0.92092,     0.92192,     0.92292,     0.92392,     0.92492,     0.92593,     0.92693,     0.92793,     0.92893,     0.92993,     0.93093,     0.93193,     0.93293,     0.93393,     0.93493,     0.93594,\n           0.93694,     0.93794,     0.93894,     0.93994,     0.94094,     0.94194,     0.94294,     0.94394,     0.94494,     0.94595,     0.94695,     0.94795,     0.94895,     0.94995,     0.95095,     0.95195,     0.95295,     0.95395,     0.95495,     0.95596,     0.95696,     0.95796,     0.95896,     0.95996,\n           0.96096,     0.96196,     0.96296,     0.96396,     0.96496,     0.96597,     0.96697,     0.96797,     0.96897,     0.96997,     0.97097,     0.97197,     0.97297,     0.97397,     0.97497,     0.97598,     0.97698,     0.97798,     0.97898,     0.97998,     0.98098,     0.98198,     0.98298,     0.98398,\n           0.98498,     0.98599,     0.98699,     0.98799,     0.98899,     0.98999,     0.99099,     0.99199,     0.99299,     0.99399,     0.99499,       0.996,       0.997,       0.998,       0.999,           1]), array([[          1,           1,           1, ...,     0.36082,     0.36082,           0],\n       [          1,           1,           1, ...,     0.54054,     0.54054,           0],\n       [          1,           1,           1, ...,     0.36145,     0.36145,           0]]), 'Recall', 'Precision'], [array([          0,    0.001001,    0.002002,    0.003003,    0.004004,    0.005005,    0.006006,    0.007007,    0.008008,    0.009009,     0.01001,    0.011011,    0.012012,    0.013013,    0.014014,    0.015015,    0.016016,    0.017017,    0.018018,    0.019019,     0.02002,    0.021021,    0.022022,    0.023023,\n          0.024024,    0.025025,    0.026026,    0.027027,    0.028028,    0.029029,     0.03003,    0.031031,    0.032032,    0.033033,    0.034034,    0.035035,    0.036036,    0.037037,    0.038038,    0.039039,     0.04004,    0.041041,    0.042042,    0.043043,    0.044044,    0.045045,    0.046046,    0.047047,\n          0.048048,    0.049049,     0.05005,    0.051051,    0.052052,    0.053053,    0.054054,    0.055055,    0.056056,    0.057057,    0.058058,    0.059059,     0.06006,    0.061061,    0.062062,    0.063063,    0.064064,    0.065065,    0.066066,    0.067067,    0.068068,    0.069069,     0.07007,    0.071071,\n          0.072072,    0.073073,    0.074074,    0.075075,    0.076076,    0.077077,    0.078078,    0.079079,     0.08008,    0.081081,    0.082082,    0.083083,    0.084084,    0.085085,    0.086086,    0.087087,    0.088088,    0.089089,     0.09009,    0.091091,    0.092092,    0.093093,    0.094094,    0.095095,\n          0.096096,    0.097097,    0.098098,    0.099099,      0.1001,      0.1011,      0.1021,      0.1031,      0.1041,     0.10511,     0.10611,     0.10711,     0.10811,     0.10911,     0.11011,     0.11111,     0.11211,     0.11311,     0.11411,     0.11512,     0.11612,     0.11712,     0.11812,     0.11912,\n           0.12012,     0.12112,     0.12212,     0.12312,     0.12412,     0.12513,     0.12613,     0.12713,     0.12813,     0.12913,     0.13013,     0.13113,     0.13213,     0.13313,     0.13413,     0.13514,     0.13614,     0.13714,     0.13814,     0.13914,     0.14014,     0.14114,     0.14214,     0.14314,\n           0.14414,     0.14515,     0.14615,     0.14715,     0.14815,     0.14915,     0.15015,     0.15115,     0.15215,     0.15315,     0.15415,     0.15516,     0.15616,     0.15716,     0.15816,     0.15916,     0.16016,     0.16116,     0.16216,     0.16316,     0.16416,     0.16517,     0.16617,     0.16717,\n           0.16817,     0.16917,     0.17017,     0.17117,     0.17217,     0.17317,     0.17417,     0.17518,     0.17618,     0.17718,     0.17818,     0.17918,     0.18018,     0.18118,     0.18218,     0.18318,     0.18418,     0.18519,     0.18619,     0.18719,     0.18819,     0.18919,     0.19019,     0.19119,\n           0.19219,     0.19319,     0.19419,      0.1952,      0.1962,      0.1972,      0.1982,      0.1992,      0.2002,      0.2012,      0.2022,      0.2032,      0.2042,     0.20521,     0.20621,     0.20721,     0.20821,     0.20921,     0.21021,     0.21121,     0.21221,     0.21321,     0.21421,     0.21522,\n           0.21622,     0.21722,     0.21822,     0.21922,     0.22022,     0.22122,     0.22222,     0.22322,     0.22422,     0.22523,     0.22623,     0.22723,     0.22823,     0.22923,     0.23023,     0.23123,     0.23223,     0.23323,     0.23423,     0.23524,     0.23624,     0.23724,     0.23824,     0.23924,\n           0.24024,     0.24124,     0.24224,     0.24324,     0.24424,     0.24525,     0.24625,     0.24725,     0.24825,     0.24925,     0.25025,     0.25125,     0.25225,     0.25325,     0.25425,     0.25526,     0.25626,     0.25726,     0.25826,     0.25926,     0.26026,     0.26126,     0.26226,     0.26326,\n           0.26426,     0.26527,     0.26627,     0.26727,     0.26827,     0.26927,     0.27027,     0.27127,     0.27227,     0.27327,     0.27427,     0.27528,     0.27628,     0.27728,     0.27828,     0.27928,     0.28028,     0.28128,     0.28228,     0.28328,     0.28428,     0.28529,     0.28629,     0.28729,\n           0.28829,     0.28929,     0.29029,     0.29129,     0.29229,     0.29329,     0.29429,      0.2953,      0.2963,      0.2973,      0.2983,      0.2993,      0.3003,      0.3013,      0.3023,      0.3033,      0.3043,     0.30531,     0.30631,     0.30731,     0.30831,     0.30931,     0.31031,     0.31131,\n           0.31231,     0.31331,     0.31431,     0.31532,     0.31632,     0.31732,     0.31832,     0.31932,     0.32032,     0.32132,     0.32232,     0.32332,     0.32432,     0.32533,     0.32633,     0.32733,     0.32833,     0.32933,     0.33033,     0.33133,     0.33233,     0.33333,     0.33433,     0.33534,\n           0.33634,     0.33734,     0.33834,     0.33934,     0.34034,     0.34134,     0.34234,     0.34334,     0.34434,     0.34535,     0.34635,     0.34735,     0.34835,     0.34935,     0.35035,     0.35135,     0.35235,     0.35335,     0.35435,     0.35536,     0.35636,     0.35736,     0.35836,     0.35936,\n           0.36036,     0.36136,     0.36236,     0.36336,     0.36436,     0.36537,     0.36637,     0.36737,     0.36837,     0.36937,     0.37037,     0.37137,     0.37237,     0.37337,     0.37437,     0.37538,     0.37638,     0.37738,     0.37838,     0.37938,     0.38038,     0.38138,     0.38238,     0.38338,\n           0.38438,     0.38539,     0.38639,     0.38739,     0.38839,     0.38939,     0.39039,     0.39139,     0.39239,     0.39339,     0.39439,      0.3954,      0.3964,      0.3974,      0.3984,      0.3994,      0.4004,      0.4014,      0.4024,      0.4034,      0.4044,     0.40541,     0.40641,     0.40741,\n           0.40841,     0.40941,     0.41041,     0.41141,     0.41241,     0.41341,     0.41441,     0.41542,     0.41642,     0.41742,     0.41842,     0.41942,     0.42042,     0.42142,     0.42242,     0.42342,     0.42442,     0.42543,     0.42643,     0.42743,     0.42843,     0.42943,     0.43043,     0.43143,\n           0.43243,     0.43343,     0.43443,     0.43544,     0.43644,     0.43744,     0.43844,     0.43944,     0.44044,     0.44144,     0.44244,     0.44344,     0.44444,     0.44545,     0.44645,     0.44745,     0.44845,     0.44945,     0.45045,     0.45145,     0.45245,     0.45345,     0.45445,     0.45546,\n           0.45646,     0.45746,     0.45846,     0.45946,     0.46046,     0.46146,     0.46246,     0.46346,     0.46446,     0.46547,     0.46647,     0.46747,     0.46847,     0.46947,     0.47047,     0.47147,     0.47247,     0.47347,     0.47447,     0.47548,     0.47648,     0.47748,     0.47848,     0.47948,\n           0.48048,     0.48148,     0.48248,     0.48348,     0.48448,     0.48549,     0.48649,     0.48749,     0.48849,     0.48949,     0.49049,     0.49149,     0.49249,     0.49349,     0.49449,      0.4955,      0.4965,      0.4975,      0.4985,      0.4995,      0.5005,      0.5015,      0.5025,      0.5035,\n            0.5045,     0.50551,     0.50651,     0.50751,     0.50851,     0.50951,     0.51051,     0.51151,     0.51251,     0.51351,     0.51451,     0.51552,     0.51652,     0.51752,     0.51852,     0.51952,     0.52052,     0.52152,     0.52252,     0.52352,     0.52452,     0.52553,     0.52653,     0.52753,\n           0.52853,     0.52953,     0.53053,     0.53153,     0.53253,     0.53353,     0.53453,     0.53554,     0.53654,     0.53754,     0.53854,     0.53954,     0.54054,     0.54154,     0.54254,     0.54354,     0.54454,     0.54555,     0.54655,     0.54755,     0.54855,     0.54955,     0.55055,     0.55155,\n           0.55255,     0.55355,     0.55455,     0.55556,     0.55656,     0.55756,     0.55856,     0.55956,     0.56056,     0.56156,     0.56256,     0.56356,     0.56456,     0.56557,     0.56657,     0.56757,     0.56857,     0.56957,     0.57057,     0.57157,     0.57257,     0.57357,     0.57457,     0.57558,\n           0.57658,     0.57758,     0.57858,     0.57958,     0.58058,     0.58158,     0.58258,     0.58358,     0.58458,     0.58559,     0.58659,     0.58759,     0.58859,     0.58959,     0.59059,     0.59159,     0.59259,     0.59359,     0.59459,      0.5956,      0.5966,      0.5976,      0.5986,      0.5996,\n            0.6006,      0.6016,      0.6026,      0.6036,      0.6046,     0.60561,     0.60661,     0.60761,     0.60861,     0.60961,     0.61061,     0.61161,     0.61261,     0.61361,     0.61461,     0.61562,     0.61662,     0.61762,     0.61862,     0.61962,     0.62062,     0.62162,     0.62262,     0.62362,\n           0.62462,     0.62563,     0.62663,     0.62763,     0.62863,     0.62963,     0.63063,     0.63163,     0.63263,     0.63363,     0.63463,     0.63564,     0.63664,     0.63764,     0.63864,     0.63964,     0.64064,     0.64164,     0.64264,     0.64364,     0.64464,     0.64565,     0.64665,     0.64765,\n           0.64865,     0.64965,     0.65065,     0.65165,     0.65265,     0.65365,     0.65465,     0.65566,     0.65666,     0.65766,     0.65866,     0.65966,     0.66066,     0.66166,     0.66266,     0.66366,     0.66466,     0.66567,     0.66667,     0.66767,     0.66867,     0.66967,     0.67067,     0.67167,\n           0.67267,     0.67367,     0.67467,     0.67568,     0.67668,     0.67768,     0.67868,     0.67968,     0.68068,     0.68168,     0.68268,     0.68368,     0.68468,     0.68569,     0.68669,     0.68769,     0.68869,     0.68969,     0.69069,     0.69169,     0.69269,     0.69369,     0.69469,      0.6957,\n            0.6967,      0.6977,      0.6987,      0.6997,      0.7007,      0.7017,      0.7027,      0.7037,      0.7047,     0.70571,     0.70671,     0.70771,     0.70871,     0.70971,     0.71071,     0.71171,     0.71271,     0.71371,     0.71471,     0.71572,     0.71672,     0.71772,     0.71872,     0.71972,\n           0.72072,     0.72172,     0.72272,     0.72372,     0.72472,     0.72573,     0.72673,     0.72773,     0.72873,     0.72973,     0.73073,     0.73173,     0.73273,     0.73373,     0.73473,     0.73574,     0.73674,     0.73774,     0.73874,     0.73974,     0.74074,     0.74174,     0.74274,     0.74374,\n           0.74474,     0.74575,     0.74675,     0.74775,     0.74875,     0.74975,     0.75075,     0.75175,     0.75275,     0.75375,     0.75475,     0.75576,     0.75676,     0.75776,     0.75876,     0.75976,     0.76076,     0.76176,     0.76276,     0.76376,     0.76476,     0.76577,     0.76677,     0.76777,\n           0.76877,     0.76977,     0.77077,     0.77177,     0.77277,     0.77377,     0.77477,     0.77578,     0.77678,     0.77778,     0.77878,     0.77978,     0.78078,     0.78178,     0.78278,     0.78378,     0.78478,     0.78579,     0.78679,     0.78779,     0.78879,     0.78979,     0.79079,     0.79179,\n           0.79279,     0.79379,     0.79479,      0.7958,      0.7968,      0.7978,      0.7988,      0.7998,      0.8008,      0.8018,      0.8028,      0.8038,      0.8048,     0.80581,     0.80681,     0.80781,     0.80881,     0.80981,     0.81081,     0.81181,     0.81281,     0.81381,     0.81481,     0.81582,\n           0.81682,     0.81782,     0.81882,     0.81982,     0.82082,     0.82182,     0.82282,     0.82382,     0.82482,     0.82583,     0.82683,     0.82783,     0.82883,     0.82983,     0.83083,     0.83183,     0.83283,     0.83383,     0.83483,     0.83584,     0.83684,     0.83784,     0.83884,     0.83984,\n           0.84084,     0.84184,     0.84284,     0.84384,     0.84484,     0.84585,     0.84685,     0.84785,     0.84885,     0.84985,     0.85085,     0.85185,     0.85285,     0.85385,     0.85485,     0.85586,     0.85686,     0.85786,     0.85886,     0.85986,     0.86086,     0.86186,     0.86286,     0.86386,\n           0.86486,     0.86587,     0.86687,     0.86787,     0.86887,     0.86987,     0.87087,     0.87187,     0.87287,     0.87387,     0.87487,     0.87588,     0.87688,     0.87788,     0.87888,     0.87988,     0.88088,     0.88188,     0.88288,     0.88388,     0.88488,     0.88589,     0.88689,     0.88789,\n           0.88889,     0.88989,     0.89089,     0.89189,     0.89289,     0.89389,     0.89489,      0.8959,      0.8969,      0.8979,      0.8989,      0.8999,      0.9009,      0.9019,      0.9029,      0.9039,      0.9049,     0.90591,     0.90691,     0.90791,     0.90891,     0.90991,     0.91091,     0.91191,\n           0.91291,     0.91391,     0.91491,     0.91592,     0.91692,     0.91792,     0.91892,     0.91992,     0.92092,     0.92192,     0.92292,     0.92392,     0.92492,     0.92593,     0.92693,     0.92793,     0.92893,     0.92993,     0.93093,     0.93193,     0.93293,     0.93393,     0.93493,     0.93594,\n           0.93694,     0.93794,     0.93894,     0.93994,     0.94094,     0.94194,     0.94294,     0.94394,     0.94494,     0.94595,     0.94695,     0.94795,     0.94895,     0.94995,     0.95095,     0.95195,     0.95295,     0.95395,     0.95495,     0.95596,     0.95696,     0.95796,     0.95896,     0.95996,\n           0.96096,     0.96196,     0.96296,     0.96396,     0.96496,     0.96597,     0.96697,     0.96797,     0.96897,     0.96997,     0.97097,     0.97197,     0.97297,     0.97397,     0.97497,     0.97598,     0.97698,     0.97798,     0.97898,     0.97998,     0.98098,     0.98198,     0.98298,     0.98398,\n           0.98498,     0.98599,     0.98699,     0.98799,     0.98899,     0.98999,     0.99099,     0.99199,     0.99299,     0.99399,     0.99499,       0.996,       0.997,       0.998,       0.999,           1]), array([[    0.15152,     0.15152,     0.20405, ...,           0,           0,           0],\n       [    0.16461,     0.16461,     0.24999, ...,           0,           0,           0],\n       [    0.23904,     0.23904,     0.32482, ...,           0,           0,           0]]), 'Confidence', 'F1'], [array([          0,    0.001001,    0.002002,    0.003003,    0.004004,    0.005005,    0.006006,    0.007007,    0.008008,    0.009009,     0.01001,    0.011011,    0.012012,    0.013013,    0.014014,    0.015015,    0.016016,    0.017017,    0.018018,    0.019019,     0.02002,    0.021021,    0.022022,    0.023023,\n          0.024024,    0.025025,    0.026026,    0.027027,    0.028028,    0.029029,     0.03003,    0.031031,    0.032032,    0.033033,    0.034034,    0.035035,    0.036036,    0.037037,    0.038038,    0.039039,     0.04004,    0.041041,    0.042042,    0.043043,    0.044044,    0.045045,    0.046046,    0.047047,\n          0.048048,    0.049049,     0.05005,    0.051051,    0.052052,    0.053053,    0.054054,    0.055055,    0.056056,    0.057057,    0.058058,    0.059059,     0.06006,    0.061061,    0.062062,    0.063063,    0.064064,    0.065065,    0.066066,    0.067067,    0.068068,    0.069069,     0.07007,    0.071071,\n          0.072072,    0.073073,    0.074074,    0.075075,    0.076076,    0.077077,    0.078078,    0.079079,     0.08008,    0.081081,    0.082082,    0.083083,    0.084084,    0.085085,    0.086086,    0.087087,    0.088088,    0.089089,     0.09009,    0.091091,    0.092092,    0.093093,    0.094094,    0.095095,\n          0.096096,    0.097097,    0.098098,    0.099099,      0.1001,      0.1011,      0.1021,      0.1031,      0.1041,     0.10511,     0.10611,     0.10711,     0.10811,     0.10911,     0.11011,     0.11111,     0.11211,     0.11311,     0.11411,     0.11512,     0.11612,     0.11712,     0.11812,     0.11912,\n           0.12012,     0.12112,     0.12212,     0.12312,     0.12412,     0.12513,     0.12613,     0.12713,     0.12813,     0.12913,     0.13013,     0.13113,     0.13213,     0.13313,     0.13413,     0.13514,     0.13614,     0.13714,     0.13814,     0.13914,     0.14014,     0.14114,     0.14214,     0.14314,\n           0.14414,     0.14515,     0.14615,     0.14715,     0.14815,     0.14915,     0.15015,     0.15115,     0.15215,     0.15315,     0.15415,     0.15516,     0.15616,     0.15716,     0.15816,     0.15916,     0.16016,     0.16116,     0.16216,     0.16316,     0.16416,     0.16517,     0.16617,     0.16717,\n           0.16817,     0.16917,     0.17017,     0.17117,     0.17217,     0.17317,     0.17417,     0.17518,     0.17618,     0.17718,     0.17818,     0.17918,     0.18018,     0.18118,     0.18218,     0.18318,     0.18418,     0.18519,     0.18619,     0.18719,     0.18819,     0.18919,     0.19019,     0.19119,\n           0.19219,     0.19319,     0.19419,      0.1952,      0.1962,      0.1972,      0.1982,      0.1992,      0.2002,      0.2012,      0.2022,      0.2032,      0.2042,     0.20521,     0.20621,     0.20721,     0.20821,     0.20921,     0.21021,     0.21121,     0.21221,     0.21321,     0.21421,     0.21522,\n           0.21622,     0.21722,     0.21822,     0.21922,     0.22022,     0.22122,     0.22222,     0.22322,     0.22422,     0.22523,     0.22623,     0.22723,     0.22823,     0.22923,     0.23023,     0.23123,     0.23223,     0.23323,     0.23423,     0.23524,     0.23624,     0.23724,     0.23824,     0.23924,\n           0.24024,     0.24124,     0.24224,     0.24324,     0.24424,     0.24525,     0.24625,     0.24725,     0.24825,     0.24925,     0.25025,     0.25125,     0.25225,     0.25325,     0.25425,     0.25526,     0.25626,     0.25726,     0.25826,     0.25926,     0.26026,     0.26126,     0.26226,     0.26326,\n           0.26426,     0.26527,     0.26627,     0.26727,     0.26827,     0.26927,     0.27027,     0.27127,     0.27227,     0.27327,     0.27427,     0.27528,     0.27628,     0.27728,     0.27828,     0.27928,     0.28028,     0.28128,     0.28228,     0.28328,     0.28428,     0.28529,     0.28629,     0.28729,\n           0.28829,     0.28929,     0.29029,     0.29129,     0.29229,     0.29329,     0.29429,      0.2953,      0.2963,      0.2973,      0.2983,      0.2993,      0.3003,      0.3013,      0.3023,      0.3033,      0.3043,     0.30531,     0.30631,     0.30731,     0.30831,     0.30931,     0.31031,     0.31131,\n           0.31231,     0.31331,     0.31431,     0.31532,     0.31632,     0.31732,     0.31832,     0.31932,     0.32032,     0.32132,     0.32232,     0.32332,     0.32432,     0.32533,     0.32633,     0.32733,     0.32833,     0.32933,     0.33033,     0.33133,     0.33233,     0.33333,     0.33433,     0.33534,\n           0.33634,     0.33734,     0.33834,     0.33934,     0.34034,     0.34134,     0.34234,     0.34334,     0.34434,     0.34535,     0.34635,     0.34735,     0.34835,     0.34935,     0.35035,     0.35135,     0.35235,     0.35335,     0.35435,     0.35536,     0.35636,     0.35736,     0.35836,     0.35936,\n           0.36036,     0.36136,     0.36236,     0.36336,     0.36436,     0.36537,     0.36637,     0.36737,     0.36837,     0.36937,     0.37037,     0.37137,     0.37237,     0.37337,     0.37437,     0.37538,     0.37638,     0.37738,     0.37838,     0.37938,     0.38038,     0.38138,     0.38238,     0.38338,\n           0.38438,     0.38539,     0.38639,     0.38739,     0.38839,     0.38939,     0.39039,     0.39139,     0.39239,     0.39339,     0.39439,      0.3954,      0.3964,      0.3974,      0.3984,      0.3994,      0.4004,      0.4014,      0.4024,      0.4034,      0.4044,     0.40541,     0.40641,     0.40741,\n           0.40841,     0.40941,     0.41041,     0.41141,     0.41241,     0.41341,     0.41441,     0.41542,     0.41642,     0.41742,     0.41842,     0.41942,     0.42042,     0.42142,     0.42242,     0.42342,     0.42442,     0.42543,     0.42643,     0.42743,     0.42843,     0.42943,     0.43043,     0.43143,\n           0.43243,     0.43343,     0.43443,     0.43544,     0.43644,     0.43744,     0.43844,     0.43944,     0.44044,     0.44144,     0.44244,     0.44344,     0.44444,     0.44545,     0.44645,     0.44745,     0.44845,     0.44945,     0.45045,     0.45145,     0.45245,     0.45345,     0.45445,     0.45546,\n           0.45646,     0.45746,     0.45846,     0.45946,     0.46046,     0.46146,     0.46246,     0.46346,     0.46446,     0.46547,     0.46647,     0.46747,     0.46847,     0.46947,     0.47047,     0.47147,     0.47247,     0.47347,     0.47447,     0.47548,     0.47648,     0.47748,     0.47848,     0.47948,\n           0.48048,     0.48148,     0.48248,     0.48348,     0.48448,     0.48549,     0.48649,     0.48749,     0.48849,     0.48949,     0.49049,     0.49149,     0.49249,     0.49349,     0.49449,      0.4955,      0.4965,      0.4975,      0.4985,      0.4995,      0.5005,      0.5015,      0.5025,      0.5035,\n            0.5045,     0.50551,     0.50651,     0.50751,     0.50851,     0.50951,     0.51051,     0.51151,     0.51251,     0.51351,     0.51451,     0.51552,     0.51652,     0.51752,     0.51852,     0.51952,     0.52052,     0.52152,     0.52252,     0.52352,     0.52452,     0.52553,     0.52653,     0.52753,\n           0.52853,     0.52953,     0.53053,     0.53153,     0.53253,     0.53353,     0.53453,     0.53554,     0.53654,     0.53754,     0.53854,     0.53954,     0.54054,     0.54154,     0.54254,     0.54354,     0.54454,     0.54555,     0.54655,     0.54755,     0.54855,     0.54955,     0.55055,     0.55155,\n           0.55255,     0.55355,     0.55455,     0.55556,     0.55656,     0.55756,     0.55856,     0.55956,     0.56056,     0.56156,     0.56256,     0.56356,     0.56456,     0.56557,     0.56657,     0.56757,     0.56857,     0.56957,     0.57057,     0.57157,     0.57257,     0.57357,     0.57457,     0.57558,\n           0.57658,     0.57758,     0.57858,     0.57958,     0.58058,     0.58158,     0.58258,     0.58358,     0.58458,     0.58559,     0.58659,     0.58759,     0.58859,     0.58959,     0.59059,     0.59159,     0.59259,     0.59359,     0.59459,      0.5956,      0.5966,      0.5976,      0.5986,      0.5996,\n            0.6006,      0.6016,      0.6026,      0.6036,      0.6046,     0.60561,     0.60661,     0.60761,     0.60861,     0.60961,     0.61061,     0.61161,     0.61261,     0.61361,     0.61461,     0.61562,     0.61662,     0.61762,     0.61862,     0.61962,     0.62062,     0.62162,     0.62262,     0.62362,\n           0.62462,     0.62563,     0.62663,     0.62763,     0.62863,     0.62963,     0.63063,     0.63163,     0.63263,     0.63363,     0.63463,     0.63564,     0.63664,     0.63764,     0.63864,     0.63964,     0.64064,     0.64164,     0.64264,     0.64364,     0.64464,     0.64565,     0.64665,     0.64765,\n           0.64865,     0.64965,     0.65065,     0.65165,     0.65265,     0.65365,     0.65465,     0.65566,     0.65666,     0.65766,     0.65866,     0.65966,     0.66066,     0.66166,     0.66266,     0.66366,     0.66466,     0.66567,     0.66667,     0.66767,     0.66867,     0.66967,     0.67067,     0.67167,\n           0.67267,     0.67367,     0.67467,     0.67568,     0.67668,     0.67768,     0.67868,     0.67968,     0.68068,     0.68168,     0.68268,     0.68368,     0.68468,     0.68569,     0.68669,     0.68769,     0.68869,     0.68969,     0.69069,     0.69169,     0.69269,     0.69369,     0.69469,      0.6957,\n            0.6967,      0.6977,      0.6987,      0.6997,      0.7007,      0.7017,      0.7027,      0.7037,      0.7047,     0.70571,     0.70671,     0.70771,     0.70871,     0.70971,     0.71071,     0.71171,     0.71271,     0.71371,     0.71471,     0.71572,     0.71672,     0.71772,     0.71872,     0.71972,\n           0.72072,     0.72172,     0.72272,     0.72372,     0.72472,     0.72573,     0.72673,     0.72773,     0.72873,     0.72973,     0.73073,     0.73173,     0.73273,     0.73373,     0.73473,     0.73574,     0.73674,     0.73774,     0.73874,     0.73974,     0.74074,     0.74174,     0.74274,     0.74374,\n           0.74474,     0.74575,     0.74675,     0.74775,     0.74875,     0.74975,     0.75075,     0.75175,     0.75275,     0.75375,     0.75475,     0.75576,     0.75676,     0.75776,     0.75876,     0.75976,     0.76076,     0.76176,     0.76276,     0.76376,     0.76476,     0.76577,     0.76677,     0.76777,\n           0.76877,     0.76977,     0.77077,     0.77177,     0.77277,     0.77377,     0.77477,     0.77578,     0.77678,     0.77778,     0.77878,     0.77978,     0.78078,     0.78178,     0.78278,     0.78378,     0.78478,     0.78579,     0.78679,     0.78779,     0.78879,     0.78979,     0.79079,     0.79179,\n           0.79279,     0.79379,     0.79479,      0.7958,      0.7968,      0.7978,      0.7988,      0.7998,      0.8008,      0.8018,      0.8028,      0.8038,      0.8048,     0.80581,     0.80681,     0.80781,     0.80881,     0.80981,     0.81081,     0.81181,     0.81281,     0.81381,     0.81481,     0.81582,\n           0.81682,     0.81782,     0.81882,     0.81982,     0.82082,     0.82182,     0.82282,     0.82382,     0.82482,     0.82583,     0.82683,     0.82783,     0.82883,     0.82983,     0.83083,     0.83183,     0.83283,     0.83383,     0.83483,     0.83584,     0.83684,     0.83784,     0.83884,     0.83984,\n           0.84084,     0.84184,     0.84284,     0.84384,     0.84484,     0.84585,     0.84685,     0.84785,     0.84885,     0.84985,     0.85085,     0.85185,     0.85285,     0.85385,     0.85485,     0.85586,     0.85686,     0.85786,     0.85886,     0.85986,     0.86086,     0.86186,     0.86286,     0.86386,\n           0.86486,     0.86587,     0.86687,     0.86787,     0.86887,     0.86987,     0.87087,     0.87187,     0.87287,     0.87387,     0.87487,     0.87588,     0.87688,     0.87788,     0.87888,     0.87988,     0.88088,     0.88188,     0.88288,     0.88388,     0.88488,     0.88589,     0.88689,     0.88789,\n           0.88889,     0.88989,     0.89089,     0.89189,     0.89289,     0.89389,     0.89489,      0.8959,      0.8969,      0.8979,      0.8989,      0.8999,      0.9009,      0.9019,      0.9029,      0.9039,      0.9049,     0.90591,     0.90691,     0.90791,     0.90891,     0.90991,     0.91091,     0.91191,\n           0.91291,     0.91391,     0.91491,     0.91592,     0.91692,     0.91792,     0.91892,     0.91992,     0.92092,     0.92192,     0.92292,     0.92392,     0.92492,     0.92593,     0.92693,     0.92793,     0.92893,     0.92993,     0.93093,     0.93193,     0.93293,     0.93393,     0.93493,     0.93594,\n           0.93694,     0.93794,     0.93894,     0.93994,     0.94094,     0.94194,     0.94294,     0.94394,     0.94494,     0.94595,     0.94695,     0.94795,     0.94895,     0.94995,     0.95095,     0.95195,     0.95295,     0.95395,     0.95495,     0.95596,     0.95696,     0.95796,     0.95896,     0.95996,\n           0.96096,     0.96196,     0.96296,     0.96396,     0.96496,     0.96597,     0.96697,     0.96797,     0.96897,     0.96997,     0.97097,     0.97197,     0.97297,     0.97397,     0.97497,     0.97598,     0.97698,     0.97798,     0.97898,     0.97998,     0.98098,     0.98198,     0.98298,     0.98398,\n           0.98498,     0.98599,     0.98699,     0.98799,     0.98899,     0.98999,     0.99099,     0.99199,     0.99299,     0.99399,     0.99499,       0.996,       0.997,       0.998,       0.999,           1]), array([[   0.081967,    0.081967,     0.11362, ...,           1,           1,           1],\n       [   0.089686,    0.089686,     0.14285, ...,           1,           1,           1],\n       [    0.13575,     0.13575,      0.1939, ...,           1,           1,           1]]), 'Confidence', 'Precision'], [array([          0,    0.001001,    0.002002,    0.003003,    0.004004,    0.005005,    0.006006,    0.007007,    0.008008,    0.009009,     0.01001,    0.011011,    0.012012,    0.013013,    0.014014,    0.015015,    0.016016,    0.017017,    0.018018,    0.019019,     0.02002,    0.021021,    0.022022,    0.023023,\n          0.024024,    0.025025,    0.026026,    0.027027,    0.028028,    0.029029,     0.03003,    0.031031,    0.032032,    0.033033,    0.034034,    0.035035,    0.036036,    0.037037,    0.038038,    0.039039,     0.04004,    0.041041,    0.042042,    0.043043,    0.044044,    0.045045,    0.046046,    0.047047,\n          0.048048,    0.049049,     0.05005,    0.051051,    0.052052,    0.053053,    0.054054,    0.055055,    0.056056,    0.057057,    0.058058,    0.059059,     0.06006,    0.061061,    0.062062,    0.063063,    0.064064,    0.065065,    0.066066,    0.067067,    0.068068,    0.069069,     0.07007,    0.071071,\n          0.072072,    0.073073,    0.074074,    0.075075,    0.076076,    0.077077,    0.078078,    0.079079,     0.08008,    0.081081,    0.082082,    0.083083,    0.084084,    0.085085,    0.086086,    0.087087,    0.088088,    0.089089,     0.09009,    0.091091,    0.092092,    0.093093,    0.094094,    0.095095,\n          0.096096,    0.097097,    0.098098,    0.099099,      0.1001,      0.1011,      0.1021,      0.1031,      0.1041,     0.10511,     0.10611,     0.10711,     0.10811,     0.10911,     0.11011,     0.11111,     0.11211,     0.11311,     0.11411,     0.11512,     0.11612,     0.11712,     0.11812,     0.11912,\n           0.12012,     0.12112,     0.12212,     0.12312,     0.12412,     0.12513,     0.12613,     0.12713,     0.12813,     0.12913,     0.13013,     0.13113,     0.13213,     0.13313,     0.13413,     0.13514,     0.13614,     0.13714,     0.13814,     0.13914,     0.14014,     0.14114,     0.14214,     0.14314,\n           0.14414,     0.14515,     0.14615,     0.14715,     0.14815,     0.14915,     0.15015,     0.15115,     0.15215,     0.15315,     0.15415,     0.15516,     0.15616,     0.15716,     0.15816,     0.15916,     0.16016,     0.16116,     0.16216,     0.16316,     0.16416,     0.16517,     0.16617,     0.16717,\n           0.16817,     0.16917,     0.17017,     0.17117,     0.17217,     0.17317,     0.17417,     0.17518,     0.17618,     0.17718,     0.17818,     0.17918,     0.18018,     0.18118,     0.18218,     0.18318,     0.18418,     0.18519,     0.18619,     0.18719,     0.18819,     0.18919,     0.19019,     0.19119,\n           0.19219,     0.19319,     0.19419,      0.1952,      0.1962,      0.1972,      0.1982,      0.1992,      0.2002,      0.2012,      0.2022,      0.2032,      0.2042,     0.20521,     0.20621,     0.20721,     0.20821,     0.20921,     0.21021,     0.21121,     0.21221,     0.21321,     0.21421,     0.21522,\n           0.21622,     0.21722,     0.21822,     0.21922,     0.22022,     0.22122,     0.22222,     0.22322,     0.22422,     0.22523,     0.22623,     0.22723,     0.22823,     0.22923,     0.23023,     0.23123,     0.23223,     0.23323,     0.23423,     0.23524,     0.23624,     0.23724,     0.23824,     0.23924,\n           0.24024,     0.24124,     0.24224,     0.24324,     0.24424,     0.24525,     0.24625,     0.24725,     0.24825,     0.24925,     0.25025,     0.25125,     0.25225,     0.25325,     0.25425,     0.25526,     0.25626,     0.25726,     0.25826,     0.25926,     0.26026,     0.26126,     0.26226,     0.26326,\n           0.26426,     0.26527,     0.26627,     0.26727,     0.26827,     0.26927,     0.27027,     0.27127,     0.27227,     0.27327,     0.27427,     0.27528,     0.27628,     0.27728,     0.27828,     0.27928,     0.28028,     0.28128,     0.28228,     0.28328,     0.28428,     0.28529,     0.28629,     0.28729,\n           0.28829,     0.28929,     0.29029,     0.29129,     0.29229,     0.29329,     0.29429,      0.2953,      0.2963,      0.2973,      0.2983,      0.2993,      0.3003,      0.3013,      0.3023,      0.3033,      0.3043,     0.30531,     0.30631,     0.30731,     0.30831,     0.30931,     0.31031,     0.31131,\n           0.31231,     0.31331,     0.31431,     0.31532,     0.31632,     0.31732,     0.31832,     0.31932,     0.32032,     0.32132,     0.32232,     0.32332,     0.32432,     0.32533,     0.32633,     0.32733,     0.32833,     0.32933,     0.33033,     0.33133,     0.33233,     0.33333,     0.33433,     0.33534,\n           0.33634,     0.33734,     0.33834,     0.33934,     0.34034,     0.34134,     0.34234,     0.34334,     0.34434,     0.34535,     0.34635,     0.34735,     0.34835,     0.34935,     0.35035,     0.35135,     0.35235,     0.35335,     0.35435,     0.35536,     0.35636,     0.35736,     0.35836,     0.35936,\n           0.36036,     0.36136,     0.36236,     0.36336,     0.36436,     0.36537,     0.36637,     0.36737,     0.36837,     0.36937,     0.37037,     0.37137,     0.37237,     0.37337,     0.37437,     0.37538,     0.37638,     0.37738,     0.37838,     0.37938,     0.38038,     0.38138,     0.38238,     0.38338,\n           0.38438,     0.38539,     0.38639,     0.38739,     0.38839,     0.38939,     0.39039,     0.39139,     0.39239,     0.39339,     0.39439,      0.3954,      0.3964,      0.3974,      0.3984,      0.3994,      0.4004,      0.4014,      0.4024,      0.4034,      0.4044,     0.40541,     0.40641,     0.40741,\n           0.40841,     0.40941,     0.41041,     0.41141,     0.41241,     0.41341,     0.41441,     0.41542,     0.41642,     0.41742,     0.41842,     0.41942,     0.42042,     0.42142,     0.42242,     0.42342,     0.42442,     0.42543,     0.42643,     0.42743,     0.42843,     0.42943,     0.43043,     0.43143,\n           0.43243,     0.43343,     0.43443,     0.43544,     0.43644,     0.43744,     0.43844,     0.43944,     0.44044,     0.44144,     0.44244,     0.44344,     0.44444,     0.44545,     0.44645,     0.44745,     0.44845,     0.44945,     0.45045,     0.45145,     0.45245,     0.45345,     0.45445,     0.45546,\n           0.45646,     0.45746,     0.45846,     0.45946,     0.46046,     0.46146,     0.46246,     0.46346,     0.46446,     0.46547,     0.46647,     0.46747,     0.46847,     0.46947,     0.47047,     0.47147,     0.47247,     0.47347,     0.47447,     0.47548,     0.47648,     0.47748,     0.47848,     0.47948,\n           0.48048,     0.48148,     0.48248,     0.48348,     0.48448,     0.48549,     0.48649,     0.48749,     0.48849,     0.48949,     0.49049,     0.49149,     0.49249,     0.49349,     0.49449,      0.4955,      0.4965,      0.4975,      0.4985,      0.4995,      0.5005,      0.5015,      0.5025,      0.5035,\n            0.5045,     0.50551,     0.50651,     0.50751,     0.50851,     0.50951,     0.51051,     0.51151,     0.51251,     0.51351,     0.51451,     0.51552,     0.51652,     0.51752,     0.51852,     0.51952,     0.52052,     0.52152,     0.52252,     0.52352,     0.52452,     0.52553,     0.52653,     0.52753,\n           0.52853,     0.52953,     0.53053,     0.53153,     0.53253,     0.53353,     0.53453,     0.53554,     0.53654,     0.53754,     0.53854,     0.53954,     0.54054,     0.54154,     0.54254,     0.54354,     0.54454,     0.54555,     0.54655,     0.54755,     0.54855,     0.54955,     0.55055,     0.55155,\n           0.55255,     0.55355,     0.55455,     0.55556,     0.55656,     0.55756,     0.55856,     0.55956,     0.56056,     0.56156,     0.56256,     0.56356,     0.56456,     0.56557,     0.56657,     0.56757,     0.56857,     0.56957,     0.57057,     0.57157,     0.57257,     0.57357,     0.57457,     0.57558,\n           0.57658,     0.57758,     0.57858,     0.57958,     0.58058,     0.58158,     0.58258,     0.58358,     0.58458,     0.58559,     0.58659,     0.58759,     0.58859,     0.58959,     0.59059,     0.59159,     0.59259,     0.59359,     0.59459,      0.5956,      0.5966,      0.5976,      0.5986,      0.5996,\n            0.6006,      0.6016,      0.6026,      0.6036,      0.6046,     0.60561,     0.60661,     0.60761,     0.60861,     0.60961,     0.61061,     0.61161,     0.61261,     0.61361,     0.61461,     0.61562,     0.61662,     0.61762,     0.61862,     0.61962,     0.62062,     0.62162,     0.62262,     0.62362,\n           0.62462,     0.62563,     0.62663,     0.62763,     0.62863,     0.62963,     0.63063,     0.63163,     0.63263,     0.63363,     0.63463,     0.63564,     0.63664,     0.63764,     0.63864,     0.63964,     0.64064,     0.64164,     0.64264,     0.64364,     0.64464,     0.64565,     0.64665,     0.64765,\n           0.64865,     0.64965,     0.65065,     0.65165,     0.65265,     0.65365,     0.65465,     0.65566,     0.65666,     0.65766,     0.65866,     0.65966,     0.66066,     0.66166,     0.66266,     0.66366,     0.66466,     0.66567,     0.66667,     0.66767,     0.66867,     0.66967,     0.67067,     0.67167,\n           0.67267,     0.67367,     0.67467,     0.67568,     0.67668,     0.67768,     0.67868,     0.67968,     0.68068,     0.68168,     0.68268,     0.68368,     0.68468,     0.68569,     0.68669,     0.68769,     0.68869,     0.68969,     0.69069,     0.69169,     0.69269,     0.69369,     0.69469,      0.6957,\n            0.6967,      0.6977,      0.6987,      0.6997,      0.7007,      0.7017,      0.7027,      0.7037,      0.7047,     0.70571,     0.70671,     0.70771,     0.70871,     0.70971,     0.71071,     0.71171,     0.71271,     0.71371,     0.71471,     0.71572,     0.71672,     0.71772,     0.71872,     0.71972,\n           0.72072,     0.72172,     0.72272,     0.72372,     0.72472,     0.72573,     0.72673,     0.72773,     0.72873,     0.72973,     0.73073,     0.73173,     0.73273,     0.73373,     0.73473,     0.73574,     0.73674,     0.73774,     0.73874,     0.73974,     0.74074,     0.74174,     0.74274,     0.74374,\n           0.74474,     0.74575,     0.74675,     0.74775,     0.74875,     0.74975,     0.75075,     0.75175,     0.75275,     0.75375,     0.75475,     0.75576,     0.75676,     0.75776,     0.75876,     0.75976,     0.76076,     0.76176,     0.76276,     0.76376,     0.76476,     0.76577,     0.76677,     0.76777,\n           0.76877,     0.76977,     0.77077,     0.77177,     0.77277,     0.77377,     0.77477,     0.77578,     0.77678,     0.77778,     0.77878,     0.77978,     0.78078,     0.78178,     0.78278,     0.78378,     0.78478,     0.78579,     0.78679,     0.78779,     0.78879,     0.78979,     0.79079,     0.79179,\n           0.79279,     0.79379,     0.79479,      0.7958,      0.7968,      0.7978,      0.7988,      0.7998,      0.8008,      0.8018,      0.8028,      0.8038,      0.8048,     0.80581,     0.80681,     0.80781,     0.80881,     0.80981,     0.81081,     0.81181,     0.81281,     0.81381,     0.81481,     0.81582,\n           0.81682,     0.81782,     0.81882,     0.81982,     0.82082,     0.82182,     0.82282,     0.82382,     0.82482,     0.82583,     0.82683,     0.82783,     0.82883,     0.82983,     0.83083,     0.83183,     0.83283,     0.83383,     0.83483,     0.83584,     0.83684,     0.83784,     0.83884,     0.83984,\n           0.84084,     0.84184,     0.84284,     0.84384,     0.84484,     0.84585,     0.84685,     0.84785,     0.84885,     0.84985,     0.85085,     0.85185,     0.85285,     0.85385,     0.85485,     0.85586,     0.85686,     0.85786,     0.85886,     0.85986,     0.86086,     0.86186,     0.86286,     0.86386,\n           0.86486,     0.86587,     0.86687,     0.86787,     0.86887,     0.86987,     0.87087,     0.87187,     0.87287,     0.87387,     0.87487,     0.87588,     0.87688,     0.87788,     0.87888,     0.87988,     0.88088,     0.88188,     0.88288,     0.88388,     0.88488,     0.88589,     0.88689,     0.88789,\n           0.88889,     0.88989,     0.89089,     0.89189,     0.89289,     0.89389,     0.89489,      0.8959,      0.8969,      0.8979,      0.8989,      0.8999,      0.9009,      0.9019,      0.9029,      0.9039,      0.9049,     0.90591,     0.90691,     0.90791,     0.90891,     0.90991,     0.91091,     0.91191,\n           0.91291,     0.91391,     0.91491,     0.91592,     0.91692,     0.91792,     0.91892,     0.91992,     0.92092,     0.92192,     0.92292,     0.92392,     0.92492,     0.92593,     0.92693,     0.92793,     0.92893,     0.92993,     0.93093,     0.93193,     0.93293,     0.93393,     0.93493,     0.93594,\n           0.93694,     0.93794,     0.93894,     0.93994,     0.94094,     0.94194,     0.94294,     0.94394,     0.94494,     0.94595,     0.94695,     0.94795,     0.94895,     0.94995,     0.95095,     0.95195,     0.95295,     0.95395,     0.95495,     0.95596,     0.95696,     0.95796,     0.95896,     0.95996,\n           0.96096,     0.96196,     0.96296,     0.96396,     0.96496,     0.96597,     0.96697,     0.96797,     0.96897,     0.96997,     0.97097,     0.97197,     0.97297,     0.97397,     0.97497,     0.97598,     0.97698,     0.97798,     0.97898,     0.97998,     0.98098,     0.98198,     0.98298,     0.98398,\n           0.98498,     0.98599,     0.98699,     0.98799,     0.98899,     0.98999,     0.99099,     0.99199,     0.99299,     0.99399,     0.99499,       0.996,       0.997,       0.998,       0.999,           1]), array([[          1,           1,           1, ...,           0,           0,           0],\n       [          1,           1,           1, ...,           0,           0,           0],\n       [          1,           1,           1, ...,           0,           0,           0]]), 'Confidence', 'Recall']]\nfitness: 0.5167989358282311\nkeys: ['metrics/precision(B)', 'metrics/recall(B)', 'metrics/mAP50(B)', 'metrics/mAP50-95(B)']\nmaps: array([    0.47109,     0.38415,     0.57584])\nnames: {0: 'munchkin_cat', 1: 'scottish_fold', 2: 'siberian_cat'}\nplot: True\nresults_dict: {'metrics/precision(B)': 0.8501730708792664, 'metrics/recall(B)': 0.8347759062864512, 'metrics/mAP50(B)': 0.8747624121725138, 'metrics/mAP50-95(B)': 0.4770252162344219, 'fitness': 0.5167989358282311}\nsave_dir: PosixPath('/kaggle/working/yolo_results/yolo11_cat_detector4')\nspeed: {'preprocess': 0.19848744706156568, 'inference': 11.234268741185694, 'loss': 0.0006506235235172104, 'postprocess': 2.4889624823545624}\ntask: 'detect'"
     },
     "metadata": {}
    }
   ],
   "execution_count": 6
  },
  {
   "cell_type": "code",
   "source": [
    "!pwd\n",
    "!cd yolo_results\n",
    "!pwd\n"
   ],
   "metadata": {
    "trusted": true,
    "execution": {
     "iopub.status.busy": "2025-05-10T13:13:23.435781Z",
     "iopub.execute_input": "2025-05-10T13:13:23.436513Z",
     "iopub.status.idle": "2025-05-10T13:13:23.939897Z",
     "shell.execute_reply.started": "2025-05-10T13:13:23.436490Z",
     "shell.execute_reply": "2025-05-10T13:13:23.938961Z"
    }
   },
   "outputs": [
    {
     "name": "stdout",
     "text": "/kaggle/working\n/bin/bash: line 1: cd: yolo_result: No such file or directory\n/kaggle/working\n",
     "output_type": "stream"
    }
   ],
   "execution_count": 27
  },
  {
   "cell_type": "code",
   "source": [
    "# !pip install -q ultralytics\n",
    "import os\n",
    "import cv2\n",
    "from ultralytics import YOLO\n",
    "\n",
    "# 1. Завантаження моделі\n",
    "model = YOLO('/kaggle/working/yolo_results/yolo11_cat_detector4/weights/best.pt')  # заміни на свій шлях\n",
    "\n",
    "# 2. Директорії для вводу/виводу\n",
    "input_dir = '/kaggle/input/media-samples/media-samples'  # директорія з відео\n",
    "output_dir = '/kaggle/working/output_media'\n",
    "os.makedirs(output_dir, exist_ok=True)\n",
    "\n",
    "# 3. Підтримувані формати\n",
    "video_exts = {'.mp4', '.avi', '.mov', '.mkv', '.webm'}\n",
    "\n",
    "# 4. Обробка відеофайлів\n",
    "for fname in os.listdir(input_dir):\n",
    "    input_path = os.path.join(input_dir, fname)\n",
    "    name, ext = os.path.splitext(fname.lower())\n",
    "\n",
    "    if ext in video_exts:\n",
    "        cap = cv2.VideoCapture(input_path)\n",
    "        if not cap.isOpened():\n",
    "            print(f\"[!] Неможливо відкрити відео {fname}\")\n",
    "            continue\n",
    "\n",
    "        fps = cap.get(cv2.CAP_PROP_FPS)\n",
    "        width = int(cap.get(cv2.CAP_PROP_FRAME_WIDTH))\n",
    "        height = int(cap.get(cv2.CAP_PROP_FRAME_HEIGHT))\n",
    "\n",
    "        out_path = os.path.join(output_dir, f\"{name}_detected.mp4\")\n",
    "        fourcc = cv2.VideoWriter_fourcc(*'mp4v')\n",
    "        out = cv2.VideoWriter(out_path, fourcc, fps, (width, height))\n",
    "\n",
    "        frames_processed = 0\n",
    "        while True:\n",
    "            ret, frame = cap.read()\n",
    "            if not ret:\n",
    "                break\n",
    "\n",
    "            results = model(frame, verbose=False)\n",
    "            annotated_frame = results[0].plot()\n",
    "            out.write(annotated_frame)\n",
    "            frames_processed += 1\n",
    "\n",
    "        cap.release()\n",
    "        out.release()\n",
    "        print(f\"🎞️ Оброблено відео: {fname}, кадрів: {frames_processed}\")\n",
    "\n",
    "print(\"✅ Всі відеофайли оброблені. Збережено в 'output_media/'\")\n"
   ],
   "metadata": {
    "trusted": true,
    "execution": {
     "iopub.status.busy": "2025-05-11T13:35:19.179440Z",
     "iopub.execute_input": "2025-05-11T13:35:19.179762Z",
     "iopub.status.idle": "2025-05-11T13:37:35.269553Z",
     "shell.execute_reply.started": "2025-05-11T13:35:19.179741Z",
     "shell.execute_reply": "2025-05-11T13:37:35.268767Z"
    }
   },
   "outputs": [
    {
     "name": "stdout",
     "text": "🎞️ Оброблено відео: scottish_fold2.mp4, кадрів: 702\n🎞️ Оброблено відео: scottish_fold1.mp4, кадрів: 245\n🎞️ Оброблено відео: siberian_cat1.mp4, кадрів: 369\n🎞️ Оброблено відео: cat.mp4, кадрів: 481\n🎞️ Оброблено відео: siberian_cat.mp4, кадрів: 333\n✅ Всі відеофайли оброблені. Збережено в 'output_media/'\n",
     "output_type": "stream"
    }
   ],
   "execution_count": 11
  }
 ]
}
